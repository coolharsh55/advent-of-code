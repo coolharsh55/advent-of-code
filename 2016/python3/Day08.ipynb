{
 "cells": [
  {
   "cell_type": "markdown",
   "metadata": {},
   "source": [
    "# Day 8: Two-Factor Authentication\n",
    "\n",
    "author: Harshvardhan Pandit\n",
    "\n",
    "license: [MIT](https://opensource.org/licenses/MIT)\n",
    "\n",
    "[link to problem statement](http://adventofcode.com/2016/day/8)"
   ]
  },
  {
   "cell_type": "markdown",
   "metadata": {},
   "source": [
    "You come across a door implementing what you can only assume is an implementation of [two-factor authentication](https://en.wikipedia.org/wiki/Multi-factor_authentication) after a long game of [requirements](https://en.wikipedia.org/wiki/Requirement) [telephone](https://en.wikipedia.org/wiki/Chinese_whispers).\n",
    "\n",
    "To get past the door, you first swipe a keycard (no problem; there was one on a nearby desk). Then, it displays a code on a [little screen](https://www.google.com/search?q=tiny+lcd&tbm=isch), and you type that code on a keypad. Then, presumably, the door unlocks.\n",
    "\n",
    "Unfortunately, the screen has been smashed. After a few minutes, you've taken everything apart and figured out how it works. Now you just have to work out what the screen would have displayed.\n",
    "\n",
    "The magnetic strip on the card you swiped encodes a series of instructions for the screen; these instructions are your puzzle input. The screen is 50 pixels wide and 6 pixels tall, all of which start off, and is capable of three somewhat peculiar operations:\n",
    "\n",
    " - `rect AxB` turns on all of the pixels in a rectangle at the top-left of the screen which is `A` wide and `B` tall.\n",
    " - `rotate row y=A by B` shifts all of the pixels in `row A` (`0` is the _top_ row) _right_ by `B` pixels. Pixels that would fall off the right end appear at the left end of the row.\n",
    " - `rotate column x=A by B` shifts all of the pixels in `column A` (`0` is the _left_ column) _down_ by `B` pixels. Pixels that would fall off the bottom appear at the top of the column.\n",
    " \n",
    "For example, here is a simple sequence on a smaller screen:\n",
    "\n",
    "`rect 3x2` creates a small rectangle in the top-left corner:\n",
    "\n",
    "    ###....\n",
    "    ###....\n",
    "    .......\n",
    "    \n",
    "`rotate column x=1 by 1` rotates the second column down by one pixel:\n",
    "\n",
    "    #.#....\n",
    "    ###....\n",
    "    .#.....\n",
    "    \n",
    "`rotate row y=0 by 4` rotates the top row right by four pixels:\n",
    "\n",
    "    ....#.#\n",
    "    ###....\n",
    "    .#.....\n",
    "    \n",
    "`rotate row x=1 by 1` again rotates the second column down by one pixel, causing the bottom pixel to wrap back to the top:\n",
    "\n",
    "    .#..#.#\n",
    "    #.#....\n",
    "    .#.....\n",
    "    \n",
    "As you can see, this display technology is extremely powerful, and will soon dominate the tiny-code-displaying-screen market. That's what the advertisement on the back of the display tries to convince you, anyway.\n",
    "\n",
    "There seems to be an intermediate check of the voltage used by the display: after you swipe your card, if the screen did work, how many pixels should be lit?"
   ]
  },
  {
   "cell_type": "markdown",
   "metadata": {},
   "source": [
    "### Solution logic\n",
    "\n",
    "Since solving the problem depends on keeping track of the pixels on screen, we need to _store_ the display and track the pixels. An easy way to do this is to create a **tuple** for the display holding the pixels as a set of _boolean_ values. _True_ if the pixel is ON, and _False_ otherwise. We store the height of the display in two variables, *DISPLAY_ROWS* and *DISPLAY_COLS*.\n",
    "\n",
    "    display = [[False for i in range(0, DISPLAY_COLS)] for i in range(0, DISPLAY_ROWS)]\n",
    "    \n",
    "The **_rect_** function turns on all the pixels in the given area denoted by _A_ and _B_, starting form the top left corner of the display. So the function starts at _row 0, col 0_ and turns on all pixels until _row A, col B_. \n",
    "\n",
    "The **_rotate_** functions shift the pixels by the given offset. In case of _rows_, it shifts _right_, and in case of _columns_, it shifts _left_. Additionally, the display is _rotating_, as in the pixels that go out at the end are added back in towards the beginning.\n",
    "\n",
    "**_rotate row_** is fairly trivial to write since we are storing the display _row-wise_. We only need to cut (the technical term is _splice_) the row at the specified offset and put it back together with the order reversed.\n",
    "\n",
    "    rotate row A by B positions\n",
    "        row A = row[-B:] + row[:-B]\n",
    "\n",
    "The _negative offset_ in python trims the list from the other end, so it gets the last _B_ values with `row[-B:]` and everything except the last _B_ values with `row[:-B]` and then adds them together.\n",
    "\n",
    "**_rotate col_** requires the same operations, but by moving through _columns_, which means some fixed _index_ in every _row_.\n",
    "\n",
    "    rotate col A by B positions\n",
    "        col A = row[A] for all rows\n",
    "        treat col as row, and rotate row by B positions\n",
    "        copy col back to display\n",
    "\n",
    "\n",
    "**Parsing the input** - since the input is a fixed format line where we need to extract the values, we can use `regex` to match and extract the values. There is an `instructions` dictionary with `patterns` that have associated `handlers` to perform the correct operations.\n",
    "\n",
    "    instructions:\n",
    "        rect (\\d+)x(\\d+)'): rect - turn on pixels\n",
    "        rotate row y=(\\d+) by (\\d+): rotate_row - shift row\n",
    "        rotate column x=(\\d+) by (\\d+): rotate_col - shift col\n",
    "\n",
    "**Calculating lit pixels** is simply counting the number of `True` values in the display lists. Instead of using a `for` loop to iterate over it, we use the much handy `sum` function that counts all `truthy` values. "
   ]
  },
  {
   "cell_type": "markdown",
   "metadata": {},
   "source": [
    "**Creating the display matrix (or list of lists)**"
   ]
  },
  {
   "cell_type": "code",
   "execution_count": 1,
   "metadata": {
    "collapsed": true
   },
   "outputs": [],
   "source": [
    "DISPLAY_ROWS = 6   # screen is  6 pixels tall\n",
    "DISPLAY_COLS = 50  # screen is 50 pixels wide \n",
    "display = [  # set display pixels to False\n",
    "    [False for i in range(0, DISPLAY_COLS)]\n",
    "    for i in range(0, DISPLAY_ROWS)]"
   ]
  },
  {
   "cell_type": "markdown",
   "metadata": {},
   "source": [
    "**Instructions patterns and handlers**"
   ]
  },
  {
   "cell_type": "code",
   "execution_count": 2,
   "metadata": {
    "collapsed": false
   },
   "outputs": [],
   "source": [
    "def rect(display, a, b):\n",
    "    '''rect AxB turns on all of the pixels in a rectangle at the top-left of the screen which is A wide and B tall'''\n",
    "    # a: col b: row\n",
    "    for i in range(0, b):\n",
    "        for j in range(0, a):\n",
    "            display[i][j] = True\n",
    "\n",
    "            \n",
    "def rotate_row(display, a, b):\n",
    "    '''rotate row y=A by B shifts all of the pixels in row A (0 is the top row) right by B pixels'''\n",
    "    display[a] = display[a][-b:] + display[a][:-b]\n",
    "\n",
    "    \n",
    "def rotate_col(display, a, b):\n",
    "    '''rotate column x=A by B shifts all of the pixels in column A (0 is the left column) down by B pixels'''\n",
    "    new_col_a = [display[i][a] for i in range(DISPLAY_ROWS - b, DISPLAY_ROWS)]\n",
    "    new_col_b = [display[i][a] for i in range(0, DISPLAY_ROWS - b)]\n",
    "    new_col = new_col_a + new_col_b\n",
    "    for i in range(0, DISPLAY_ROWS):\n",
    "        display[i][a] = new_col[i]\n",
    "\n",
    "import re\n",
    "instructions = {\n",
    "    re.compile(r'rect (\\d+)x(\\d+)'): rect,\n",
    "    re.compile(r'rotate row y=(\\d+) by (\\d+)'): rotate_row,\n",
    "    re.compile(r'rotate column x=(\\d+) by (\\d+)'): rotate_col,\n",
    "}"
   ]
  },
  {
   "cell_type": "markdown",
   "metadata": {
    "collapsed": false
   },
   "source": [
    "**Retrieving the input**"
   ]
  },
  {
   "cell_type": "code",
   "execution_count": 3,
   "metadata": {
    "collapsed": true
   },
   "outputs": [],
   "source": [
    "with open('../inputs/day08.txt', 'r') as f:\n",
    "    data = [line.strip() for line in f.readlines()]\n",
    "#     TEST DATA from problem description\n",
    "#     data = [\n",
    "#         'rect 3x2',\n",
    "#         'rotate column x=1 by 1',\n",
    "#         'rotate row y=0 by 4',\n",
    "#         'rotate column x=1 by 1'\n",
    "#     ]"
   ]
  },
  {
   "cell_type": "code",
   "execution_count": 4,
   "metadata": {
    "collapsed": false
   },
   "outputs": [],
   "source": [
    "for line in data:\n",
    "    for pattern, handler in instructions.items():\n",
    "        match = pattern.match(line)\n",
    "        if match:\n",
    "            inputs = [int(i) for i in match.groups()]\n",
    "            handler(display, *inputs)\n",
    "            break\n",
    "    else:\n",
    "        print('ERROR', line)"
   ]
  },
  {
   "cell_type": "markdown",
   "metadata": {},
   "source": [
    "**Counting number of pixels that are ON**"
   ]
  },
  {
   "cell_type": "code",
   "execution_count": 5,
   "metadata": {
    "collapsed": false
   },
   "outputs": [
    {
     "data": {
      "text/plain": [
       "116"
      ]
     },
     "execution_count": 5,
     "metadata": {},
     "output_type": "execute_result"
    }
   ],
   "source": [
    "def display_pixels_lit(display):\n",
    "    '''return number of pixels that are ON'''\n",
    "    return sum(sum(row) for row in display)\n",
    "\n",
    "display_pixels_lit(display)"
   ]
  },
  {
   "cell_type": "markdown",
   "metadata": {},
   "source": [
    "## Part Two\n",
    "\n",
    "You notice that the screen is only capable of displaying capital letters; in the font it uses, each letter is 5 pixels wide and 6 tall.\n",
    "\n",
    "After you swipe your card, what code is the screen trying to display?"
   ]
  },
  {
   "cell_type": "markdown",
   "metadata": {},
   "source": [
    "### Solution logic\n",
    "\n",
    "To get the letters without any fuss, we simply print out the display on screen and then identify what letters are present and type them out. No fancy _letter shapes stored in data structures matched at runtime_. "
   ]
  },
  {
   "cell_type": "code",
   "execution_count": 6,
   "metadata": {
    "collapsed": false
   },
   "outputs": [
    {
     "name": "stdout",
     "output_type": "stream",
     "text": [
      "#..#.###...##....##.####.#....###...##..####.####.\n",
      "#..#.#..#.#..#....#.#....#....#..#.#..#.#.......#.\n",
      "#..#.#..#.#..#....#.###..#....###..#....###....#..\n",
      "#..#.###..#..#....#.#....#....#..#.#....#.....#...\n",
      "#..#.#....#..#.#..#.#....#....#..#.#..#.#....#....\n",
      ".##..#.....##...##..#....####.###...##..####.####.\n"
     ]
    }
   ],
   "source": [
    "def print_display(display):\n",
    "    for row in display:\n",
    "        print(''.join(['#' if i else '.' for i in row]))\n",
    "        \n",
    "print_display(display)"
   ]
  },
  {
   "cell_type": "markdown",
   "metadata": {},
   "source": [
    "== END =="
   ]
  }
 ],
 "metadata": {
  "kernelspec": {
   "display_name": "Python 3",
   "language": "python",
   "name": "python3"
  },
  "language_info": {
   "codemirror_mode": {
    "name": "ipython",
    "version": 3
   },
   "file_extension": ".py",
   "mimetype": "text/x-python",
   "name": "python",
   "nbconvert_exporter": "python",
   "pygments_lexer": "ipython3",
   "version": "3.5.2"
  }
 },
 "nbformat": 4,
 "nbformat_minor": 1
}
