{
 "cells": [
  {
   "cell_type": "markdown",
   "metadata": {},
   "source": [
    "# Day 4: Security Through Obscurity\n",
    "\n",
    "author: Harshvardhan Pandit\n",
    "\n",
    "license: [MIT](https://opensource.org/licenses/MIT)\n",
    "\n",
    "[link to problem statement](http://adventofcode.com/2016/day/4)"
   ]
  },
  {
   "cell_type": "markdown",
   "metadata": {},
   "source": [
    "Finally, you come across an information kiosk with a list of rooms. Of course, the list is encrypted and full of decoy data, but the instructions to decode the list are barely hidden nearby. Better remove the decoy data first.\n",
    "\n",
    "Each room consists of an encrypted name (lowercase letters separated by dashes) followed by a dash, a sector ID, and a checksum in square brackets.\n",
    "\n",
    "A room is real (not a decoy) if the checksum is the five most common letters in the encrypted name, in order, with ties broken by alphabetization. For example:\n",
    "\n",
    "`aaaaa-bbb-z-y-x-123[abxyz]` is a real room because the most common letters are `a (5), b (3)`, and then a tie between `x, y,` and `z`, which are listed alphabetically.\n",
    "\n",
    "`a-b-c-d-e-f-g-h-987[abcde]` is a real room because although the letters are all tied (1 of each), the first five are listed alphabetically.\n",
    "\n",
    "`not-a-real-room-404[oarel]` is a real room.\n",
    "\n",
    "`totally-real-room-200[decoy]` is not.\n",
    "\n",
    "Of the real rooms from the list above, the sum of their sector IDs is `1514`.\n",
    "\n",
    "What is the sum of the sector IDs of the real rooms?"
   ]
  },
  {
   "cell_type": "markdown",
   "metadata": {},
   "source": [
    "### Solution logic\n",
    "First of all, we need to separate the input into characters, sector ID and the checksum. Since the input tokens are of a fixed format, we'll use `regex`.\n",
    "\n",
    "The regular expression would be something of the following form.\n",
    "\n",
    "    ^([a-z\\-]+)(\\d+)\\[(\\w+)\\]$\n",
    "   \n",
    "Which translates to:\n",
    "    - `^` Starting at the line\n",
    "    - (([a-z])-)+ having multiple recurrences of groups containing lowercase characters followed by a dash\n",
    "    - (\\d+) followed by a sequence of numbers\n",
    "    - \\[(\\w+)\\] followed by a sequence of alphanumeric characters enclosed in square brackets\n",
    "    - $ End of line\n",
    "\n",
    "An excellent (online) resource to practice regular expression matching is [regex101](https://regex101.com/). Be sure to select _python_ as the language!\n",
    "\n",
    "#### Algorithm\n",
    "    - Initialize `sector_id_sum` to `0`\n",
    "    - Read in the input\n",
    "    - For each line:\n",
    "        - Tokenize using regex\n",
    "        - Strip dashes from characters\n",
    "        - Count character count\n",
    "        - Order by decreasing count, and increasing character for same count values\n",
    "        - Check if the checksum is a substring at position 0 in the character count string\n",
    "            - If it is, add its sector ID to the sector ID sum\n",
    "\n",
    "#### Counter\n",
    "Python has a nifty utility in the `collections` utility called `Counter`, which counts the occurences of an object as it is added to a dictionary. Basically, it is a modified dictionary, where if an item is not present, it's count is `0`, and every time an item is added to the dictionary, it's value is incremented by 1. \n",
    "\n",
    "We use this utility to count the character occurences in the characters token."
   ]
  },
  {
   "cell_type": "code",
   "execution_count": 1,
   "metadata": {
    "collapsed": false
   },
   "outputs": [],
   "source": [
    "import re\n",
    "pattern = re.compile(r'^([a-z\\-]+)(\\d+)\\[(\\w+)\\]$')"
   ]
  },
  {
   "cell_type": "markdown",
   "metadata": {},
   "source": [
    "Read in the input"
   ]
  },
  {
   "cell_type": "code",
   "execution_count": 2,
   "metadata": {
    "collapsed": true
   },
   "outputs": [],
   "source": [
    "with open('../inputs/day04.txt', 'r') as f:\n",
    "    data = [line.strip() for line in f.readlines()]"
   ]
  },
  {
   "cell_type": "markdown",
   "metadata": {},
   "source": [
    "Apply the algorithm. The answer will be in `sector_id_sum`."
   ]
  },
  {
   "cell_type": "code",
   "execution_count": 3,
   "metadata": {
    "collapsed": false
   },
   "outputs": [],
   "source": [
    "from collections import Counter\n",
    "\n",
    "sector_id_sum = 0\n",
    "\n",
    "for line in data:\n",
    "    match = pattern.match(line)\n",
    "    characters, sector_id, checksum = match.groups()\n",
    "    characters.replace('-','')\n",
    "    character_counter = Counter(characters.replace('-', ''))\n",
    "    character_checksum = ''.join(\n",
    "        [x[0] for x in sorted(\n",
    "                sorted(character_counter.items(), key=lambda x: x[0]), \n",
    "                key=lambda x: x[1], reverse=True)])\n",
    "    if character_checksum.startswith(checksum):\n",
    "        sector_id_sum += int(sector_id)"
   ]
  },
  {
   "cell_type": "markdown",
   "metadata": {},
   "source": [
    "I thought there is a need to explain this line, as it is quite long, and can be confusing.\n",
    "\n",
    "    character_checksum = ''.join(\n",
    "            [x[0] for x in sorted(\n",
    "                    sorted(character_counter.items(), key=lambda x: x[0]), \n",
    "                    key=lambda x: x[1], reverse=True)])\n",
    "\n",
    "Let's start from the outside:\n",
    "    - We want a checksum made up of characters ordered by the sequence, so the `join` method combines the characters from the inner list comprehensions\n",
    "    - The first `sorted` call sorts the items in a descending order based on the number of character occurences\n",
    "    - The second, or inner `sorted` call sorts the items in an ascending order based on the character themselves. This allows characters with equal occurences to be positioned according to their ASCII value (or position in the alphabet).\n",
    "    - The `character_counter.item()` call gets the character counts from the `Counter (dictionary)` as a list of tuples with the first attribute being the character, and the second being the count."
   ]
  },
  {
   "cell_type": "markdown",
   "metadata": {},
   "source": [
    "## Part Two\n",
    "With all the decoy data out of the way, it's time to decrypt this list and get moving.\n",
    "\n",
    "The room names are encrypted by a state-of-the-art [shift cipher](https://en.wikipedia.org/wiki/Caesar_cipher), which is nearly unbreakable without the right software. However, the information kiosk designers at Easter Bunny HQ were not expecting to deal with a master cryptographer like yourself.\n",
    "\n",
    "To decrypt a room name, rotate each letter forward through the alphabet a number of times equal to the room's sector ID. A becomes B, B becomes C, Z becomes A, and so on. Dashes become spaces.\n",
    "\n",
    "For example, the real name for `qzmt-zixmtkozy-ivhz-343` is `very encrypted name`.\n",
    "\n",
    "What is the sector ID of the room where North Pole objects are stored?"
   ]
  },
  {
   "cell_type": "markdown",
   "metadata": {},
   "source": [
    "### Solution logic\n",
    "The number `343` is absurd and high. Considering there are only `26` letters. So no matter how many times we rotate through them, we'll start over again. So it is better to rotate it a maximum of 26 times. Which can be done by using the `mod` function. The rotate function then simply becomes:\n",
    "\n",
    "    `(ord(x) - ord('a') + (sector_id % 26)) % 26`\n",
    "\n",
    "Here, `ord` gives the `ASCII` value of the character, and we shift it by sector_id (mod 26 to keep it from rotating), and then get the mod again in case the value flows over (goes from `z` back to `a`). Note, that we must subtract the `ASCII` value of `a` since we assume letter start from `0`. When converting from this value back to a character, we have to add the `ASCII` value of `a` back.\n",
    "\n",
    "    `chr(x + ord('a'))`\n",
    "\n",
    "#### Algorithm\n",
    "    - For every valid room\n",
    "        - apply the rotate function\n",
    "            - check if character is a letter\n",
    "            - otherwise replace with space\n",
    "        - join the characters to get room name\n",
    "        - store the room name and room ID\n",
    "\n",
    "The room name containing the north pole objects starts with `northpole`, so we search for that particular room, assgin the variable to it, and break out of the loop."
   ]
  },
  {
   "cell_type": "code",
   "execution_count": 4,
   "metadata": {
    "collapsed": false
   },
   "outputs": [],
   "source": [
    "for line in data:\n",
    "    match = pattern.match(line)\n",
    "    characters, sector_id, checksum = match.groups()\n",
    "    characters.replace('-',' ')\n",
    "    character_counter = Counter(characters.replace('-', ''))\n",
    "    character_checksum = ''.join(\n",
    "        [x[0] for x in sorted(\n",
    "                sorted(character_counter.items(), key=lambda x: x[0]), \n",
    "                key=lambda x: x[1], reverse=True)])\n",
    "    if not character_checksum.startswith(checksum):\n",
    "#         not a valid room\n",
    "        continue\n",
    "    \n",
    "#   Part Two\n",
    "    sector_id = int(sector_id)\n",
    "    room_name = []\n",
    "    for char in characters:\n",
    "        if not char.isalpha():\n",
    "            room_name.append(' ')\n",
    "            continue\n",
    "        char = (ord(char) - ord('a') + (sector_id % 26)) % 26\n",
    "        room_name.append(chr(char + ord('a')))\n",
    "    if 'northpole' in ''.join(room_name):\n",
    "        northpole_sector = sector_id\n",
    "        break"
   ]
  },
  {
   "cell_type": "markdown",
   "metadata": {},
   "source": [
    "== END =="
   ]
  }
 ],
 "metadata": {
  "kernelspec": {
   "display_name": "Python 3",
   "language": "python",
   "name": "python3"
  },
  "language_info": {
   "codemirror_mode": {
    "name": "ipython",
    "version": 3
   },
   "file_extension": ".py",
   "mimetype": "text/x-python",
   "name": "python",
   "nbconvert_exporter": "python",
   "pygments_lexer": "ipython3",
   "version": "3.5.2"
  }
 },
 "nbformat": 4,
 "nbformat_minor": 1
}
