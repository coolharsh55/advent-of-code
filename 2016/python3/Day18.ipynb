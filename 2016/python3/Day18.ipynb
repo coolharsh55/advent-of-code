{
 "cells": [
  {
   "cell_type": "markdown",
   "metadata": {},
   "source": [
    "# Day 18: Like a Rogue\n",
    "\n",
    "author: Harshvardhan Pandit\n",
    "\n",
    "license: [MIT](https://opensource.org/licenses/MIT)\n",
    "\n",
    "[link to problem statement](http://adventofcode.com/2016/day/18)"
   ]
  },
  {
   "cell_type": "markdown",
   "metadata": {},
   "source": [
    "As you enter this room, you hear a loud click! Some of the tiles in the floor here seem to be pressure plates for [traps](https://nethackwiki.com/wiki/Trap), and the trap you just triggered has run out of... whatever it tried to do to you. You doubt you'll be so lucky next time.\n",
    "\n",
    "Upon closer examination, the traps and safe tiles in this room seem to follow a pattern. The tiles are arranged into rows that are all the same width; you take note of the safe tiles `(.)` and traps `(^)` in the first row (your puzzle input).\n",
    "\n",
    "The type of tile (trapped or safe) in each row is based on the types of the tiles in the same position, and to either side of that position, in the previous row. (If either side is off either end of the row, it counts as \"safe\" because there isn't a trap embedded in the wall.)\n",
    "\n",
    "For example, suppose you know the first row (with tiles marked by letters) and want to determine the next row (with tiles marked by numbers):\n",
    "\n",
    "    ABCDE\n",
    "    12345\n",
    "\n",
    "The type of tile `2` is based on the types of tiles `A, B, and C`; the type of tile `5` is based on tiles `D, E`, and an imaginary `\"safe\"` tile. Let's call these three tiles from the previous row the `left, center, and right` tiles, respectively. Then, a new tile is a trap only in one of the following situations:\n",
    "\n",
    " - Its left and center tiles are traps, but its right tile is not.\n",
    " - Its center and right tiles are traps, but its left tile is not.\n",
    " - Only its left tile is a trap.\n",
    " - Only its right tile is a trap.\n",
    "\n",
    "In any other situation, the new tile is safe.\n",
    "\n",
    "Then, starting with the row `..^^.`, you can determine the next row by applying those rules to each new tile:\n",
    "\n",
    " - The leftmost character on the next row considers the left (nonexistent, so we assume \"safe\"), center (the first ., which means \"safe\"), and right (the second ., also \"safe\") tiles on the previous row. Because all of the trap rules require a trap in at least one of the previous three tiles, the first tile on this new row is also safe, ..\n",
    " - The second character on the next row considers its left `(.)`, center `(.)`, and right `(^)` tiles from the previous row. This matches the fourth rule: _only the right tile is a trap_. Therefore, the next tile in this new row is a trap, `^`.\n",
    " - The third character considers `.^^`, which matches the second trap rule: _its center and right tiles are traps, but its left tile is not_. Therefore, this tile is also a trap, ^.\n",
    " - The last two characters in this new row match the first and third rules, respectively, and so they are both also traps, `^`.\n",
    "\n",
    "After these steps, we now know the next row of tiles in the room: `.^^^^`. Then, we continue on to the next row, using the same rules, and get `^^..^`. After determining two new rows, our map looks like this:\n",
    "\n",
    "    ..^^.\n",
    "    .^^^^\n",
    "    ^^..^\n",
    "\n",
    "Here's a larger example with `ten` tiles per row and `ten` rows:\n",
    "\n",
    "    .^^.^.^^^^\n",
    "    ^^^...^..^\n",
    "    ^.^^.^.^^.\n",
    "    ..^^...^^^\n",
    "    .^^^^.^^.^\n",
    "    ^^..^.^^..\n",
    "    ^^^^..^^^.\n",
    "    ^..^^^^.^^\n",
    "    .^^^..^.^^\n",
    "    ^^.^^^..^^\n",
    "\n",
    "In ten rows, this larger example has `38` safe tiles.\n",
    "\n",
    "Starting with the map in your puzzle input, in a total of `40` rows (including the starting row), how many safe tiles are there?"
   ]
  },
  {
   "cell_type": "markdown",
   "metadata": {},
   "source": [
    "### Solution logic\n",
    "\n",
    "This is a _generation_ problem, where the generation of values is based on certain rules and/or inputs. In this case, the generation of a tile is based on the tiles around it in the previous row. Given the set of rules, we must generate a total of 40 rows and then count the 'safe' tiles.\n",
    "\n",
    "Each tile to be generated is based on the three tiles above it - one directly above it, one to its left, and one to its right. Based on the combination of these three tiles, we determine whether the new tile is safe or a trap."
   ]
  },
  {
   "cell_type": "markdown",
   "metadata": {},
   "source": [
    "#### Notations for tiles that are safe or are traps\n",
    "\n",
    "We use constants SAFE and TRAP to specify the type of tiles, and define functions that check the type."
   ]
  },
  {
   "cell_type": "code",
   "execution_count": 1,
   "metadata": {
    "collapsed": true
   },
   "outputs": [],
   "source": [
    "SAFE = '.'\n",
    "TRAP = '^'\n",
    "\n",
    "def is_safe(tile):\n",
    "    return tile == SAFE\n",
    "\n",
    "def is_trap(tile):\n",
    "    return tile == TRAP"
   ]
  },
  {
   "cell_type": "markdown",
   "metadata": {},
   "source": [
    "#### Edge cases\n",
    "\n",
    "There are edge cases when generating tiles that are in the first or the last position. In the first position, the left upper tile does not exist, in which case, we assume it to be safe. Same for the upper right tile for the tile in the last position.\n",
    "\n",
    "We create an _accessor_ method to get us the correct tile even when the index is out of bounds. Here we assume that all tiles out of bounds are 'safe'."
   ]
  },
  {
   "cell_type": "code",
   "execution_count": 2,
   "metadata": {
    "collapsed": true
   },
   "outputs": [],
   "source": [
    "def get_tile(row, index):\n",
    "    if 0 <= index < len(row):\n",
    "        return row[index]\n",
    "    return SAFE"
   ]
  },
  {
   "cell_type": "markdown",
   "metadata": {},
   "source": [
    "#### Rules\n",
    "\n",
    "There are four rules as specified by:\n",
    "\n",
    " - Its left and center tiles are traps, but its right tile is not.\n",
    " - Its center and right tiles are traps, but its left tile is not.\n",
    " - Only its left tile is a trap.\n",
    " - Only its right tile is a trap.\n",
    " \n",
    "Which, when written in an alternate form using the functions we wrote, becomes:\n",
    "\n",
    "    1. is_trap(left) and is_trap(center) and is_safe(right)\n",
    "    2. is_safe(left) and is_trap(center) and is_trap(right)\n",
    "    3. is_trap(left) and is_safe(center) and is_safe(right)\n",
    "    4. is_safe(left) and is_safe(center) and is_trap(right)\n",
    "\n",
    "A quick observation:\n",
    "\n",
    " - There are a total of four rules, and they are mirrors of each other - 1 & 4 and 2 & 3. We can exploit this condition by checking for only one of them.\n",
    " - Each set contains one of the two combinations - first and second are equal, but not to the third, or the inverse of this arrangement.\n",
    " \n",
    "Therefore, we can summarize these rules as:\n",
    "\n",
    "    left == center == (not right) OR (not left) == center == right\n",
    "\n",
    "Now whether the tiles are safe or traps, if they satisfy the given rules, then the new tile is a trap. Based on this, we create the `make_tile` method."
   ]
  },
  {
   "cell_type": "code",
   "execution_count": 3,
   "metadata": {
    "collapsed": true
   },
   "outputs": [],
   "source": [
    "def make_tile(previous_row, tile_index):\n",
    "    left = is_trap(get_tile(previous_row, tile_index - 1))\n",
    "    center = is_trap(get_tile(previous_row, tile_index))\n",
    "    right = is_trap(get_tile(previous_row, tile_index + 1))\n",
    "    if (left == center == (not right)) or ((not left) == center == right):\n",
    "        return TRAP\n",
    "    return SAFE"
   ]
  },
  {
   "cell_type": "markdown",
   "metadata": {},
   "source": [
    "#### Test data"
   ]
  },
  {
   "cell_type": "code",
   "execution_count": 4,
   "metadata": {
    "collapsed": false
   },
   "outputs": [
    {
     "name": "stdout",
     "output_type": "stream",
     "text": [
      "..^^.\n",
      ".^^^^\n",
      "^^..^\n"
     ]
    }
   ],
   "source": [
    "row = '..^^.'\n",
    "print(row)\n",
    "next_row = ''.join((make_tile(row, index) for index in range(len(row))))\n",
    "print(next_row)\n",
    "next_row = ''.join((make_tile(next_row, index) for index in range(len(next_row))))\n",
    "print(next_row)"
   ]
  },
  {
   "cell_type": "markdown",
   "metadata": {},
   "source": [
    "**Generating the 10 x 10 test data**"
   ]
  },
  {
   "cell_type": "code",
   "execution_count": 5,
   "metadata": {
    "collapsed": false
   },
   "outputs": [
    {
     "name": "stdout",
     "output_type": "stream",
     "text": [
      ".^^.^.^^^^\n",
      "^^^...^..^\n",
      "^.^^.^.^^.\n",
      "..^^...^^^\n",
      ".^^^^.^^.^\n",
      "^^..^.^^..\n",
      "^^^^..^^^.\n",
      "^..^^^^.^^\n",
      ".^^^..^.^^\n",
      "^^.^^^..^^\n"
     ]
    }
   ],
   "source": [
    "row = '.^^.^.^^^^'\n",
    "print(row)\n",
    "for _ in range(10 - 1):\n",
    "    row = ''.join((make_tile(row, index) for index in range(len(row))))\n",
    "    print(row)"
   ]
  },
  {
   "cell_type": "markdown",
   "metadata": {},
   "source": [
    "#### Running against the given input for 40 rows"
   ]
  },
  {
   "cell_type": "code",
   "execution_count": 6,
   "metadata": {
    "collapsed": false
   },
   "outputs": [],
   "source": [
    "with open('../inputs/Day18.txt', 'r') as f:\n",
    "    input_data = f.readline().strip()    "
   ]
  },
  {
   "cell_type": "code",
   "execution_count": 7,
   "metadata": {
    "collapsed": false
   },
   "outputs": [
    {
     "name": "stdout",
     "output_type": "stream",
     "text": [
      "answer 2013\n"
     ]
    }
   ],
   "source": [
    "safe_tiles = input_data.count(SAFE)\n",
    "row = input_data\n",
    "for _ in range(40 - 1):\n",
    "    row = ''.join((make_tile(row, index) for index in range(len(row))))\n",
    "    safe_tiles += row.count(SAFE)\n",
    "print('answer', safe_tiles)"
   ]
  },
  {
   "cell_type": "markdown",
   "metadata": {},
   "source": [
    "## Part Two\n",
    "\n",
    "How many safe tiles are there in a total of `400000` rows?"
   ]
  },
  {
   "cell_type": "code",
   "execution_count": 8,
   "metadata": {
    "collapsed": false
   },
   "outputs": [
    {
     "name": "stdout",
     "output_type": "stream",
     "text": [
      "answer 20006289\n"
     ]
    }
   ],
   "source": [
    "safe_tiles = input_data.count(SAFE)\n",
    "row = input_data\n",
    "for _ in range(400000 - 1):\n",
    "    row = ''.join((make_tile(row, index) for index in range(len(row))))\n",
    "    safe_tiles += row.count(SAFE)\n",
    "print('answer', safe_tiles)"
   ]
  },
  {
   "cell_type": "markdown",
   "metadata": {},
   "source": [
    "== END =="
   ]
  }
 ],
 "metadata": {
  "kernelspec": {
   "display_name": "Python 3",
   "language": "python",
   "name": "python3"
  },
  "language_info": {
   "codemirror_mode": {
    "name": "ipython",
    "version": 3
   },
   "file_extension": ".py",
   "mimetype": "text/x-python",
   "name": "python",
   "nbconvert_exporter": "python",
   "pygments_lexer": "ipython3",
   "version": "3.5.2"
  }
 },
 "nbformat": 4,
 "nbformat_minor": 1
}
