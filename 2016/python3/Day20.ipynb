{
 "cells": [
  {
   "cell_type": "markdown",
   "metadata": {},
   "source": [
    "# Day 20: Firewall Rules\n",
    "\n",
    "author: Harshvardhan Pandit\n",
    "\n",
    "license: [MIT](https://opensource.org/licenses/MIT)\n",
    "\n",
    "[link to problem statement](http://adventofcode.com/2016/day/20)"
   ]
  },
  {
   "cell_type": "markdown",
   "metadata": {},
   "source": [
    "You'd like to set up a small hidden computer here so you can use it to get back into the network later. However, the corporate firewall only allows communication with certain external [IP addresses](https://en.wikipedia.org/wiki/IPv4#Addressing).\n",
    "\n",
    "You've retrieved the list of blocked IPs from the firewall, but the list seems to be messy and poorly maintained, and it's not clear which IPs are allowed. Also, rather than being written in [dot-decimal](https://en.wikipedia.org/wiki/Dot-decimal_notation) notation, they are written as plain [32-bit](https://en.wikipedia.org/wiki/32-bit) integers, which can have any value from `0` through `4294967295`, inclusive.\n",
    "\n",
    "For example, suppose only the values 0 through 9 were valid, and that you retrieved the following blacklist:\n",
    "\n",
    "    5-8\n",
    "    0-2\n",
    "    4-7\n",
    "\n",
    "The blacklist specifies ranges of IPs (inclusive of both the start and end value) that are not allowed. Then, the only IPs that this firewall allows are `3` and `9`, since those are the only numbers not in any range.\n",
    "\n",
    "Given the list of blocked IPs you retrieved from the firewall (your puzzle input), what is the lowest-valued IP that is not blocked?"
   ]
  },
  {
   "cell_type": "markdown",
   "metadata": {},
   "source": [
    "### Solution logic\n",
    "\n",
    "We start from 0 and continue upwards. The input contains integer ranges that are considered to be blacklisted, so we can skip them. Once we get to a blacklist, we can skip directly to the end of the input. We check at each iteration whether our value lies in any of the blacklisted ranges. To make it simpler to find and work on things, we sort the input rules according to their starting value. This allows us to not check further values if our current value is greater than the rule's ending value."
   ]
  },
  {
   "cell_type": "markdown",
   "metadata": {},
   "source": [
    "#### Parsing rules from input"
   ]
  },
  {
   "cell_type": "code",
   "execution_count": 1,
   "metadata": {
    "collapsed": false
   },
   "outputs": [],
   "source": [
    "import re\n",
    "numbers = re.compile('(\\d+)')\n",
    "\n",
    "UPPER_LIMIT = 4294967295\n",
    "\n",
    "with open('../inputs/day20.txt', 'r') as f:\n",
    "    data = [\n",
    "        tuple(map(\n",
    "                int, numbers.findall(line))) \n",
    "        for line in f.readlines()]\n",
    "    data.sort()"
   ]
  },
  {
   "cell_type": "code",
   "execution_count": 2,
   "metadata": {
    "collapsed": false
   },
   "outputs": [
    {
     "name": "stdout",
     "output_type": "stream",
     "text": [
      "answer 4793564\n"
     ]
    }
   ],
   "source": [
    "rule_index = 0\n",
    "n = 0\n",
    "\n",
    "while n <= UPPER_LIMIT:\n",
    "    for i in range(rule_index, len(data)):\n",
    "        low, high = data[i]\n",
    "        if low <= n <= high:\n",
    "            n += 1\n",
    "            break\n",
    "    else:\n",
    "        print('answer', n)\n",
    "        break"
   ]
  },
  {
   "cell_type": "markdown",
   "metadata": {},
   "source": [
    "## Part Two\n",
    "\n",
    "How many IPs are allowed by the blacklist?"
   ]
  },
  {
   "cell_type": "markdown",
   "metadata": {},
   "source": [
    "### Solution logic\n",
    "\n",
    "Instead of breaking if none of the rules match, we keep a counter that we increment to count the number of IPs."
   ]
  },
  {
   "cell_type": "code",
   "execution_count": 3,
   "metadata": {
    "collapsed": false
   },
   "outputs": [
    {
     "name": "stdout",
     "output_type": "stream",
     "text": [
      "146\n"
     ]
    }
   ],
   "source": [
    "rule_index = 0\n",
    "n = 0\n",
    "ips = 0\n",
    "\n",
    "while n <= UPPER_LIMIT:\n",
    "    for i in range(rule_index, len(data)):\n",
    "        low, high = data[i]\n",
    "        if low <= n <= high:\n",
    "            n = high + 1\n",
    "            break\n",
    "    else:\n",
    "        ips += 1\n",
    "        n += 1\n",
    "\n",
    "print(ips)"
   ]
  },
  {
   "cell_type": "markdown",
   "metadata": {},
   "source": [
    "== END =="
   ]
  }
 ],
 "metadata": {
  "kernelspec": {
   "display_name": "Python 3",
   "language": "python",
   "name": "python3"
  },
  "language_info": {
   "codemirror_mode": {
    "name": "ipython",
    "version": 3
   },
   "file_extension": ".py",
   "mimetype": "text/x-python",
   "name": "python",
   "nbconvert_exporter": "python",
   "pygments_lexer": "ipython3",
   "version": "3.5.2"
  }
 },
 "nbformat": 4,
 "nbformat_minor": 1
}
