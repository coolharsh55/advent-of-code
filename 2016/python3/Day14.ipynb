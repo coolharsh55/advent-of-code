{
 "cells": [
  {
   "cell_type": "markdown",
   "metadata": {},
   "source": [
    "# Day 14: One-Time Pad\n",
    "\n",
    "author: Harshvardhan Pandit\n",
    "\n",
    "license: [MIT](https://opensource.org/licenses/MIT)\n",
    "\n",
    "[link to problem statement](http://adventofcode.com/2016/day/14)"
   ]
  },
  {
   "cell_type": "markdown",
   "metadata": {},
   "source": [
    "In order to communicate securely with Santa while you're on this mission, you've been using a [one-time pad](https://en.wikipedia.org/wiki/One-time_pad) that you [generate](https://en.wikipedia.org/wiki/Security_through_obscurity) using a pre-agreed algorithm. Unfortunately, you've run out of keys in your one-time pad, and so you need to generate some more.\n",
    "\n",
    "To generate keys, you first get a stream of random data by taking the [MD5](https://en.wikipedia.org/wiki/MD5) of a pre-arranged [salt](https://en.wikipedia.org/wiki/Salt_(cryptography) (your puzzle input) and an increasing integer index (starting with `0`, and represented in decimal); the resulting MD5 hash should be represented as a string of lowercase hexadecimal digits.\n",
    "\n",
    "However, not all of these `MD5` hashes are keys, and you need `64` new keys for your one-time pad. A hash is a key only if:\n",
    "\n",
    " - It contains three of the same character in a row, like `777`. Only consider the first such triplet in a hash.\n",
    " - One of the next `1000` hashes in the stream contains that same character five times in a row, like `77777`.\n",
    "\n",
    "Considering future hashes for five-of-a-kind sequences does not cause those hashes to be skipped; instead, regardless of whether the current hash is a key, always resume testing for keys starting with the very next hash.\n",
    "\n",
    "For example, if the pre-arranged salt is `abc`:\n",
    "\n",
    " - The first index which produces a triple is `18`, because the MD5 hash of `abc18` contains `...cc38887a5....` However, index `18` does not count as a key for your one-time pad, because none of the next thousand hashes (index `19` through index `1018`) contain `88888`.\n",
    " - The next index which produces a triple is `39`; the hash of `abc39` contains `eee`. It is also the first key: one of the next thousand hashes (the one at index `816`) contains `eeeee`.\n",
    " - None of the next six triples are keys, but the one after that, at index `92`, is: it contains `999` and index `200` contains `99999`.\n",
    " - Eventually, index `22728` meets all of the criteria to generate the 64th key.\n",
    "\n",
    "So, using our example salt of abc, index `22728` produces the `64th` key.\n",
    "\n",
    "Given the actual salt in your puzzle input, what index produces your 64th one-time pad key?"
   ]
  },
  {
   "cell_type": "markdown",
   "metadata": {},
   "source": [
    "### Solution logic\n",
    "\n",
    "Our salt is out input, we apply it increasingly to integers, take their MD5 hash, and if it contains a character repeating three times, we check if there is a hash in the next 1000 integers that features the same character 7 times, and if it does, then the integer we had is our key. Find 64 such keys, with the index of the 64th key being the answer. Seems simple and straightforward."
   ]
  },
  {
   "cell_type": "code",
   "execution_count": 1,
   "metadata": {
    "collapsed": false
   },
   "outputs": [],
   "source": [
    "import re\n",
    "three_repeating_characters = re.compile(r'(.)\\1{2}')"
   ]
  },
  {
   "cell_type": "code",
   "execution_count": 2,
   "metadata": {
    "collapsed": false
   },
   "outputs": [
    {
     "name": "stdout",
     "output_type": "stream",
     "text": [
      "cuanljph\n"
     ]
    }
   ],
   "source": [
    "with open('../inputs/day14.txt', 'r') as f:\n",
    "    salt = f.readline().strip()\n",
    "    # TEST DATA\n",
    "    # salt = 'abc'\n",
    "print(salt)"
   ]
  },
  {
   "cell_type": "markdown",
   "metadata": {},
   "source": [
    "**Hash index**\n",
    "\n",
    "To prevent the same hash from being counted upon again and again, we maintain a hash index to store the hashes of indexes. We also trim the index to remove any index for keys lower than the current key since we do not require those."
   ]
  },
  {
   "cell_type": "code",
   "execution_count": 3,
   "metadata": {
    "collapsed": false
   },
   "outputs": [],
   "source": [
    "import hashlib\n",
    "\n",
    "hash_index= {}\n",
    "\n",
    "def get_hash_string(key):\n",
    "    if key in hash_index:\n",
    "        return hash_index[key]\n",
    "    string = '{salt}{key}'.format(salt=salt, key=key)\n",
    "    md5 = hashlib.md5()\n",
    "    md5.update(string.encode('ascii'))\n",
    "    hashstring = md5.hexdigest()\n",
    "    hash_index[key] = hashstring\n",
    "    return hashstring\n",
    "\n",
    "def run():\n",
    "    keys = []\n",
    "    current_key = 0\n",
    "    while(len(keys) < 64):\n",
    "        for i in range(0, current_key):\n",
    "            hash_index.pop(i, None)\n",
    "        hashstring = get_hash_string(current_key)\n",
    "        repeating_chacter = three_repeating_characters.findall(hashstring)\n",
    "        if not repeating_chacter:\n",
    "            current_key += 1\n",
    "            continue\n",
    "        repeating_chacter = repeating_chacter[0]\n",
    "        repeating_character_five = ''.join(repeating_chacter for i in range(0, 5))\n",
    "        for qualifying_index in range(current_key + 1, current_key + 1001):\n",
    "            hashstring = get_hash_string(qualifying_index)\n",
    "            if repeating_character_five in hashstring:\n",
    "                break\n",
    "        else:\n",
    "            current_key += 1\n",
    "            continue\n",
    "        keys.append(current_key)\n",
    "        print(len(keys), current_key)\n",
    "        current_key += 1\n",
    "    return keys"
   ]
  },
  {
   "cell_type": "code",
   "execution_count": 4,
   "metadata": {
    "collapsed": false
   },
   "outputs": [
    {
     "name": "stdout",
     "output_type": "stream",
     "text": [
      "1 310\n",
      "2 399\n",
      "3 442\n",
      "4 479\n",
      "5 734\n",
      "6 847\n",
      "7 927\n",
      "8 1210\n",
      "9 1390\n",
      "10 1822\n",
      "11 1855\n",
      "12 2080\n",
      "13 2112\n",
      "14 2147\n",
      "15 2153\n",
      "16 2174\n",
      "17 6226\n",
      "18 6317\n",
      "19 6415\n",
      "20 6502\n",
      "21 6660\n",
      "22 6689\n",
      "23 6697\n",
      "24 6732\n",
      "25 6822\n",
      "26 7020\n",
      "27 7060\n",
      "28 7096\n",
      "29 7293\n",
      "30 7350\n",
      "31 7500\n",
      "32 7612\n",
      "33 7672\n",
      "34 7699\n",
      "35 7770\n",
      "36 7887\n",
      "37 7986\n",
      "38 8063\n",
      "39 8105\n",
      "40 8117\n",
      "41 8167\n",
      "42 8175\n",
      "43 8199\n",
      "44 8288\n",
      "45 8309\n",
      "46 8342\n",
      "47 8386\n",
      "48 8412\n",
      "49 8423\n",
      "50 8477\n",
      "51 11425\n",
      "52 11494\n",
      "53 11607\n",
      "54 11812\n",
      "55 12012\n",
      "56 19730\n",
      "57 19860\n",
      "58 19903\n",
      "59 20188\n",
      "60 20307\n",
      "61 20351\n",
      "62 23670\n",
      "63 23695\n",
      "64 23769\n",
      "answer 23769\n"
     ]
    }
   ],
   "source": [
    "print('answer', run()[63])"
   ]
  },
  {
   "cell_type": "markdown",
   "metadata": {},
   "source": [
    "## Part Two\n",
    "\n",
    "Of course, in order to make this process [even more secure](https://en.wikipedia.org/wiki/MD5#Security), you've also implemented [key stretching](https://en.wikipedia.org/wiki/Key_stretching).\n",
    "\n",
    "Key stretching forces attackers to spend more time generating hashes. Unfortunately, it forces everyone else to spend more time, too.\n",
    "\n",
    "To implement key stretching, whenever you generate a hash, before you use it, you first find the MD5 hash of that hash, then the MD5 hash of that hash, and so on, a total of 2016 additional hashings. Always use lowercase hexadecimal representations of hashes.\n",
    "\n",
    "For example, to find the stretched hash for index 0 and salt abc:\n",
    "\n",
    " - Find the MD5 hash of a`bc0`: `577571be4de9dcce85a041ba0410f29f`.\n",
    " - Then, find the MD5 hash of that hash: `eec80a0c92dc8a0777c619d9bb51e910`.\n",
    " - Then, find the MD5 hash of that hash: `16062ce768787384c81fe17a7a60c7e3`.\n",
    " - `...repeat many times...`\n",
    " - Then, find the MD5 hash of that hash: `a107ff634856bb300138cac6568c0f24`.\n",
    "\n",
    "So, the stretched hash for index `0` in this situation is `a107ff....` In the end, you find the original hash (one use of MD5), then find the hash-of-the-previous-hash `2016` times, for a total of `2017` uses of MD5.\n",
    "\n",
    "The rest of the process remains the same, but now the keys are entirely different. Again for salt abc:\n",
    "\n",
    " - The first triple (`222`, at index `5`) has no matching `22222` in the next thousand hashes.\n",
    " - The second triple (`eee`, at index `10`) hash a matching `eeeee` at index `89`, and so it is the first key.\n",
    " - Eventually, index `22551` produces the `64th` key (triple fff with matching fffff at index `22859`.\n",
    "\n",
    "Given the actual salt in your puzzle input and using 2016 extra MD5 calls of key stretching, what index now produces your 64th one-time pad key?"
   ]
  },
  {
   "cell_type": "markdown",
   "metadata": {},
   "source": [
    "### Solution logic\n",
    "\n",
    "We only need to change the definition of `get_hash_string` to calculate the hash 2016 times more. And then simply run the algorithm again. \n",
    "\n",
    "To prevent computationally intensive operations from repeating themselves, we maintain an index of hashes so that we can easily lookup indexes without needing to calculate their hashes."
   ]
  },
  {
   "cell_type": "code",
   "execution_count": 5,
   "metadata": {
    "collapsed": true
   },
   "outputs": [],
   "source": [
    "hash_index = {}\n",
    "\n",
    "def get_hash_string(key):\n",
    "    if key in hash_index:\n",
    "        return hash_index[key]\n",
    "    string = '{salt}{key}'.format(salt=salt, key=key)\n",
    "    md5 = hashlib.md5()\n",
    "    md5.update(string.encode('ascii'))\n",
    "    hashstring = md5.hexdigest()\n",
    "    # PART TWO\n",
    "    for i in range(0, 2016):\n",
    "        md5 = hashlib.md5()\n",
    "        md5.update(hashstring.encode('ascii'))\n",
    "        hashstring = md5.hexdigest()\n",
    "    hash_index[key] = hashstring\n",
    "    return hashstring"
   ]
  },
  {
   "cell_type": "code",
   "execution_count": 6,
   "metadata": {
    "collapsed": false
   },
   "outputs": [
    {
     "name": "stdout",
     "output_type": "stream",
     "text": [
      "1 26\n",
      "2 51\n",
      "3 128\n",
      "4 179\n",
      "5 289\n",
      "6 451\n",
      "7 516\n",
      "8 5164\n",
      "9 5228\n",
      "10 5688\n",
      "11 5739\n",
      "12 5820\n",
      "13 5835\n",
      "14 5944\n",
      "15 6571\n",
      "16 6610\n",
      "17 6717\n",
      "18 6951\n",
      "19 7154\n",
      "20 7206\n",
      "21 7208\n",
      "22 7249\n",
      "23 7252\n",
      "24 7256\n",
      "25 7302\n",
      "26 7320\n",
      "27 7519\n",
      "28 14227\n",
      "29 14669\n",
      "30 14707\n",
      "31 14795\n",
      "32 14809\n",
      "33 14859\n",
      "34 14890\n",
      "35 14923\n",
      "36 14979\n",
      "37 15046\n",
      "38 15163\n",
      "39 15170\n",
      "40 15268\n",
      "41 15304\n",
      "42 15334\n",
      "43 15415\n",
      "44 15444\n",
      "45 15496\n",
      "46 15498\n",
      "47 15594\n",
      "48 15658\n",
      "49 15828\n",
      "50 15936\n",
      "51 15939\n",
      "52 16025\n",
      "53 16105\n",
      "54 16771\n",
      "55 16851\n",
      "56 16980\n",
      "57 17323\n",
      "58 20072\n",
      "59 20141\n",
      "60 20331\n",
      "61 20357\n",
      "62 20410\n",
      "63 20498\n",
      "64 20606\n",
      "answer 20606\n"
     ]
    }
   ],
   "source": [
    "print('answer', run()[63])"
   ]
  },
  {
   "cell_type": "markdown",
   "metadata": {},
   "source": [
    "== END =="
   ]
  }
 ],
 "metadata": {
  "kernelspec": {
   "display_name": "Python 3",
   "language": "python",
   "name": "python3"
  },
  "language_info": {
   "codemirror_mode": {
    "name": "ipython",
    "version": 3
   },
   "file_extension": ".py",
   "mimetype": "text/x-python",
   "name": "python",
   "nbconvert_exporter": "python",
   "pygments_lexer": "ipython3",
   "version": "3.5.2"
  }
 },
 "nbformat": 4,
 "nbformat_minor": 1
}
