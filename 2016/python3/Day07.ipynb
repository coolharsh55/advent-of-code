{
 "cells": [
  {
   "cell_type": "markdown",
   "metadata": {},
   "source": [
    "# Day 7: Internet Protocol Version 7\n",
    "\n",
    "author: Harshvardhan Pandit\n",
    "\n",
    "license: [MIT](https://opensource.org/licenses/MIT)\n",
    "\n",
    "[link to problem statement](http://adventofcode.com/2016/day/7)"
   ]
  },
  {
   "cell_type": "markdown",
   "metadata": {},
   "source": [
    "While snooping around the local network of EBHQ, you compile a list of [IP addresses](https://en.wikipedia.org/wiki/IP_address) (they're IPv7, of course; [IPv6](https://en.wikipedia.org/wiki/IPv6) is much too limited). You'd like to figure out which IPs support TLS (transport-layer snooping).\n",
    "\n",
    "An IP supports TLS if it has an Autonomous Bridge Bypass Annotation, or ABBA. An ABBA is any four-character sequence which consists of a pair of two different characters followed by the reverse of that pair, such as xyyx or abba. However, the IP also must not have an ABBA within any hypernet sequences, which are contained by square brackets.\n",
    "\n",
    "For example:\n",
    "\n",
    "    - `abba[mnop]qrst` supports TLS (`abba` outside square brackets).\n",
    "    - `abcd[bddb]xyyx` does not support TLS (`bddb` is within square brackets, even though `xyyx` is outside square brackets).\n",
    "    - `aaaa[qwer]tyui` does not support TLS (`aaaa` is invalid; the interior characters must be different).\n",
    "    - `ioxxoj[asdfgh]zxcvbn` supports TLS (`oxxo` is outside square brackets, even though it's within a larger string).\n",
    "    \n",
    "How many IPs in your puzzle input support TLS?"
   ]
  },
  {
   "cell_type": "markdown",
   "metadata": {},
   "source": [
    "### Solution logic\n",
    "> My first intinct was to use regular expressions to check for palindromes of four characters in each of the three sections - the one before the brackets, within the brackets, and after the brackets. And then check if either of non-bracket sections contain a palindrome and the brackets don't. But then I realized that it would be far too complicated (not complex, but complicated), and its not the pythonic way to do things.\n",
    "\n",
    "Using regex to separate the sections (bracketed and non-bracketed, we need to check if any sequence of four characters is a palindrome, and that they are not equal. Non-bracketed sections must contain a palindrome, and the bracketed section must not. We write a function that checks for palindromes for length four in a given string, called `check_abba` that returns `True` or `False` depending on whether it satisfies the required condition.\n",
    "\n",
    "    pattern = r'(\\[?[a-z]+\\]?)'\n",
    "\n",
    "> After the first try, I realized that the input contains multiple brackets in a single IP. It always pays to look at the input, folks!\n",
    "\n",
    "#### Algorithm\n",
    "main:\n",
    "    - set counter = 0\n",
    "    - For every line of input:\n",
    "        - tokenize the string using regex\n",
    "        - if string starts and ends with brackets, put it in the bracketed list\n",
    "        - else put it in the non-bracketed list\n",
    "        - if any string in bracketed list return True for check_abba, skip this IP\n",
    "        - else if any string in non-bracketed list returns True for check_abba, increment counter\n",
    "\n",
    "check_abba:\n",
    "    - accepts a string\n",
    "    - returns boolean\n",
    "    - for each set of four characters in the string:\n",
    "        - if\n",
    "            first and fourth character are equal AND \n",
    "            second and third character are equal AND \n",
    "            first and second character are not equal:\n",
    "            - return True"
   ]
  },
  {
   "cell_type": "code",
   "execution_count": 1,
   "metadata": {
    "collapsed": false
   },
   "outputs": [],
   "source": [
    "def tokenize(string):\n",
    "    import re\n",
    "    pattern = re.compile(r'(\\[?[a-z]+\\]?)')\n",
    "    match = pattern.findall(string)\n",
    "    return match"
   ]
  },
  {
   "cell_type": "code",
   "execution_count": 2,
   "metadata": {
    "collapsed": true
   },
   "outputs": [],
   "source": [
    "def check_abba(string):\n",
    "    if len(string) < 4:\n",
    "        return False\n",
    "    for i in range(0, len(string) - 3):\n",
    "        if string[i] == string[i + 3] and string[i + 1] == string[i + 2] and string[i] != string[i + 1]:\n",
    "            return True\n",
    "    return False"
   ]
  },
  {
   "cell_type": "markdown",
   "metadata": {},
   "source": [
    "A little testing using the test data from the problem."
   ]
  },
  {
   "cell_type": "code",
   "execution_count": 3,
   "metadata": {
    "collapsed": false
   },
   "outputs": [
    {
     "name": "stdout",
     "output_type": "stream",
     "text": [
      "abba[mnop]qrst True\n",
      "ioxxoj[asdfgh]zxcvbn True\n"
     ]
    }
   ],
   "source": [
    "test_data = [\n",
    "    'abba[mnop]qrst',\n",
    "    'abcd[bddb]xyyx',\n",
    "    'aaaa[qwer]tyui',\n",
    "    'ioxxoj[asdfgh]zxcvbn',\n",
    "]\n",
    "for line in test_data:\n",
    "    tokens = tokenize(line)\n",
    "    bracketed = []\n",
    "    non_bracketed = []\n",
    "    for token in tokens:\n",
    "        if token.startswith('[') and token.endswith(']'):\n",
    "            bracketed.append(token)\n",
    "        else:\n",
    "            non_bracketed.append(token)\n",
    "    if any(check_abba(token) for token in bracketed):\n",
    "        continue\n",
    "    if any(check_abba(token) for token in non_bracketed):\n",
    "        print(line, True)"
   ]
  },
  {
   "cell_type": "markdown",
   "metadata": {},
   "source": [
    "Since the above works with test data, we go ahead and load the problem inputs."
   ]
  },
  {
   "cell_type": "code",
   "execution_count": 4,
   "metadata": {
    "collapsed": true
   },
   "outputs": [],
   "source": [
    "with open('../inputs/day07.txt', 'r') as f:\n",
    "    data = [line.strip() for line in f.readlines()]"
   ]
  },
  {
   "cell_type": "code",
   "execution_count": 5,
   "metadata": {
    "collapsed": false
   },
   "outputs": [],
   "source": [
    "counter = 0\n",
    "for line in data:\n",
    "    tokens = tokenize(line)\n",
    "    bracketed = []\n",
    "    non_bracketed = []\n",
    "    for token in tokens:\n",
    "        if token.startswith('[') and token.endswith(']'):\n",
    "            bracketed.append(token)\n",
    "        else:\n",
    "            non_bracketed.append(token)\n",
    "    if any(check_abba(token) for token in bracketed):\n",
    "        continue\n",
    "    if any(check_abba(token) for token in non_bracketed):\n",
    "        counter += 1"
   ]
  },
  {
   "cell_type": "markdown",
   "metadata": {},
   "source": [
    "## Part Two\n",
    "You would also like to know which IPs support SSL (super-secret listening).\n",
    "\n",
    "An IP supports SSL if it has an Area-Broadcast Accessor, or ABA, anywhere in the supernet sequences (outside any square bracketed sections), and a corresponding Byte Allocation Block, or BAB, anywhere in the hypernet sequences. An ABA is any three-character sequence which consists of the same character twice with a different character between them, such as xyx or aba. A corresponding BAB is the same characters but in reversed positions: yxy and bab, respectively.\n",
    "\n",
    "For example:\n",
    "\n",
    "    - `aba[bab]xyz` supports SSL (`aba` outside square brackets with corresponding `bab` within square brackets).\n",
    "    - `xyx[xyx]xyx- does not support SSL (`xyx`, but no corresponding `yxy`).\n",
    "    - `aaa[kek]eke` supports SSL (`eke` in supernet with corresponding `kek` in hypernet; the `aaa` sequence is not related, because the interior character must be different).\n",
    "    - `zazbz[bzb]cdb` supports SSL (`zaz` has no corresponding `aza`, but `zbz` has a corresponding `bzb`, even though `zaz` and `zbz` overlap).\n",
    "    \n",
    "How many IPs in your puzzle input support SSL?"
   ]
  },
  {
   "cell_type": "markdown",
   "metadata": {},
   "source": [
    "### Solution logic\n",
    "Instead of having a four-character palindrome, we now have two three-character palindromes, where their characters are interchanged. For any three-letter palindrome in a non-bracketed string, we have to check whether a corresponding palindrome exists in any bracketed string. If it exists, the IP supports SSL.\n",
    "\n",
    "Algorithm:\n",
    "\n",
    "**main:**\n",
    "    - set counter = 0\n",
    "    - for each line of input:\n",
    "        - tokenize line in to bracketed and non-bracketed tokens\n",
    "        - for each token in non-bracketed tokens:\n",
    "            - get ABA sequence\n",
    "            - for each token in bracketed tokens:\n",
    "                - check for BAB sequence\n",
    "                - if present, increment counter, move to next line\n",
    "\n",
    "**check_aba:**\n",
    "    - accepts string input\n",
    "    - returns a generator for every ABA sequence\n",
    "    - for i in range 0 to length of string - 2:\n",
    "        - if first character is same as third character but is different than second character:\n",
    "            - return string of the three characters\n",
    "\n",
    "**check_bab:**\n",
    "    - accepts string of length 3 and token list of items\n",
    "    - return True or False based on whether string is present in the list of tokens\n",
    "    - for each token in list:\n",
    "        - if string is present in token:\n",
    "            - return True\n",
    "    - otherwise return False"
   ]
  },
  {
   "cell_type": "code",
   "execution_count": 6,
   "metadata": {
    "collapsed": true
   },
   "outputs": [],
   "source": [
    "def check_aba(string):\n",
    "    if len(string) < 3:\n",
    "        return []\n",
    "    for i in range(0, len(string) - 2):\n",
    "        if string[i] == string[i + 2] and string[i] != string[i + 1]:\n",
    "            yield string[i] + string[i + 1] + string[i + 2]"
   ]
  },
  {
   "cell_type": "code",
   "execution_count": 7,
   "metadata": {
    "collapsed": false
   },
   "outputs": [],
   "source": [
    "def check_bab(string, token_list):\n",
    "    string = string[1] + string[0] + string[1]\n",
    "    return any(string in token for token in token_list)"
   ]
  },
  {
   "cell_type": "markdown",
   "metadata": {},
   "source": [
    "Test the approach using the provided test data"
   ]
  },
  {
   "cell_type": "code",
   "execution_count": 8,
   "metadata": {
    "collapsed": false
   },
   "outputs": [
    {
     "name": "stdout",
     "output_type": "stream",
     "text": [
      "SSL aba[bab]xyz\n",
      "SSL aaa[kek]eke\n",
      "SSL zazbz[bzb]cdb\n"
     ]
    }
   ],
   "source": [
    "counter = 0\n",
    "test_data = [\n",
    "    'aba[bab]xyz',\n",
    "    'xyx[xyx]xyx',\n",
    "    'aaa[kek]eke',\n",
    "    'zazbz[bzb]cdb',\n",
    "]\n",
    "for line in test_data:\n",
    "    tokens = tokenize(line)\n",
    "    bracketed = []\n",
    "    non_bracketed = []\n",
    "    for token in tokens:\n",
    "        if token.startswith('[') and token.endswith(']'):\n",
    "            bracketed.append(token)\n",
    "        else:\n",
    "            non_bracketed.append(token)\n",
    "    for token in non_bracketed:\n",
    "        ip_has_ssl = False\n",
    "        for string in check_aba(token):\n",
    "            if check_bab(string, bracketed):\n",
    "                print('SSL', line)\n",
    "                ip_has_ssl = True\n",
    "                break\n",
    "        if ip_has_ssl:\n",
    "            counter += 1\n",
    "            break"
   ]
  },
  {
   "cell_type": "markdown",
   "metadata": {},
   "source": [
    "Since it works with test data, let's use it on the problem input."
   ]
  },
  {
   "cell_type": "code",
   "execution_count": 9,
   "metadata": {
    "collapsed": false
   },
   "outputs": [],
   "source": [
    "counter = 0\n",
    "\n",
    "for line in data:\n",
    "    tokens = tokenize(line)\n",
    "    bracketed = []\n",
    "    non_bracketed = []\n",
    "    for token in tokens:\n",
    "        if token.startswith('[') and token.endswith(']'):\n",
    "            bracketed.append(token)\n",
    "        else:\n",
    "            non_bracketed.append(token)\n",
    "    for token in non_bracketed:\n",
    "        ip_has_ssl = False\n",
    "        for string in check_aba(token):\n",
    "            if check_bab(string, bracketed):\n",
    "                ip_has_ssl = True\n",
    "                break\n",
    "        if ip_has_ssl:\n",
    "            counter += 1\n",
    "            break\n",
    "\n",
    "answer = counter"
   ]
  },
  {
   "cell_type": "markdown",
   "metadata": {},
   "source": [
    "== END =="
   ]
  }
 ],
 "metadata": {
  "kernelspec": {
   "display_name": "Python 3",
   "language": "python",
   "name": "python3"
  },
  "language_info": {
   "codemirror_mode": {
    "name": "ipython",
    "version": 3
   },
   "file_extension": ".py",
   "mimetype": "text/x-python",
   "name": "python",
   "nbconvert_exporter": "python",
   "pygments_lexer": "ipython3",
   "version": "3.5.2"
  }
 },
 "nbformat": 4,
 "nbformat_minor": 1
}
