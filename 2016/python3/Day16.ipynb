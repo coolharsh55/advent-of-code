{
 "cells": [
  {
   "cell_type": "markdown",
   "metadata": {},
   "source": [
    "# Day 16: Dragon Checksum\n",
    "\n",
    "author: Harshvardhan Pandit\n",
    "\n",
    "license: [MIT](https://opensource.org/licenses/MIT)\n",
    "\n",
    "[link to problem statement](http://adventofcode.com/2016/day/16)"
   ]
  },
  {
   "cell_type": "markdown",
   "metadata": {},
   "source": [
    "You're done scanning this part of the network, but you've left traces of your presence. You need to overwrite some disks with random-looking data to cover your tracks and update the local security system with a new checksum for those disks.\n",
    "\n",
    "For the data to not be suspiscious, it needs to have certain properties; purely random data will be detected as tampering. To generate appropriate random data, you'll need to use a modified [dragon curve](https://en.wikipedia.org/wiki/Dragon_curve).\n",
    "\n",
    "Start with an appropriate initial state (your puzzle input). Then, so long as you don't have enough data yet to fill the disk, repeat the following steps:\n",
    "\n",
    " - Call the data you have at this point \"a\".\n",
    " - Make a copy of \"a\"; call this copy \"b\".\n",
    " - Reverse the order of the characters in \"b\".\n",
    " - In \"b\", replace all instances of 0 with 1 and all 1s with 0.\n",
    " - The resulting data is \"a\", then a single 0, then \"b\".\n",
    "\n",
    "For example, after a single step of this process,\n",
    "\n",
    " - `1` becomes `100`.\n",
    " - `0` becomes `001`.\n",
    " - `11111` becomes `11111000000`.\n",
    " - `111100001010` becomes `1111000010100101011110000`.\n",
    " \n",
    "Repeat these steps until you have enough data to fill the desired disk.\n",
    "\n",
    "Once the data has been generated, you also need to create a checksum of that data. Calculate the checksum only for the data that fits on the disk, even if you generated more data than that in the previous step.\n",
    "\n",
    "The checksum for some given data is created by considering each non-overlapping pair of characters in the input data. If the two characters match (00 or 11), the next checksum character is a 1. If the characters do not match (01 or 10), the next checksum character is a 0. This should produce a new string which is exactly half as long as the original. If the length of the checksum is even, repeat the process until you end up with a checksum with an odd length.\n",
    "\n",
    "For example, suppose we want to fill a disk of length `12`, and when we finally generate a string of at least length 12, the first 12 characters are `110010110100`. To generate its checksum:\n",
    "\n",
    " - Consider each pair: `11, 00, 10, 11, 01, 00`.\n",
    " - These are same, same, different, same, different, same, producing 110101.\n",
    " - The resulting string has length 6, which is even, so we repeat the process.\n",
    " - The pairs are 11 (same), 01 (different), 01 (different).\n",
    " - This produces the checksum 100, which has an odd length, so we stop.\n",
    "\n",
    "Therefore, the checksum for `110010110100` is `100`.\n",
    "\n",
    "Combining all of these steps together, suppose you want to fill a disk of length 20 using an initial state of `10000`:\n",
    "\n",
    " - Because `10000` is too short, we first use the modified dragon curve to make it longer.\n",
    " - After one round, it becomes `10000011110` (11 characters), still too short.\n",
    " - After two rounds, it becomes `10000011110010000111110` (23 characters), which is enough.\n",
    " - Since we only need 20, but we have 23, we get rid of all but the first 20 characters: `10000011110010000111`.\n",
    " - Next, we start calculating the checksum; after one round, we have `0111110101`, which 10 characters long (even), so we continue.\n",
    " - After two rounds, we have 01100, which is 5 characters long (odd), so we are done.\n",
    "\n",
    "In this example, the correct checksum would therefore be 01100.\n",
    "\n",
    "The first disk you have to fill has length `272`. Using the initial state in your puzzle input, what is the correct checksum?"
   ]
  },
  {
   "cell_type": "markdown",
   "metadata": {},
   "source": [
    "### Solution Logic\n",
    "\n",
    "At first look, this looks to be too trivial to be a problem for day 16. Surely, it is _far_ too easy to take a string, then create a reverse of it, flip its bits, and join it together with '0' in between. And continue doing so until it is at least of the specified length, after which we discard the remaining characters. The checksum is merely a '1' or '0' depending on whether the two characters are same are not. Oh, and once you've calculated that, you also need to check if the checksum is _even_, because if it is, then calculate it again.\n",
    "\n",
    "Since this is so _trivial_, I'll let the code speak for itself."
   ]
  },
  {
   "cell_type": "code",
   "execution_count": 1,
   "metadata": {
    "collapsed": true
   },
   "outputs": [],
   "source": [
    "DISK_LENGTH = 272"
   ]
  },
  {
   "cell_type": "code",
   "execution_count": 2,
   "metadata": {
    "collapsed": true
   },
   "outputs": [],
   "source": [
    "def invert(string):\n",
    "    return ''.join(('1' if x == '0' else '0' for x in string))"
   ]
  },
  {
   "cell_type": "code",
   "execution_count": 3,
   "metadata": {
    "collapsed": false
   },
   "outputs": [
    {
     "name": "stdout",
     "output_type": "stream",
     "text": [
      "000011110101\n"
     ]
    }
   ],
   "source": [
    "print(invert('111100001010'))"
   ]
  },
  {
   "cell_type": "code",
   "execution_count": 4,
   "metadata": {
    "collapsed": true
   },
   "outputs": [],
   "source": [
    "def fill_disk(string):\n",
    "    while(len(string) < DISK_LENGTH):\n",
    "        string = string + '0' + invert(string[::-1])\n",
    "    return string[:DISK_LENGTH]"
   ]
  },
  {
   "cell_type": "code",
   "execution_count": 5,
   "metadata": {
    "collapsed": false
   },
   "outputs": [],
   "source": [
    "with open('../inputs/day16.txt', 'r') as f:\n",
    "    input_data = f.readline().strip()\n",
    "    string = fill_disk(input_data)"
   ]
  },
  {
   "cell_type": "code",
   "execution_count": 6,
   "metadata": {
    "collapsed": false
   },
   "outputs": [
    {
     "name": "stdout",
     "output_type": "stream",
     "text": [
      "string length:  272\n",
      "11110010111001001001101100010110000011110010111001001101101100010110000011110010111001001001101100010110000111110010111001001101101100010110000011110010111001001001101100010110000011110010111001001101101100010110000111110010111001001001101100010110000111110010111001001101\n"
     ]
    }
   ],
   "source": [
    "print('string length: ', len(string))\n",
    "print(string)"
   ]
  },
  {
   "cell_type": "code",
   "execution_count": 7,
   "metadata": {
    "collapsed": true
   },
   "outputs": [],
   "source": [
    "def create_checksum(string):\n",
    "    checksum = []\n",
    "    for index in range(0, len(string), 2):\n",
    "        if string[index] == string[index + 1]:\n",
    "            checksum.append('1')\n",
    "        else:\n",
    "            checksum.append('0')\n",
    "    if len(checksum) % 2 == 0:\n",
    "        return create_checksum(checksum)\n",
    "    return ''.join(checksum)"
   ]
  },
  {
   "cell_type": "code",
   "execution_count": 8,
   "metadata": {
    "collapsed": false
   },
   "outputs": [],
   "source": [
    "checksum = create_checksum(string)"
   ]
  },
  {
   "cell_type": "code",
   "execution_count": 9,
   "metadata": {
    "collapsed": false
   },
   "outputs": [
    {
     "name": "stdout",
     "output_type": "stream",
     "text": [
      "checksum length 17\n",
      "01110011101111011\n"
     ]
    }
   ],
   "source": [
    "print('checksum length', len(checksum))\n",
    "print(checksum)"
   ]
  },
  {
   "cell_type": "markdown",
   "metadata": {
    "collapsed": true
   },
   "source": [
    "## Part Two\n",
    "\n",
    "The second disk you have to fill has length 35651584. Again using the initial state in your puzzle input, what is the correct checksum for this disk?"
   ]
  },
  {
   "cell_type": "code",
   "execution_count": 10,
   "metadata": {
    "collapsed": true
   },
   "outputs": [],
   "source": [
    "DISK_LENGTH = 35651584"
   ]
  },
  {
   "cell_type": "code",
   "execution_count": 11,
   "metadata": {
    "collapsed": false
   },
   "outputs": [],
   "source": [
    "string = fill_disk(input_data)"
   ]
  },
  {
   "cell_type": "code",
   "execution_count": 12,
   "metadata": {
    "collapsed": false
   },
   "outputs": [
    {
     "name": "stdout",
     "output_type": "stream",
     "text": [
      "string length:  35651584\n"
     ]
    }
   ],
   "source": [
    "print('string length: ', len(string))"
   ]
  },
  {
   "cell_type": "code",
   "execution_count": 13,
   "metadata": {
    "collapsed": true
   },
   "outputs": [],
   "source": [
    "checksum = create_checksum(string)"
   ]
  },
  {
   "cell_type": "code",
   "execution_count": 14,
   "metadata": {
    "collapsed": false
   },
   "outputs": [
    {
     "name": "stdout",
     "output_type": "stream",
     "text": [
      "checksum length 17\n",
      "11001111011000111\n"
     ]
    }
   ],
   "source": [
    "print('checksum length', len(checksum))\n",
    "print(checksum)"
   ]
  },
  {
   "cell_type": "markdown",
   "metadata": {},
   "source": [
    "== END =="
   ]
  }
 ],
 "metadata": {
  "kernelspec": {
   "display_name": "Python 3",
   "language": "python",
   "name": "python3"
  },
  "language_info": {
   "codemirror_mode": {
    "name": "ipython",
    "version": 3
   },
   "file_extension": ".py",
   "mimetype": "text/x-python",
   "name": "python",
   "nbconvert_exporter": "python",
   "pygments_lexer": "ipython3",
   "version": "3.5.2"
  }
 },
 "nbformat": 4,
 "nbformat_minor": 1
}
