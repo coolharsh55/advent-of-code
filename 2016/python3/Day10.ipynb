{
 "cells": [
  {
   "cell_type": "markdown",
   "metadata": {},
   "source": [
    "# Day 10: Balance Bots\n",
    "\n",
    "author: Harshvardhan Pandit\n",
    "\n",
    "license: [MIT](https://opensource.org/licenses/MIT)\n",
    "\n",
    "[link to problem statement](http://adventofcode.com/2016/day/10)"
   ]
  },
  {
   "cell_type": "markdown",
   "metadata": {},
   "source": [
    "You come upon a factory in which many robots are [zooming around](https://www.youtube.com/watch?v=JnkMyfQ5YfY&t=40) handing small microchips to each other.\n",
    "\n",
    "Upon closer examination, you notice that each bot only proceeds when it has **two** microchips, and once it does, it gives each one to a different bot or puts it in a marked \"_output_\" bin. Sometimes, bots take microchips from \"_input_\" bins, too.\n",
    "\n",
    "Inspecting one of the microchips, it seems like they each contain a single number; the bots must use some logic to decide what to do with each chip. You access the local control computer and download the bots' instructions (your puzzle input).\n",
    "\n",
    "Some of the instructions specify that a specific-valued microchip should be given to a specific bot; the rest of the instructions indicate what a given bot should do with its lower-value or higher-value chip.\n",
    "\n",
    "For example, consider the following instructions:\n",
    " - value `5` goes to bot `2`\n",
    " - bot `2` gives low to bot `1` and high to bot `0`\n",
    " - value `3` goes to bot `1`\n",
    " - bot `1` gives low to output `1` and high to bot `0`\n",
    " - bot `0` gives low to output `2` and high to output `0`\n",
    " - value `2` goes to bot `2`\n",
    " \n",
    "Which leads to:\n",
    " - Initially, bot `1` starts with a value-`3` chip, and bot `2` starts with a value-`2` chip and a value-`5` chip.\n",
    " - Because bot `2` has two microchips, it gives its lower one (`2`) to bot `1` and its higher one (`5`) to bot `0`.\n",
    " - Then, bot `1` has two microchips; it puts the value-`2` chip in output `1` and gives the value-`3` chip to bot `0`.\n",
    " - Finally, bot `0` has two microchips; it puts the `3` in output `2` and the `5` in output `0`.\n",
    "\n",
    "In the end, output bin `0` contains a value-`5` microchip, output bin `1` contains a value-`2` microchip, and output bin `2` contains a value-`3` microchip. In this configuration, bot number `2` is responsible for comparing value-`5` microchips with value-`2` microchips.\n",
    "\n",
    "Based on your instructions, what is the number of the bot that is responsible for comparing value-`61` microchips with value-`17` microchips?"
   ]
  },
  {
   "cell_type": "markdown",
   "metadata": {},
   "source": [
    "### Solution logic\n",
    "\n",
    "Let us first understand the requirements.\n",
    "\n",
    " - There are bots, which have certain properties, and actions. This is a good use case for modeling them using `class`.\n",
    " - Each bot can handle **two** chips.\n",
    " - If at any time a bot has **two** chips, the bot follows the rules specified in the instructions to hand over one or both chips to some other bots, or to the output bin as specified.\n",
    " \n",
    "The question is to find out which bot (number) is responsible for handling chips `61` and `17`, which means that both chips are with the bot at the same time.\n",
    "\n",
    "We model the bot class as:\n",
    "\n",
    "    Bot:\n",
    "    \n",
    "        attributes:\n",
    "            number\n",
    "            chips - 0, 1, 2\n",
    "            handle chips:\n",
    "                give low to <>\n",
    "                give high to <>\n",
    "                \n",
    "        actions:\n",
    "            take chip:\n",
    "                add chip to chips\n",
    "            handle chips:\n",
    "                if there are two chips:\n",
    "                    resolve which is lower and which is higher\n",
    "                    give chips to bots/bins specified by the rules            \n",
    "        \n",
    "Reading in the rules line by line, we add bots to the bot-list, and check at each iteration if a bot has two chips, whether they are the specified chips, and if yes, we get the answer as the bot number. We maintain two lists, one for the bots, and the other for output bins. The bots will be a dictionary addressed by the bot's number whose keys will be the class object. The output bins be a dictionary whose keys will be lists for holding chips in that particular output bin.\n",
    "\n",
    "Note: We always maintain the bot's chips in sorted order to "
   ]
  },
  {
   "cell_type": "markdown",
   "metadata": {},
   "source": [
    "**Reading in the input**"
   ]
  },
  {
   "cell_type": "code",
   "execution_count": 1,
   "metadata": {
    "collapsed": true
   },
   "outputs": [],
   "source": [
    "with open('../inputs/day10.txt', 'r') as f:\n",
    "    data = [line.strip() for line in f.readlines()]"
   ]
  },
  {
   "cell_type": "markdown",
   "metadata": {},
   "source": [
    "**Class Bot** to hold the bot instances"
   ]
  },
  {
   "cell_type": "code",
   "execution_count": 2,
   "metadata": {
    "collapsed": true
   },
   "outputs": [],
   "source": [
    "class Bot:\n",
    "    def __init__(self, number):\n",
    "        self.number = number\n",
    "        self.chips = []\n",
    "        self.give_low = None\n",
    "        self.give_high = None      \n",
    "    \n",
    "    def __repr__(self):\n",
    "        return 'number: %s chips: %s low: %s high: %s' % (self.number, self.chips, self.give_low, self.give_high)"
   ]
  },
  {
   "cell_type": "markdown",
   "metadata": {},
   "source": [
    "Creating the necessary **data structures** and **regex** patterns.\n",
    "\n",
    "The bot instructions each contain a word specifying who the chip is from/going to and the chip number\n",
    "We use this information to create the `instruction_type` structure to hold the type and number of the instruction."
   ]
  },
  {
   "cell_type": "code",
   "execution_count": 3,
   "metadata": {
    "collapsed": true
   },
   "outputs": [],
   "source": [
    "from collections import namedtuple\n",
    "instruction_type = namedtuple('instruction_type', ('type', 'number'))\n",
    "\n",
    "import re\n",
    "\n",
    "bot_instruction = re.compile('(\\w+) (\\d+)')\n",
    "input_instruction = re.compile('(\\d+)')\n",
    "\n",
    "bot_list = {}\n",
    "output_bins = {}"
   ]
  },
  {
   "cell_type": "markdown",
   "metadata": {},
   "source": [
    "**Helper functions**\n",
    "\n",
    "The `ensure...` functions are there to help (or clear up the code) when accessing bots and output bins as they are encountered in the instructions. Another (elegant?) way to do this would be to wrap each of the calls to the dictionary in a `try...except` and catch `IndexError` for invalid accesses."
   ]
  },
  {
   "cell_type": "code",
   "execution_count": 4,
   "metadata": {
    "collapsed": true
   },
   "outputs": [],
   "source": [
    "def ensure_bot_is_registered(bot_number):\n",
    "    if bot_number not in bot_list:\n",
    "        bot_list[bot_number] = Bot(bot_number)\n",
    "\n",
    "        \n",
    "def ensure_bin_is_registered(bin_number):\n",
    "    if bin_number not in output_bins:\n",
    "        output_bins[bin_number] = []"
   ]
  },
  {
   "cell_type": "markdown",
   "metadata": {},
   "source": [
    "**Actions for bots - giving out chips**\n",
    "\n",
    "Each bot will only act when it has two chips, and it will give those two chips according to the rules specified. The function returns `True` if the specified action was performed, `False` otherwise."
   ]
  },
  {
   "cell_type": "code",
   "execution_count": 5,
   "metadata": {
    "collapsed": true
   },
   "outputs": [],
   "source": [
    "def bot_chip_handler(bot_number):\n",
    "    # retrieve the bot\n",
    "    bot = bot_list[bot_number]\n",
    "    \n",
    "    # check if it has two chips\n",
    "    if len(bot.chips) < 2:\n",
    "        return False\n",
    "\n",
    "    # check if it has the specified chip\n",
    "    if 61 in bot.chips and 17 in bot.chips:\n",
    "        print('answer', bot.number)\n",
    "    \n",
    "    # check if it has no instructions, which means no actions\n",
    "    if bot.give_low is None and bot.give_high is None:\n",
    "        return False\n",
    "    \n",
    "    # give low chip\n",
    "    if bot.give_low.type == 'bot':\n",
    "        # give chip to bot\n",
    "        bot_list[bot.give_low.number].chips.append(bot.chips[0])\n",
    "        bot_list[bot.give_low.number].chips.sort()\n",
    "    else:\n",
    "        # give chip to output bin\n",
    "        output_bins[bot.give_low.number].append(bot.chips[0])\n",
    "\n",
    "    # give high chip\n",
    "    if bot.give_high.type == 'bot':\n",
    "        # give chip to bot\n",
    "        bot_list[bot.give_high.number].chips.append(bot.chips[1])\n",
    "        bot_list[bot.give_high.number].chips.sort()\n",
    "    else:\n",
    "        # give chip to output bin\n",
    "        output_bins[bot.give_high.number].append(bot.chips[1])\n",
    "\n",
    "    # remove chips from bot\n",
    "    bot.chips = []\n",
    "    # return action succesfull\n",
    "    return True"
   ]
  },
  {
   "cell_type": "markdown",
   "metadata": {},
   "source": [
    "**main**\n",
    "\n",
    "Here we take each in the given instructions, identify whether the line is an instruction for the bot, or an action where bots are given/take chips from the input bin. The instruction lines start with `bot` and the action lines start with `value`.\n",
    "\n",
    "For bot instructions, the appropriate bot is retrieved from list, its rules are added to it.\n",
    "\n",
    "For actions, the bot is retrieved and the chip is added to it. The chip handler function is then run to determine what to do with the bot.\n",
    "\n",
    "At the end of each iteration, we go from each both in increasing order by running the chip handler, and if any bot gives out chip to another bot, we start again, since the bot can give chips to other bots with a number lesser than theirs."
   ]
  },
  {
   "cell_type": "code",
   "execution_count": 6,
   "metadata": {
    "collapsed": false,
    "scrolled": false
   },
   "outputs": [
    {
     "name": "stdout",
     "output_type": "stream",
     "text": [
      "answer 86\n"
     ]
    }
   ],
   "source": [
    "for line in data:\n",
    "    if line.startswith('bot'):\n",
    "        # this is an instruction for the bot\n",
    "        # get the tokens from the line\n",
    "        main_bot, give_low, give_high = [\n",
    "            # the first is a word, the second is the bot/bin number\n",
    "            instruction_type(token[0].strip(), int(token[1]))\n",
    "            for token in bot_instruction.findall(line)]\n",
    "        \n",
    "        # retrieve the bot\n",
    "        ensure_bot_is_registered(main_bot.number)\n",
    "        main_bot = bot_list[main_bot.number]\n",
    "        \n",
    "        # handle low/high chip rules\n",
    "        # and whether they are for bots or bins\n",
    "        if give_low.type == 'bot':\n",
    "            ensure_bot_is_registered(give_low.number)\n",
    "        else:\n",
    "            ensure_bin_is_registered(give_low.number)\n",
    "        main_bot.give_low = give_low\n",
    "        if give_high.type == 'bot':\n",
    "            ensure_bot_is_registered(give_high.number)\n",
    "        else:\n",
    "            ensure_bin_is_registered(give_high.number)\n",
    "        main_bot.give_high = give_high\n",
    "        \n",
    "    else:\n",
    "        # this is an action where bots are given chips from the input bin\n",
    "        # there are only two values - the chip value and the bot number\n",
    "        chip_number, bot_number = map(int, input_instruction.findall(line))\n",
    "        ensure_bot_is_registered(bot_number)\n",
    "        bot = bot_list[bot_number]\n",
    "        bot.chips.append(chip_number)\n",
    "        bot.chips.sort()\n",
    "        # run handler on this bot since it could now have two chips\n",
    "        bot_chip_handler(bot.number)\n",
    "    \n",
    "    # run handlers on all bots in an increasing order\n",
    "    # this is an arbitary choice, it is not specified in the input\n",
    "    condition = True\n",
    "    while condition:\n",
    "        condition = False\n",
    "        for bot_number in sorted(bot_list.keys()):\n",
    "            returned_flag = bot_chip_handler(bot_number)\n",
    "            if returned_flag == True:\n",
    "                condition = True\n",
    "                break"
   ]
  },
  {
   "cell_type": "markdown",
   "metadata": {},
   "source": [
    "## Part Two\n",
    "\n",
    "What do you get if you multiply together the values of one chip in each of outputs 0, 1, and 2?"
   ]
  },
  {
   "cell_type": "markdown",
   "metadata": {},
   "source": [
    "### Solution logic\n",
    "\n",
    "We need to multiple _one_ of the values in output bins `0, 1, and 2`. This means either that they contain only one value or that we have to choose only the first one. In any case, we access only the first element in each bin.\n",
    "\n",
    "    reduce(mul, [output_bins[i][0] for i in range(3)])\n",
    "\n",
    "This is the functional way to write -\n",
    "\n",
    "    n = 1\n",
    "    for i in range 0 to 2 (3 - 1 or i < 3)\n",
    "        n *= output[i][0] "
   ]
  },
  {
   "cell_type": "code",
   "execution_count": 7,
   "metadata": {
    "collapsed": false
   },
   "outputs": [
    {
     "name": "stdout",
     "output_type": "stream",
     "text": [
      "answer 22847\n"
     ]
    }
   ],
   "source": [
    "from functools import reduce\n",
    "from operator import mul\n",
    "print('answer', reduce(mul, [output_bins[i][0] for i in range(3)]))"
   ]
  },
  {
   "cell_type": "markdown",
   "metadata": {},
   "source": [
    "== END =="
   ]
  }
 ],
 "metadata": {
  "kernelspec": {
   "display_name": "Python 3",
   "language": "python",
   "name": "python3"
  },
  "language_info": {
   "codemirror_mode": {
    "name": "ipython",
    "version": 3
   },
   "file_extension": ".py",
   "mimetype": "text/x-python",
   "name": "python",
   "nbconvert_exporter": "python",
   "pygments_lexer": "ipython3",
   "version": "3.5.2"
  }
 },
 "nbformat": 4,
 "nbformat_minor": 1
}
