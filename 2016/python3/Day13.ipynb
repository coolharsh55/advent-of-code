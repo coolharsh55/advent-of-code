{
 "cells": [
  {
   "cell_type": "markdown",
   "metadata": {},
   "source": [
    "# Day 13: A Maze of Twisty Little Cubicles\n",
    "\n",
    "author: Harshvardhan Pandit\n",
    "\n",
    "license: [MIT](https://opensource.org/licenses/MIT)\n",
    "\n",
    "[link to problem statement](http://adventofcode.com/2016/day/13)"
   ]
  },
  {
   "cell_type": "markdown",
   "metadata": {},
   "source": [
    "You arrive at the first floor of this new building to discover a much less welcoming environment than the shiny atrium of the last one. Instead, you are in a maze of twisty little cubicles, all alike.\n",
    "\n",
    "Every location in this area is addressed by a pair of non-negative integers `(x,y)`. Each such coordinate is either a wall or an open space. You can't move diagonally. The cube maze starts at `0,0` and seems to extend infinitely toward positive `x` and `y`; negative values are invalid, as they represent a location outside the building. You are in a small waiting area at `1,1`.\n",
    "\n",
    "While it seems chaotic, a nearby morale-boosting poster explains, the layout is actually quite logical. You can determine whether a given x,y coordinate will be a wall or an open space using a simple system:\n",
    "\n",
    " - Find `x*x + 3*x + 2*x*y + y + y*y`.\n",
    " - Add the office designer's favorite number (your puzzle input).\n",
    " - Find the _binary_ representation of that sum; count the number of `bits` that are `1`.\n",
    "        - If the number of bits that are 1 is `even`, it's an _open_ space.\n",
    "        - If the number of bits that are 1 is `odd`, it's a _wall_.\n",
    "        \n",
    "For example, if the office designer's favorite number were `10`, drawing walls as `#` and open spaces as `.`, the corner of the building containing `0,0` would look like this:\n",
    "\n",
    "      0123456789\n",
    "    0 .#.####.##\n",
    "    1 ..#..#...#\n",
    "    2 #....##...\n",
    "    3 ###.#.###.\n",
    "    4 .##..#..#.\n",
    "    5 ..##....#.\n",
    "    6 #...##.###\n",
    "    \n",
    "Now, suppose you wanted to reach `7,4`. The shortest route you could take is marked as `O`:\n",
    "\n",
    "      0123456789\n",
    "    0 .#.####.##\n",
    "    1 .O#..#...#\n",
    "    2 #OOO.##...\n",
    "    3 ###O#.###.\n",
    "    4 .##OO#OO#.\n",
    "    5 ..##OOO.#.\n",
    "    6 #...##.###\n",
    "    \n",
    "Thus, reaching `7,4` would take a minimum of `11` steps (starting from your current location, `1,1`).\n",
    "\n",
    "What is the fewest number of steps required for you to reach `31,39`?"
   ]
  },
  {
   "cell_type": "markdown",
   "metadata": {},
   "source": [
    "### Solution logic\n",
    "\n",
    "This is finding the shortest path between two points - or alternatively, shortest route algorithm. It is clear that we need to find all paths to the route from the current point by taking every turn, and then recusrively traversing along that direction, backtracking to follow other paths. As before, we need a backtracking algorithm.\n",
    "\n",
    "** Getting the designers favorite number**\n"
   ]
  },
  {
   "cell_type": "code",
   "execution_count": 1,
   "metadata": {
    "collapsed": false
   },
   "outputs": [
    {
     "name": "stdout",
     "output_type": "stream",
     "text": [
      "1358\n"
     ]
    }
   ],
   "source": [
    "with open('../inputs/day13.txt', 'r') as f:\n",
    "    designers_favorite_number = int(f.readline())\n",
    "print(designers_favorite_number)"
   ]
  },
  {
   "cell_type": "markdown",
   "metadata": {},
   "source": [
    "**Building the office structure**\n",
    "\n",
    "We store the office points in a `namedtuple` called `Point` with the properties `x` and `y` to hold the co-ordinates. "
   ]
  },
  {
   "cell_type": "code",
   "execution_count": 2,
   "metadata": {
    "collapsed": true
   },
   "outputs": [],
   "source": [
    "from collections import namedtuple\n",
    "Point = namedtuple('Point', ('x', 'y'))"
   ]
  },
  {
   "cell_type": "markdown",
   "metadata": {},
   "source": [
    "\n",
    "The office has walls and open spaces, where travel is only permitted in an open space. Therefore, using the given formula, we need to check if a move is valid by checking if the position it is trying to move to is in an open space. \n",
    "\n",
    "    wall_number(x,y) = x*x + 3*x + 2*x*y + y + y*y + designers_favorite_number\n",
    "    bits set = count '1' in binary(wall_number)"
   ]
  },
  {
   "cell_type": "code",
   "execution_count": 3,
   "metadata": {
    "collapsed": true
   },
   "outputs": [],
   "source": [
    "def is_wall(x, y):\n",
    "    wall_number = x * x + 3 * x + 2 * x * y + y + y * y +\\\n",
    "        designers_favorite_number\n",
    "    if bin(wall_number).count('1') % 2 == 0:\n",
    "        return False\n",
    "    return True\n",
    "\n",
    "def valid_point(point):\n",
    "    if point.x < 0 or point.y < 0:\n",
    "        return False\n",
    "    # check for walls\n",
    "    if is_wall(*point):\n",
    "        return False\n",
    "    return True"
   ]
  },
  {
   "cell_type": "markdown",
   "metadata": {},
   "source": [
    "**Directions**\n",
    "\n",
    "At any given moment, there are four possible directions - `up, down, left, and right`. As per the co-ordinate system, we can map them as:\n",
    "\n",
    "    d      X    Y\n",
    "    -------------\n",
    "    up     0,  +1\n",
    "    down   0,  -1\n",
    "    left  -1,   0\n",
    "    right +1,   0\n",
    "\n",
    "Thus the number of possible movements become any _permutation_ of `(-1, 0, 1)` of length `2`. We can get this via:\n",
    "\n",
    "    permutations of (-1, 0, 1) with length 2 if sum != 0\n",
    "\n",
    "Out of these, we need to remove that might result in an out-of-bounds position. Given `(xc, yc)` as the current position, and `(xd, yd)` as the direction vector:\n",
    "\n",
    "    direction is valid if 0 <= xc + xd and 0 <= yc + yd\n",
    "    \n",
    "We do not need to check for an upper bound as the space extends infinitely."
   ]
  },
  {
   "cell_type": "code",
   "execution_count": 4,
   "metadata": {
    "collapsed": false
   },
   "outputs": [
    {
     "name": "stdout",
     "output_type": "stream",
     "text": [
      "((-1, 0), (0, -1), (0, 1), (1, 0))\n"
     ]
    }
   ],
   "source": [
    "from itertools import permutations\n",
    "directions = tuple(\n",
    "    x for x in permutations((-1, 0, 1), 2) \n",
    "    if sum(x) != 0)\n",
    "print(directions)"
   ]
  },
  {
   "cell_type": "markdown",
   "metadata": {},
   "source": [
    "**Branching**\n",
    "\n",
    "We need to store the paths and whether we have been there before, and if yes, then which route were we taking. A simple `queue` should suffice.\n",
    "\n",
    "The approach we are going to use is that of [breadth-first-search](https://en.wikipedia.org/wiki/Breadth-first_search). In this approach, we identify all possible directions we can currently move in and put them in the queue. Then while the stack is not empty, we pop a move out, and repeat the directions it can take and so on until we reach the end-point, at which, we store the length of the path we took.\n",
    "\n",
    "To store the length of the path, each move put on the stack must have an accompanying `count` of the steps it took to reach there. It is possible to apply heuristic by storing an index of paths sorted by the length and giving priority to pursuing paths with a shorter length first, or those that are nearer to the end-point.\n",
    "\n",
    "One very important thing to note: we must not travel to the same point again - otherwise we'll keep chasing our own tails in recursive cycles (or an infinite while loop, take your pick). To prevent that, we have to maintain an index of points we have already traversed. We use a `dictionary` to hold this index, which stores the number of steps we took to traverse to this point. If there comes a move that reaches the same point in lesser number of steps, we know that it is a shorter route, and we continue traversing it. If the move has more number of steps to reach the same point, then it is not an optimum path, and do not need to continue along it."
   ]
  },
  {
   "cell_type": "code",
   "execution_count": 5,
   "metadata": {
    "collapsed": true
   },
   "outputs": [],
   "source": [
    "queue = []\n",
    "points_traversed = {}"
   ]
  },
  {
   "cell_type": "markdown",
   "metadata": {},
   "source": [
    "**Representing each State/Move**\n",
    "\n",
    "Each state/move is represented using a `namedtuple` with the properties `steps` and `point` to hold the number of steps taken to reach that move and the point it is at respectively."
   ]
  },
  {
   "cell_type": "code",
   "execution_count": 6,
   "metadata": {
    "collapsed": true
   },
   "outputs": [],
   "source": [
    "Move = namedtuple('Move', ('steps', 'point'))"
   ]
  },
  {
   "cell_type": "markdown",
   "metadata": {},
   "source": [
    "**Start and End points**\n",
    "\n",
    "The start and end points allow us to initialise the data structures with the start state and to identify what will be the end point where the algorithm must stop.\n",
    "\n",
    " - We define the start point as `(1, 1)` and the end point as `(31, 39)`.\n",
    " - We define the initial state as a move at the starting point, having taken 0 steps.\n",
    " - We define the points traversed or paths taken to reach the start_point as 0"
   ]
  },
  {
   "cell_type": "code",
   "execution_count": 7,
   "metadata": {
    "collapsed": true
   },
   "outputs": [],
   "source": [
    "start_point = Point(1, 1)\n",
    "end_point = Point(31, 39)\n",
    "initial_state = Move(0, start_point)\n",
    "queue.append(initial_state)\n",
    "points_traversed[start_point] = 0"
   ]
  },
  {
   "cell_type": "markdown",
   "metadata": {},
   "source": [
    "**Run**\n",
    "\n",
    "Running the algorithm as long as there are moves in the queue or we have not reached our end point, we follow the steps as:\n",
    "\n",
    " - pop the step off the queue or get the first element\n",
    " - if it has reached the end poin, we have received our solution. STOP.\n",
    " - calculate moves for this point in each direction\n",
    "     - add the direction to the current point\n",
    "     - if the point is not valid, skip it\n",
    "     - calculate cost of next move as 1 + cost of current step\n",
    "     - if the point has not been visited before or the current cost is lower than that in the index\n",
    "         - append the move to the queue\n",
    "         - update the cost for current point in the index"
   ]
  },
  {
   "cell_type": "code",
   "execution_count": 8,
   "metadata": {
    "collapsed": false
   },
   "outputs": [],
   "source": [
    "while queue:\n",
    "    state = queue.pop(0)\n",
    "    if state.point == end_point:\n",
    "        break\n",
    "    for vector in directions:\n",
    "        direction = Point(*vector)\n",
    "        move = Point(\n",
    "            state.point.x + direction.x, \n",
    "            state.point.y + direction.y)\n",
    "        if not valid_point(move):\n",
    "            continue\n",
    "        cost = state.steps + 1\n",
    "        if move not in points_traversed or cost < points_traversed[move]:\n",
    "            queue.append(Move(state.steps + 1, move))\n",
    "            points_traversed[move] = cost"
   ]
  },
  {
   "cell_type": "code",
   "execution_count": 9,
   "metadata": {
    "collapsed": false
   },
   "outputs": [
    {
     "name": "stdout",
     "output_type": "stream",
     "text": [
      "answer 96\n"
     ]
    }
   ],
   "source": [
    "print('answer', state.steps)"
   ]
  },
  {
   "cell_type": "markdown",
   "metadata": {},
   "source": [
    "## Part Two\n",
    "\n",
    "How many locations (distinct x,y coordinates, including your starting location) can you reach in at most 50 steps?"
   ]
  },
  {
   "cell_type": "markdown",
   "metadata": {},
   "source": [
    "### Solution logic\n",
    "\n",
    "At first glance, it was not clear to me whether I need to calculate the most distinct points that could be taken in any route in 50 steps, or ALL distinct points from all paths possible in 50 steps. A little clear headed thought said that the most steps possible in 50 moves is `50 + 1 = 51` including the starting step. So that could not be the answer. So it was the other option - to calculate all distinct points visited by all paths possible in 50 moves."
   ]
  },
  {
   "cell_type": "markdown",
   "metadata": {},
   "source": [
    "**Storing distinct points**\n",
    "\n",
    "Whenever the word `distinct` occurs, always think of `sets`. The set starts with the `start point` as we are currently there, and have visited it."
   ]
  },
  {
   "cell_type": "code",
   "execution_count": 10,
   "metadata": {
    "collapsed": true
   },
   "outputs": [],
   "source": [
    "visited = set()\n",
    "visited.add(start_point)"
   ]
  },
  {
   "cell_type": "markdown",
   "metadata": {},
   "source": [
    "**Algorithm**\n",
    "\n",
    "Doing everything as before, except for a few changes.\n",
    "\n",
    " - pop the step off the queue or get the first element\n",
    " - **if it has reached 50 steps, do not process it more. Move on the to the next move.**\n",
    " - calculate moves for this point in each direction\n",
    "     - add the direction to the current point\n",
    "     - if the point is not valid, skip it\n",
    "     - calculate cost of next move as 1 + cost of current step\n",
    "     - if the point has not been visited before or the current cost is lower than that in the index\n",
    "         - append the move to the queue\n",
    "         - update the cost for current point in the index\n",
    "         - **add the point to the visited set**\n",
    "         \n",
    "Here, we prioritize the paths that have shorter steps to reach the same point, since shorter steps mean more points traversed (overall). Therefore, we only add the point to the set if we are on optimum paths. This allows us to spread as much as possible without overlapping points or moves."
   ]
  },
  {
   "cell_type": "code",
   "execution_count": 11,
   "metadata": {
    "collapsed": true
   },
   "outputs": [],
   "source": [
    "queue = []\n",
    "points_traversed = {}\n",
    "queue.append(initial_state)\n",
    "points_traversed[start_point] = 0\n",
    "\n",
    "while queue:\n",
    "    state = queue.pop(0)\n",
    "    if state.steps == 50:\n",
    "        continue\n",
    "    for vector in directions:\n",
    "        direction = Point(*vector)\n",
    "        move = Point(\n",
    "            state.point.x + direction.x, \n",
    "            state.point.y + direction.y)\n",
    "        if not valid_point(move):\n",
    "            continue\n",
    "        cost = state.steps + 1\n",
    "        if move not in points_traversed or cost < points_traversed[move]:\n",
    "            queue.append(Move(state.steps + 1, move))\n",
    "            points_traversed[move] = cost\n",
    "            visited.add(move)"
   ]
  },
  {
   "cell_type": "code",
   "execution_count": 12,
   "metadata": {
    "collapsed": false
   },
   "outputs": [
    {
     "name": "stdout",
     "output_type": "stream",
     "text": [
      "answer 141\n"
     ]
    }
   ],
   "source": [
    "print('answer', len(visited))"
   ]
  },
  {
   "cell_type": "markdown",
   "metadata": {},
   "source": [
    "== END =="
   ]
  }
 ],
 "metadata": {
  "kernelspec": {
   "display_name": "Python 3",
   "language": "python",
   "name": "python3"
  },
  "language_info": {
   "codemirror_mode": {
    "name": "ipython",
    "version": 3
   },
   "file_extension": ".py",
   "mimetype": "text/x-python",
   "name": "python",
   "nbconvert_exporter": "python",
   "pygments_lexer": "ipython3",
   "version": "3.5.2"
  }
 },
 "nbformat": 4,
 "nbformat_minor": 1
}
