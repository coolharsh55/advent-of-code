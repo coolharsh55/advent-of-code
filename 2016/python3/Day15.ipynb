{
 "cells": [
  {
   "cell_type": "markdown",
   "metadata": {},
   "source": [
    "# Day 15: Timing is Everything\n",
    "\n",
    "author: Harshvardhan Pandit\n",
    "\n",
    "license: [MIT](https://opensource.org/licenses/MIT)\n",
    "\n",
    "[link to problem statement](http://adventofcode.com/2016/day/15)"
   ]
  },
  {
   "cell_type": "markdown",
   "metadata": {},
   "source": [
    "The halls open into an interior plaza containing a large kinetic sculpture. The sculpture is in a sealed enclosure and seems to involve a set of identical spherical capsules that are carried to the top and allowed to [bounce through the maze](https://youtu.be/IxDoO9oODOk?t=177) of spinning pieces.\n",
    "\n",
    "Part of the sculpture is even interactive! When a button is pressed, a capsule is dropped and tries to fall through slots in a set of rotating discs to finally go through a little hole at the bottom and come out of the sculpture. If any of the slots aren't aligned with the capsule as it passes, the capsule bounces off the disc and soars away. You feel compelled to get one of those capsules.\n",
    "\n",
    "The discs pause their motion each second and come in different sizes; they seem to each have a fixed number of positions at which they stop. You decide to call the position with the slot `0`, and count up for each position it reaches next.\n",
    "\n",
    "Furthermore, the discs are spaced out so that after you push the button, one second elapses before the first disc is reached, and one second elapses as the capsule passes from one disk to the one below it. So, if you push the button at `time=100`, then the capsule reaches the top disc at `time=101`, the second disc at `time=102`, the third disc at `time=103`, and so on.\n",
    "\n",
    "The button will only drop a capsule at an integer time - no fractional seconds allowed.\n",
    "\n",
    "For example, at `time=0`, suppose you see the following arrangement:\n",
    "\n",
    "    Disc #1 has 5 positions; at time=0, it is at position 4.\n",
    "    Disc #2 has 2 positions; at time=0, it is at position 1.\n",
    "\n",
    "If you press the button exactly at `time=0`, the capsule would start to fall; it would reach the first disc at `time=1`. Since the first disc was at position `4` at `time=0`, by `time=1` it has ticked one position forward. As a five-position disc, the next position is `0`, and the capsule falls through the slot.\n",
    "\n",
    "Then, at `time=2`, the capsule reaches the second disc. The second disc has ticked forward two positions at this point: it started at position `1`, then continued to position `0`, and finally ended up at position `1` again. Because there's only a slot at position `0`, the capsule bounces away.\n",
    "\n",
    "If, however, you wait until `time=5` to push the button, then when the capsule reaches each disc, the first disc will have ticked forward `5+1 = 6` times (to position `0`), and the second disc will have ticked forward `5+2 = 7` times (also to position `0`). In this case, the capsule would fall through the discs and come out of the machine.\n",
    "\n",
    "However, your situation has more than two discs; you've noted their positions in your puzzle input. What is the first time you can press the button to get a capsule?"
   ]
  },
  {
   "cell_type": "markdown",
   "metadata": {},
   "source": [
    "### Solution logic\n",
    "\n",
    "The discs are rotating around with their holes having position 0. The capsule will fall through each of these holes to come out. The capsule takes 1 time-unit each to reach the disc. So we need to calculate the position of the disc relative to the position of the capsule.\n",
    "\n",
    "The ideal or end state is when the coin falls through. This will happen only when it encounters position 0 for each disc it falls through. As each disc is rotating, we need to wrap around after the last position back to 0. We do this using `mod`\n",
    "\n",
    "    disc position = (current position + 1) % total disc positions\n",
    "    \n",
    "Releasing the capsule at time x, the capsule will reach disc 1 at `x + 1`, disc 2 at `x + 2` and so on. We then need to check if the position of the disc is 0 when the capsule reaches it. We only need one disc position to be invalid or non-zero to move on to the next iteration.\n",
    "\n",
    "We declare a class Disc to hold the its total positions, and its current position. The total positions are immutable as they do not change."
   ]
  },
  {
   "cell_type": "code",
   "execution_count": 1,
   "metadata": {
    "collapsed": true
   },
   "outputs": [],
   "source": [
    "class Disc:\n",
    "    def __init__(self, total_positions, starting_position):\n",
    "        self._total_positions = total_positions\n",
    "        self.current_position = starting_position\n",
    "    \n",
    "    @property\n",
    "    def total_positions(self):\n",
    "        return self._total_positions\n",
    "    \n",
    "    def __repr__(self):\n",
    "        return 'total: {} current: {}'.format(self.total_positions, self.current_position)"
   ]
  },
  {
   "cell_type": "markdown",
   "metadata": {},
   "source": [
    "We declare a list to hold the discs according to the specified order."
   ]
  },
  {
   "cell_type": "code",
   "execution_count": 2,
   "metadata": {
    "collapsed": true
   },
   "outputs": [],
   "source": [
    "discs = []"
   ]
  },
  {
   "cell_type": "markdown",
   "metadata": {},
   "source": [
    "Reading the input and creating discs"
   ]
  },
  {
   "cell_type": "code",
   "execution_count": 3,
   "metadata": {
    "collapsed": false
   },
   "outputs": [],
   "source": [
    "from copy import deepcopy\n",
    "import re\n",
    "numbers = re.compile('(\\d+)')\n",
    "\n",
    "with open('../inputs/day15.txt', 'r') as f:\n",
    "    for line in f.readlines():\n",
    "        disc_no, total_positions, time, starting_position =\\\n",
    "            map(int, numbers.findall(line))\n",
    "        discs.append(Disc(total_positions, starting_position))\n",
    "    # preserve input data\n",
    "    input_data = deepcopy(discs)"
   ]
  },
  {
   "cell_type": "code",
   "execution_count": 4,
   "metadata": {
    "collapsed": false
   },
   "outputs": [
    {
     "name": "stdout",
     "output_type": "stream",
     "text": [
      "disc# 0 total: 13 current: 10\n",
      "disc# 1 total: 17 current: 15\n",
      "disc# 2 total: 19 current: 17\n",
      "disc# 3 total: 7 current: 1\n",
      "disc# 4 total: 5 current: 0\n",
      "disc# 5 total: 3 current: 1\n"
     ]
    }
   ],
   "source": [
    "for index, disc in enumerate(discs):\n",
    "    print('disc#', index, disc)"
   ]
  },
  {
   "cell_type": "markdown",
   "metadata": {},
   "source": [
    "We now iterate through each time unit to find when the capsule can be dropped through all discs. Ideally, there should not be an infinite loop, but if required, just set it to some VERY high index so that it _will_ terminate at some point."
   ]
  },
  {
   "cell_type": "code",
   "execution_count": 5,
   "metadata": {
    "collapsed": false
   },
   "outputs": [],
   "source": [
    "def run():\n",
    "    for time in range(0, 10000000):\n",
    "        if not any((\n",
    "                (discs[i].current_position + 1 + i) % discs[i].total_positions\n",
    "                for i in range(0, len(discs)))):\n",
    "            return time\n",
    "            break\n",
    "        for disc in discs:\n",
    "            disc.current_position = (disc.current_position + 1) % disc.total_positions"
   ]
  },
  {
   "cell_type": "code",
   "execution_count": 6,
   "metadata": {
    "collapsed": false
   },
   "outputs": [
    {
     "name": "stdout",
     "output_type": "stream",
     "text": [
      "answer 203660\n"
     ]
    }
   ],
   "source": [
    "print('answer', run())"
   ]
  },
  {
   "cell_type": "markdown",
   "metadata": {},
   "source": [
    "## Part Two\n",
    "\n",
    "After getting the first capsule (it contained a star! what great fortune!), the machine detects your success and begins to rearrange itself.\n",
    "\n",
    "When it's done, the discs are back in their original configuration as if it were `time=0` again, but a new disc with `11` positions and starting at position `0` has appeared exactly one second below the previously-bottom disc.\n",
    "\n",
    "With this new disc, and counting again starting from `time=0` with the configuration in your puzzle input, what is the first time you can press the button to get another capsule?"
   ]
  },
  {
   "cell_type": "markdown",
   "metadata": {},
   "source": [
    "### Solution logic\n",
    "\n",
    "Since there is no change in logic, we simply add the new disc to the disc list and run the algorithm again."
   ]
  },
  {
   "cell_type": "code",
   "execution_count": 7,
   "metadata": {
    "collapsed": true
   },
   "outputs": [],
   "source": [
    "discs = input_data\n",
    "discs.append(Disc(11, 0))"
   ]
  },
  {
   "cell_type": "code",
   "execution_count": 8,
   "metadata": {
    "collapsed": false
   },
   "outputs": [
    {
     "name": "stdout",
     "output_type": "stream",
     "text": [
      "asnwer 2408135\n"
     ]
    }
   ],
   "source": [
    "print('asnwer', run())"
   ]
  },
  {
   "cell_type": "markdown",
   "metadata": {},
   "source": [
    "== END =="
   ]
  }
 ],
 "metadata": {
  "kernelspec": {
   "display_name": "Python 3",
   "language": "python",
   "name": "python3"
  },
  "language_info": {
   "codemirror_mode": {
    "name": "ipython",
    "version": 3
   },
   "file_extension": ".py",
   "mimetype": "text/x-python",
   "name": "python",
   "nbconvert_exporter": "python",
   "pygments_lexer": "ipython3",
   "version": "3.5.2"
  }
 },
 "nbformat": 4,
 "nbformat_minor": 1
}
