{
 "cells": [
  {
   "cell_type": "markdown",
   "metadata": {},
   "source": [
    "# Day 21: Scrambled Letters and Hash\n",
    "\n",
    "author: Harshvardhan Pandit\n",
    "\n",
    "license: [MIT](https://opensource.org/licenses/MIT)\n",
    "\n",
    "[link to problem statement](http://adventofcode.com/2016/day/21)"
   ]
  },
  {
   "cell_type": "markdown",
   "metadata": {},
   "source": [
    "The computer system you're breaking into uses a weird scrambling function to store its passwords. It shouldn't be much trouble to create your own scrambled password so you can add it to the system; you just have to implement the scrambler.\n",
    "\n",
    "The scrambling function is a series of operations (the exact list is provided in your puzzle input). Starting with the password to be scrambled, apply each operation in succession to the string. The individual operations behave as follows:\n",
    "\n",
    " - `swap position X with position Y` means that the letters at indexes X and Y (counting from 0) should be swapped.\n",
    " - `swap letter X with letter Y` means that the letters X and Y should be swapped (regardless of where they appear in the string).\n",
    " - `rotate left/right X steps` means that the whole string should be rotated; for example, one right rotation would turn abcd into dabc.\n",
    " - `rotate based on position of letter X` means that the whole string should be rotated to the right based on the index of letter X (counting from 0) as determined before this instruction does any rotations. Once the index is determined, rotate the string to the right one time, plus a number of times equal to that index, plus one additional time if the index was at least 4.\n",
    " - `reverse positions X through Y` means that the span of letters at indexes X through Y (including the letters at X and Y) should be reversed in order.\n",
    " - `move position X to position Y` means that the letter which is at index X should be removed from the string, then inserted such that it ends up at index Y.\n",
    " \n",
    "For example, suppose you start with `abcde` and perform the following operations:\n",
    "\n",
    " - `swap position 4 with position 0` swaps the first and last letters, producing the input for the next step, `ebcda`.\n",
    " - `swap letter d with letter b` swaps the positions of d and b: `edcba`.\n",
    " - `reverse positions 0 through 4` causes the entire string to be reversed, producing `abcde`.\n",
    " - `rotate left 1 step` shifts all letters left one position, causing the first letter to wrap to the end of the string: `bcdea`.\n",
    " - `move position 1 to position 4` removes the letter at position 1 (c), then inserts it at position 4 (the end of the string): `bdeac`.\n",
    " - `move position 3 to position 0` removes the letter at position 3 (a), then inserts it at position 0 (the front of the string): `abdec`.\n",
    " - `rotate based on position of letter b` finds the index of letter b (1), then rotates the string right once plus a number of times equal to that index (2): `ecabd`.\n",
    " - `rotate based on position of letter d` finds the index of letter d (4), then rotates the string right once, plus a number of times equal to that index, plus an additional time because the index was at least 4, for a total of 6 right rotations: `decab`.\n",
    "\n",
    "After these steps, the resulting scrambled password is `decab`.\n",
    "\n",
    "Now, you just need to generate a new scrambled password and you can access the system. Given the list of scrambling operations in your puzzle input, what is the result of scrambling `abcdefgh`?"
   ]
  },
  {
   "cell_type": "markdown",
   "metadata": {},
   "source": [
    "### Solution logic\n",
    "\n",
    "Since this is a rule-based approach, we only need to code the rules and then follow them as per the input specification.\n",
    "\n",
    "One thing to note regarding all the rules that we are creating functions for - the input comes directly from the parsed file, so we need to convert or parse integers as required."
   ]
  },
  {
   "cell_type": "markdown",
   "metadata": {},
   "source": [
    "#### Swap positions\n",
    "\n",
    "We get two positions `(x, y)` which we need to swap. In python, this is as simple as:\n",
    "\n",
    "    list[x], list[y] = list[y], list[x]"
   ]
  },
  {
   "cell_type": "code",
   "execution_count": 1,
   "metadata": {
    "collapsed": true
   },
   "outputs": [],
   "source": [
    "def swap_position(password, x, y):\n",
    "    x = int(x)\n",
    "    y = int(y)\n",
    "    password[x], password[y] = password[y], password[x]\n",
    "    return password"
   ]
  },
  {
   "cell_type": "markdown",
   "metadata": {},
   "source": [
    "#### Swap letters\n",
    "\n",
    "We can either replace the letter `x` with a temporary letter `$` and then replace `y` with `x` followed by `$` with `y` (the _temp_ variable approach to _swap_), or simply iterate over the list and replace the occurences as they appear. For me, the iteration approach seems more logical (to read)."
   ]
  },
  {
   "cell_type": "code",
   "execution_count": 2,
   "metadata": {
    "collapsed": true
   },
   "outputs": [],
   "source": [
    "def swap_letter(password, x, y):\n",
    "    _password = []\n",
    "    for char in password:\n",
    "        if char == x:\n",
    "            _password.append(y)\n",
    "        elif char == y:\n",
    "            _password.append(x)\n",
    "        else:\n",
    "            _password.append(char)\n",
    "    return _password"
   ]
  },
  {
   "cell_type": "markdown",
   "metadata": {},
   "source": [
    "#### Rotate right and left\n",
    "\n",
    "We split the string based on the position of `x` from the front or back based on left/right and then attach it back to the other end.\n",
    "\n",
    "    right --> remove from end, attach to front\n",
    "    left  --> remove from front, attach to end"
   ]
  },
  {
   "cell_type": "code",
   "execution_count": 3,
   "metadata": {
    "collapsed": true
   },
   "outputs": [],
   "source": [
    "def rotate_right(password, x):\n",
    "    x = int(x)\n",
    "    return password[-x:] + password[:-x]\n",
    "\n",
    "def rotate_left(password, x):\n",
    "    x = int(x)\n",
    "    return password[x:] + password[:x]"
   ]
  },
  {
   "cell_type": "markdown",
   "metadata": {},
   "source": [
    "#### Rotate based on position\n",
    "\n",
    "First we need to find the first index where `x` occurs. Then we need to calculate the number of rotations to make. This is based on the following rules:\n",
    "\n",
    "    1 rotation by default\n",
    "    Add index of characters\n",
    "    If index is equal or greater than four, add 1\n",
    "\n",
    "To keep the rotations within the list, we take the modulus of the rotations with the length of the password. Finally, we call `rotate_right` with the implied number of rotations."
   ]
  },
  {
   "cell_type": "code",
   "execution_count": 4,
   "metadata": {
    "collapsed": true
   },
   "outputs": [],
   "source": [
    "def rotate_letter(password, x):\n",
    "    for index in range(0, len(password)):\n",
    "        if password[index] == x:\n",
    "            break\n",
    "    else:\n",
    "        # print('wrong input')\n",
    "        return password\n",
    "    rotations = 1 + index\n",
    "    if index >= 4:\n",
    "        rotations += 1\n",
    "    rotations = rotations % len(password)\n",
    "    return rotate_right(password, rotations)"
   ]
  },
  {
   "cell_type": "markdown",
   "metadata": {},
   "source": [
    "#### Reverse\n",
    "\n",
    "Only the indexes `x` and `y` need to be reversed, everything else should be copied or kept as is. We use python's excellent list splicing and inbuilt reverse (`[::-1]`) to do all the work for us."
   ]
  },
  {
   "cell_type": "code",
   "execution_count": 5,
   "metadata": {
    "collapsed": true
   },
   "outputs": [],
   "source": [
    "def reverse(password, x, y):\n",
    "    x = int(x)\n",
    "    y = int(y) + 1  # to include character at `y`\n",
    "    \n",
    "#     EXPLICIT\n",
    "#     _password = []\n",
    "#     for i in range(0, x):\n",
    "#         _password.append(password[i])\n",
    "#     # step in decreasing order\n",
    "#     for i in range(y, x - 1, -1):\n",
    "#         _password.append(password[i])\n",
    "#     for i in range(y + 1, len(password)):\n",
    "#         _password.append(password[i])\n",
    "#     return _password\n",
    "\n",
    "    return password[:x] + password[x:y][::-1] + password[y:]"
   ]
  },
  {
   "cell_type": "markdown",
   "metadata": {},
   "source": [
    "#### Move\n",
    "\n",
    "This is trivial due to the way python handles lists for us. We `pop` the element at index `x` and then `insert` it at index `y`."
   ]
  },
  {
   "cell_type": "code",
   "execution_count": 6,
   "metadata": {
    "collapsed": true
   },
   "outputs": [],
   "source": [
    "def move(password, x, y):\n",
    "    x = int(x)\n",
    "    y = int(y)\n",
    "    char = password.pop(x)\n",
    "    password.insert(y, char)\n",
    "    return password"
   ]
  },
  {
   "cell_type": "markdown",
   "metadata": {},
   "source": [
    "#### Defining rules and actions"
   ]
  },
  {
   "cell_type": "code",
   "execution_count": 7,
   "metadata": {
    "collapsed": true
   },
   "outputs": [],
   "source": [
    "import re\n",
    "rules = {\n",
    "    'swap-position': re.compile(r'^swap position (\\d+) with position (\\d+)'),\n",
    "    'swap-letter': re.compile(r'^swap letter (\\w+) with letter (\\w+)'),\n",
    "    'rotate-letter': re.compile(r'^rotate based on position of letter (\\w)+'),\n",
    "    'rorate-right': re.compile(r'^rotate right (\\d+) step'),\n",
    "    'rotate-left': re.compile(r'^rotate left (\\d+) step'),\n",
    "    'move': re.compile(r'^move position (\\d+) to position (\\d+)'),\n",
    "    'reverse': re.compile(r'^reverse positions (\\d+) through (\\d+)')\n",
    "}\n",
    "actions = {\n",
    "    'swap-position': swap_position,\n",
    "    'swap-letter': swap_letter,\n",
    "    'rotate-letter': rotate_letter,\n",
    "    'rorate-right': rotate_right,\n",
    "    'rotate-left': rotate_left,\n",
    "    'move': move,\n",
    "    'reverse': reverse\n",
    "}"
   ]
  },
  {
   "cell_type": "markdown",
   "metadata": {},
   "source": [
    "#### Getting input"
   ]
  },
  {
   "cell_type": "code",
   "execution_count": 8,
   "metadata": {
    "collapsed": false
   },
   "outputs": [],
   "source": [
    "with open('../inputs/day21.txt', 'r') as f:\n",
    "        input_data = f.readlines()"
   ]
  },
  {
   "cell_type": "markdown",
   "metadata": {},
   "source": [
    "#### Parsing input and simulating rules"
   ]
  },
  {
   "cell_type": "code",
   "execution_count": 9,
   "metadata": {
    "collapsed": false
   },
   "outputs": [
    {
     "name": "stdout",
     "output_type": "stream",
     "text": [
      "answer gbhcefad\n"
     ]
    }
   ],
   "source": [
    "def parse_input(password):\n",
    "    password = list(password)\n",
    "    for line in input_data:\n",
    "        for name, rule in rules.items():\n",
    "            match = rule.match(line)\n",
    "            if rule.match(line):\n",
    "                action = actions[name]\n",
    "                password = action(password, *match.groups())\n",
    "                break\n",
    "    return ''.join(password)\n",
    "\n",
    "print('answer', parse_input('abcdefgh'))"
   ]
  },
  {
   "cell_type": "markdown",
   "metadata": {},
   "source": [
    "## Part Two\n",
    "\n",
    "You scrambled the password correctly, but you discover that you can't actually modify the password file on the system. You'll need to un-scramble one of the existing passwords by reversing the scrambling process.\n",
    "\n",
    "What is the un-scrambled version of the scrambled password `fbgdceah`?"
   ]
  },
  {
   "cell_type": "markdown",
   "metadata": {},
   "source": [
    "### Solution logic\n",
    "\n",
    "Rather than going through the effort of writing the _reverse_ operations for every instruction, we simply iterate through all the _permutations_ of the letters `a, b, c, d, e, g, h` and see which one of them generates the given string."
   ]
  },
  {
   "cell_type": "code",
   "execution_count": 10,
   "metadata": {
    "collapsed": false
   },
   "outputs": [
    {
     "name": "stdout",
     "output_type": "stream",
     "text": [
      "answer gahedfcb\n"
     ]
    }
   ],
   "source": [
    "from itertools import permutations\n",
    "string = 'fbgdceah'\n",
    "choices = list(permutations('abcdefgh', len(string)))\n",
    "for password in choices:\n",
    "    hashed = parse_input(password)\n",
    "    if hashed == string:\n",
    "        print('answer', ''.join(password))\n",
    "        break"
   ]
  },
  {
   "cell_type": "markdown",
   "metadata": {},
   "source": [
    "== END =="
   ]
  }
 ],
 "metadata": {
  "kernelspec": {
   "display_name": "Python 3",
   "language": "python",
   "name": "python3"
  },
  "language_info": {
   "codemirror_mode": {
    "name": "ipython",
    "version": 3
   },
   "file_extension": ".py",
   "mimetype": "text/x-python",
   "name": "python",
   "nbconvert_exporter": "python",
   "pygments_lexer": "ipython3",
   "version": "3.5.2"
  }
 },
 "nbformat": 4,
 "nbformat_minor": 1
}
