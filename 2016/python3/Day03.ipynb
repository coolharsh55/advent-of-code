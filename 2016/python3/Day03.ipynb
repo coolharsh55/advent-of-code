{
 "cells": [
  {
   "cell_type": "markdown",
   "metadata": {},
   "source": [
    "# Day 3: Squares With Three Sides\n",
    "\n",
    "author: Harshvardhan Pandit\n",
    "\n",
    "license: [MIT](https://opensource.org/licenses/MIT)\n",
    "\n",
    "[link to problem statement](http://adventofcode.com/2016/day/3)"
   ]
  },
  {
   "cell_type": "markdown",
   "metadata": {},
   "source": [
    "Now that you can think clearly, you move deeper into the labyrinth of hallways and office furniture that makes up this part of Easter Bunny HQ. This must be a graphic design department; the walls are covered in specifications for triangles.\n",
    "\n",
    "Or are they?\n",
    "\n",
    "The design document gives the side lengths of each triangle it describes, but... `5 10 25`? Some of these aren't triangles. You can't help but mark the impossible ones.\n",
    "\n",
    "In a valid triangle, the sum of any two sides must be larger than the remaining side. For example, the \"triangle\" given above is impossible, because `5 + 10` is not larger than `25`.\n",
    "\n",
    "In your puzzle input, how many of the listed triangles are possible?"
   ]
  },
  {
   "cell_type": "markdown",
   "metadata": {},
   "source": [
    "### Solution logic\n",
    "On the face of it, this is a very trivial problem. Simply check whether the sum is larger than the remaining side. If it is, add one to the counter, if it is not, then don't. The tricky part here is that the inputs are not ordered, so we need to sort them first, and then take the smaller of the two sides. Trivial!\n",
    "\n",
    "#### Algorithm\n",
    "    - set `number_of_triangles` to `0`\n",
    "    - for each line of input:\n",
    "        - tokenize based on whitespace\n",
    "        - sort the sequence into `a, b, c` as `ints`\n",
    "        - check if `a + b > c`\n",
    "        - if it is, increment counter"
   ]
  },
  {
   "cell_type": "markdown",
   "metadata": {},
   "source": [
    "First, read in the input"
   ]
  },
  {
   "cell_type": "code",
   "execution_count": 1,
   "metadata": {
    "collapsed": true
   },
   "outputs": [],
   "source": [
    "with open('../inputs/day03.txt', 'r') as f:\n",
    "    data = f.readlines()"
   ]
  },
  {
   "cell_type": "markdown",
   "metadata": {},
   "source": [
    "Initialize the counter"
   ]
  },
  {
   "cell_type": "code",
   "execution_count": 2,
   "metadata": {
    "collapsed": true
   },
   "outputs": [],
   "source": [
    "number_of_triangles = 0"
   ]
  },
  {
   "cell_type": "markdown",
   "metadata": {},
   "source": [
    "Tokenize the input, then sort the tokens."
   ]
  },
  {
   "cell_type": "code",
   "execution_count": 3,
   "metadata": {
    "collapsed": false
   },
   "outputs": [],
   "source": [
    "tokenized_data = [\n",
    "    [int(n) for n in line.split()]\n",
    "    for line in data]\n",
    "sorted_data = [sorted(line) for line in tokenized_data]"
   ]
  },
  {
   "cell_type": "code",
   "execution_count": 4,
   "metadata": {
    "collapsed": false
   },
   "outputs": [],
   "source": [
    "for a, b, c in sorted_data:\n",
    "    if a + b > c:\n",
    "        number_of_triangles += 1"
   ]
  },
  {
   "cell_type": "markdown",
   "metadata": {},
   "source": [
    "The answer is in `number_of_triangles`."
   ]
  },
  {
   "cell_type": "markdown",
   "metadata": {},
   "source": [
    "## Part Two\n",
    "Now that you've helpfully marked up their design documents, it occurs to you that triangles are specified in groups of three vertically. Each set of three numbers in a column specifies a triangle. Rows are unrelated.\n",
    "\n",
    "For example, given the following specification, numbers with the same hundreds digit would be part of the same triangle:\n",
    "\n",
    "    101 301 501\n",
    "    102 302 502\n",
    "    103 303 503\n",
    "    201 401 601\n",
    "    202 402 602\n",
    "    203 403 603\n",
    "\n",
    "In your puzzle input, and instead reading by columns, how many of the listed triangles are possible?"
   ]
  },
  {
   "cell_type": "markdown",
   "metadata": {},
   "source": [
    "### Solution Logic\n",
    "Okay, this is tricky than the first one. So rows are irrelevant, and the columns contain the three vertices. Now the question arises, whether the numbers are to be taken consecutively or in sets of three? It is ambigious. For now, I'm assuming that the numbers are in fact, to be taken one after the other, sort of like the classic substring problem.\n",
    "\n",
    "So we take three rows at a time, using an index and a `for` loop, and then iterate until the end of data, checking whether there are any triangles in the three sets of inputs. The last index will be `length of data - 2`."
   ]
  },
  {
   "cell_type": "code",
   "execution_count": 5,
   "metadata": {
    "collapsed": false
   },
   "outputs": [],
   "source": [
    "number_of_triangles = 0\n",
    "for index in range(0, len(tokenized_data) - 2, 3):\n",
    "    rows = [\n",
    "        sorted([tokenized_data[row][item] for row in range(index, index + 3)])\n",
    "        for item in range(0, 3)]\n",
    "    for a, b, c in rows:\n",
    "        if a + b > c:\n",
    "            number_of_triangles += 1"
   ]
  },
  {
   "cell_type": "markdown",
   "metadata": {},
   "source": [
    "Answer is in `number_of_triangles`"
   ]
  },
  {
   "cell_type": "markdown",
   "metadata": {},
   "source": [
    "== END =="
   ]
  }
 ],
 "metadata": {
  "kernelspec": {
   "display_name": "Python 3",
   "language": "python",
   "name": "python3"
  },
  "language_info": {
   "codemirror_mode": {
    "name": "ipython",
    "version": 3
   },
   "file_extension": ".py",
   "mimetype": "text/x-python",
   "name": "python",
   "nbconvert_exporter": "python",
   "pygments_lexer": "ipython3",
   "version": "3.5.2"
  }
 },
 "nbformat": 4,
 "nbformat_minor": 1
}
