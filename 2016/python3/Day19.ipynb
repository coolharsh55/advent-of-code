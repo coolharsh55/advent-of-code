{
 "cells": [
  {
   "cell_type": "markdown",
   "metadata": {},
   "source": [
    "# Day 19: An Elephant Named Joseph\n",
    "\n",
    "author: Harshvardhan Pandit\n",
    "\n",
    "license: [MIT](https://opensource.org/licenses/MIT)\n",
    "\n",
    "[link to problem statement](http://adventofcode.com/2016/day/19)"
   ]
  },
  {
   "cell_type": "markdown",
   "metadata": {},
   "source": [
    "The Elves contact you over a highly secure emergency channel. Back at the North Pole, the Elves are busy misunderstanding White Elephant parties.\n",
    "\n",
    "Each Elf brings a present. They all sit in a circle, numbered starting with position 1. Then, starting with the first Elf, they take turns stealing all the presents from the Elf to their left. An Elf with no presents is removed from the circle and does not take turns.\n",
    "\n",
    "For example, with five Elves (numbered 1 to 5):\n",
    "\n",
    "      1\n",
    "    5   2\n",
    "     4 3\n",
    "\n",
    " - Elf 1 takes Elf 2's present.\n",
    " - Elf 2 has no presents and is skipped.\n",
    " - Elf 3 takes Elf 4's present.\n",
    " - Elf 4 has no presents and is also skipped.\n",
    " - Elf 5 takes Elf 1's two presents.\n",
    " - Neither Elf 1 nor Elf 2 have any presents, so both are skipped.\n",
    " - Elf 3 takes Elf 5's three presents.\n",
    "\n",
    "So, with five Elves, the Elf that sits starting in position 3 gets all the presents.\n",
    "\n",
    "With the number of Elves given in your puzzle input, which Elf gets all the presents?"
   ]
  },
  {
   "cell_type": "markdown",
   "metadata": {},
   "source": [
    "### Solution logic\n",
    "\n",
    "At every turn, the next elf is skipped or removed from the circle. This goes on until only one elf is remaining. We will simulate the entire scenario as a _naive_ solution before moving on to a better, optimized version."
   ]
  },
  {
   "cell_type": "markdown",
   "metadata": {},
   "source": [
    "#### Test Data\n",
    "\n",
    "The test data has 5 elves, with elf 3 getting all the presents. We generate an array of 5 elves as the test input."
   ]
  },
  {
   "cell_type": "code",
   "execution_count": 1,
   "metadata": {
    "collapsed": false
   },
   "outputs": [
    {
     "name": "stdout",
     "output_type": "stream",
     "text": [
      "[1, 2, 3, 4, 5]\n"
     ]
    }
   ],
   "source": [
    "no_elves = 5\n",
    "elves = [elf for elf in range(1, no_elves + 1)]\n",
    "print(elves)"
   ]
  },
  {
   "cell_type": "markdown",
   "metadata": {},
   "source": [
    "#### Simulate one round of stealing presents\n",
    "\n",
    "To simulate one round, we define the function `play_round` that takes an elf, then skips one over while iterating over the list. If the number of elves are odd, then the first elf's presents are stolen by the last elf, and therefore, we drop the first elf from the list."
   ]
  },
  {
   "cell_type": "code",
   "execution_count": 2,
   "metadata": {
    "collapsed": false
   },
   "outputs": [],
   "source": [
    "def play_round(elves):\n",
    "    _elves = []\n",
    "    elf = 0\n",
    "    while elf < len(elves):\n",
    "        _elves.append(elves[elf])\n",
    "        elf += 2\n",
    "    if len(elves) % 2 == 1:\n",
    "        _elves.pop(0)\n",
    "    return _elves"
   ]
  },
  {
   "cell_type": "markdown",
   "metadata": {},
   "source": [
    "#### Continue simulating rounds until only one elf is remaining"
   ]
  },
  {
   "cell_type": "code",
   "execution_count": 3,
   "metadata": {
    "collapsed": false
   },
   "outputs": [
    {
     "name": "stdout",
     "output_type": "stream",
     "text": [
      "3\n"
     ]
    }
   ],
   "source": [
    "while len(elves) > 1:\n",
    "    elves = play_round(elves)\n",
    "print(elves[0])"
   ]
  },
  {
   "cell_type": "markdown",
   "metadata": {},
   "source": [
    "#### Run on the given input"
   ]
  },
  {
   "cell_type": "code",
   "execution_count": 4,
   "metadata": {
    "collapsed": true
   },
   "outputs": [],
   "source": [
    "with open('../inputs/day19.txt', 'r') as f:\n",
    "    input_data = int(f.readline())"
   ]
  },
  {
   "cell_type": "code",
   "execution_count": 5,
   "metadata": {
    "collapsed": true
   },
   "outputs": [],
   "source": [
    "elves = [elf for elf in range(1, input_data + 1)]"
   ]
  },
  {
   "cell_type": "code",
   "execution_count": 6,
   "metadata": {
    "collapsed": false
   },
   "outputs": [
    {
     "name": "stdout",
     "output_type": "stream",
     "text": [
      "answer 1834903\n"
     ]
    }
   ],
   "source": [
    "while len(elves) > 1:\n",
    "    elves = play_round(elves)\n",
    "print('answer', elves[0])"
   ]
  },
  {
   "cell_type": "markdown",
   "metadata": {},
   "source": [
    "### Optimized version - Josephus problem\n",
    "\n",
    "The problem statement is actually quite well known as the [Josephus problem](https://en.wikipedia.org/wiki/Josephus_problem) which can be generalized to a [counting out problem](https://en.wikipedia.org/wiki/Counting-out_game). The solution to solve the Josephus problem is given as:\n",
    "\n",
    "    f(n) = f(n - 2) + k - 1) % n + 1\n",
    "\n",
    "Where `n` is the number of players, `k` is the skip count where `k-1` people are skipped and the `k-th` is executed. (in this case, `k = 2`)."
   ]
  },
  {
   "cell_type": "code",
   "execution_count": 7,
   "metadata": {
    "collapsed": false
   },
   "outputs": [
    {
     "name": "stdout",
     "output_type": "stream",
     "text": [
      "answer 1834903\n"
     ]
    }
   ],
   "source": [
    "n = 2\n",
    "k = 2\n",
    "j = [1]\n",
    "while n <= input_data:\n",
    "    j.append((j[n - 2] + k - 1) % n + 1)\n",
    "    n += 1\n",
    "print('answer', j[-1])"
   ]
  },
  {
   "cell_type": "markdown",
   "metadata": {},
   "source": [
    "## Part Two\n",
    "\n",
    "Realizing the folly of their present-exchange rules, the Elves agree to instead steal presents from the Elf directly across the circle. If two Elves are across the circle, the one on the left (from the perspective of the stealer) is stolen from. The other rules remain unchanged: Elves with no presents are removed from the circle entirely, and the other elves move in slightly to keep the circle evenly spaced.\n",
    "\n",
    "For example, with five Elves (again numbered 1 to 5):\n",
    "\n",
    "The Elves sit in a circle; Elf 1 goes first:\n",
    "      1\n",
    "    5   2\n",
    "     4 3\n",
    "     \n",
    "Elves 3 and 4 are across the circle; Elf 3's present is stolen, being the one to the left. Elf 3 leaves the circle, and the rest of the Elves move in:\n",
    "\n",
    "      1           1\n",
    "    5   2  -->  5   2\n",
    "     4 -          4\n",
    "\n",
    "Elf 2 steals from the Elf directly across the circle, Elf 5:\n",
    "\n",
    "      1         1 \n",
    "    -   2  -->     2\n",
    "      4         4 \n",
    "\n",
    "Next is Elf 4 who, choosing between Elves 1 and 2, steals from Elf 1:\n",
    "\n",
    "     -          2  \n",
    "        2  -->\n",
    "     4          4\n",
    "\n",
    "Finally, Elf 2 steals from Elf 4:\n",
    "\n",
    "     2\n",
    "        -->  2  \n",
    "     -\n",
    "\n",
    "So, with five Elves, the Elf that sits starting in position 2 gets all the presents.\n",
    "\n",
    "With the number of Elves given in your puzzle input, which Elf now gets all the presents?"
   ]
  },
  {
   "cell_type": "markdown",
   "metadata": {},
   "source": [
    "### Solution logic\n",
    "\n",
    "We need to redefine our `play_round` function, where instead of only skipping over the next elf, we need to remove the middle elf from the list. Which one is the middle elf depends on the length of the list at that time. So at each turn (and not round), the length of the list changes. Since we are implmenting the _naive_ solution, we will iterate over the list once in the loop instead of optimizing the index access.\n",
    "\n",
    "Since we need to eliminate the middle elf at each turn, we must find the middle elf. Let us start by seeing what the pattern is by plotting the number of elfs with the middle elf (the one to be eliminated) for each arrangement.\n",
    "\n",
    "    n    0-indexed array    \n",
    "    1         -    \n",
    "    2         1    \n",
    "    3         1    \n",
    "    4         2    \n",
    "    5         2    \n",
    "    6         3    \n",
    "    7         3   \n",
    "    8         4    \n",
    "    9         4\n",
    "    \n",
    "We can see that the element to remove is given by `n/2` where `n` is the total number of elves in the list at that time. Taking this into account, we must now account for the fact that the list mutates after every turn.\n",
    "\n",
    "    turn    list            play  eliminated  effective-list\n",
    "    0       1, 2, 3, 4, 5   -     -           -\n",
    "    1       1, 2, X, 4, 5   1     3           1, 2, 3, 4, 5\n",
    "    2       1, 2, X, 4, X   2     5           2, 4, 5, 1\n",
    "    3       X, 2, X, 4, X   4     1           4, 1, 2\n",
    "    4       X, 2, X, X, X   2     4           2, 4\n",
    "\n",
    "If we compare the eliminated index and re-list such that the elf currently playing is always at the top/front/start of the array, we get the `effective-list`. It it, the resultant array at each turn is left-shifted by one. We exploit this to create the resultant array. Thus our strategy becomes -\n",
    "\n",
    "    remove the elf at index n/2\n",
    "    left the list by 1 - pop the first element and add it to the end\n",
    "\n",
    "Continue this approach until only 1 elf is left.\n",
    "\n",
    "> Note that the simulation takes a **LOT** of time. Being `n^2`, it is very inefficient. Which is why I don't actually run it here. It'll take time. Seriously."
   ]
  },
  {
   "cell_type": "code",
   "execution_count": 8,
   "metadata": {
    "collapsed": false
   },
   "outputs": [],
   "source": [
    "# DO NOT RUN\n",
    "def do_not_run():\n",
    "    elves = [elf for elf in range(1, input_data + 1)]\n",
    "    while len(elves) > 1:\n",
    "        elves.pop(len(elves)//2)\n",
    "        elves = elves[1:] + elves[:1]\n",
    "    print(elves[0])"
   ]
  },
  {
   "cell_type": "markdown",
   "metadata": {},
   "source": [
    "### Alternative logic\n",
    "\n",
    "We use the concept of **balanced trees**, where we split the elves into two different lists. In one list, we add the first half elements, and in the second list, we add the other half in the reverse order, i.e. append to the front. Since the elves are always removed from the middle of the list, we can do this easily in a tree, as the middle is always the root. After removal, we need to balance the tree by moving elements from the top of the left branch (the starting elves) to the top of the right branch (the last elves), and then move the elements from the bottom of the right branch (the middle elves) to the bottom of the left branch (the middle elves).\n",
    "\n",
    "    left branch  --> first half of elements, normal order\n",
    "    right branch --> second half of elements, reverse order\n",
    "    \n",
    "    while length of tree (left + right) > 1:\n",
    "        if left tree has more nodes:\n",
    "            remove node from end of left branch\n",
    "        else:\n",
    "            remove node from end of right branch\n",
    "        remove node from top of left branch and append to top of right branch\n",
    "        remove node from bottom of right branch and append to bottom of left branch\n",
    "\n",
    "In python, lists are great data structures, but they are not performant when it comes to removing things from the front. Since we need to remove things from both ends, we will use `dequeue` which is a `double ended queue` and is performant for insertions and removals at both ends, but will perform badly for other operations such as splicing and random removals (which we do not require)."
   ]
  },
  {
   "cell_type": "code",
   "execution_count": 9,
   "metadata": {
    "collapsed": false
   },
   "outputs": [
    {
     "name": "stdout",
     "output_type": "stream",
     "text": [
      "tree left-> 1507301 1: 1 last: 1507301\n",
      "tree right-> 1507302 1: 3014603 last: 1507302\n"
     ]
    }
   ],
   "source": [
    "from collections import deque\n",
    "left = deque(i for i in range(1, input_data//2 + 1))\n",
    "right = deque(i for i in range(input_data, input_data//2, -1))\n",
    "print('tree left->', len(left), '1:', left[0], 'last:', left[-1])\n",
    "print('tree right->', len(right), '1:', right[0], 'last:', right[-1])"
   ]
  },
  {
   "cell_type": "code",
   "execution_count": 10,
   "metadata": {
    "collapsed": false
   },
   "outputs": [],
   "source": [
    "while left and right:\n",
    "    if len(left) > len(right):\n",
    "        left.pop()\n",
    "    else:\n",
    "        right.pop()\n",
    "    right.appendleft(left.popleft())\n",
    "    left.append(right.pop())"
   ]
  },
  {
   "cell_type": "markdown",
   "metadata": {},
   "source": [
    "Since we do not know which of the left or right branches might contain the final element, we need to check which of the queues are not empty and then retrieve the answer from that."
   ]
  },
  {
   "cell_type": "code",
   "execution_count": 11,
   "metadata": {
    "collapsed": false
   },
   "outputs": [
    {
     "name": "stdout",
     "output_type": "stream",
     "text": [
      "answer 1420280\n"
     ]
    }
   ],
   "source": [
    "if left:\n",
    "    print('answer', left[0])\n",
    "else:\n",
    "    print('answer', right[0])"
   ]
  },
  {
   "cell_type": "markdown",
   "metadata": {},
   "source": [
    "### Other answers\n",
    "\n",
    "I received a link to a pastebin containing the following code that gives the answer, though I don't know why or even how it works. I suspect that if I drill enough, I'll find that it is a summarization of the operations done on a balanced binary tree.\n",
    "\n",
    "    p = 3 ** int(log(elves - 1, 3))\n",
    "    return elves - p + max(elves - 2 * p, 0)"
   ]
  },
  {
   "cell_type": "markdown",
   "metadata": {},
   "source": [
    "== END =="
   ]
  }
 ],
 "metadata": {
  "kernelspec": {
   "display_name": "Python 3",
   "language": "python",
   "name": "python3"
  },
  "language_info": {
   "codemirror_mode": {
    "name": "ipython",
    "version": 3
   },
   "file_extension": ".py",
   "mimetype": "text/x-python",
   "name": "python",
   "nbconvert_exporter": "python",
   "pygments_lexer": "ipython3",
   "version": "3.5.2"
  }
 },
 "nbformat": 4,
 "nbformat_minor": 1
}
