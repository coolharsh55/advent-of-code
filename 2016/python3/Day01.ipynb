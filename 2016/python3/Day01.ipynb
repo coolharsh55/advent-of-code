{
 "cells": [
  {
   "cell_type": "markdown",
   "metadata": {},
   "source": [
    "# Day 1: No Time for a Taxicab\n",
    "author: Harshvardhan Pandit\n",
    "\n",
    "license: [MIT](https://opensource.org/licenses/MIT)\n",
    "\n",
    "[link to problem statement](http://adventofcode.com/2016/day/1)"
   ]
  },
  {
   "cell_type": "markdown",
   "metadata": {},
   "source": [
    "Santa's sleigh uses a very high-precision clock to guide its movements, and the clock's oscillator is regulated by stars. Unfortunately, the stars have been stolen... by the Easter Bunny. To save Christmas, Santa needs you to retrieve all fifty stars by December 25th.\n",
    "\n",
    "Collect stars by solving puzzles. Two puzzles will be made available on each day in the advent calendar; the second puzzle is unlocked when you complete the first. Each puzzle grants one star. Good luck!\n",
    "\n",
    "You're airdropped near Easter Bunny Headquarters in a city somewhere. \"Near\", unfortunately, is as close as you can get - the instructions on the Easter Bunny Recruiting Document the Elves intercepted start here, and nobody had time to work them out further.\n",
    "\n",
    "The Document indicates that you should start at the given coordinates (where you just landed) and face North. Then, follow the provided sequence: either turn left (L) or right (R) 90 degrees, then walk forward the given number of blocks, ending at a new intersection.\n",
    "\n",
    "There's no time to follow such ridiculous instructions on foot, though, so you take a moment and work out the destination. Given that you can only walk on the street grid of the city, how far is the shortest path to the destination?\n",
    "\n",
    "For example:\n",
    "\n",
    "Following R2, L3 leaves you 2 blocks East and 3 blocks North, or 5 blocks away.\n",
    "R2, R2, R2 leaves you 2 blocks due South of your starting position, which is 2 blocks away.\n",
    "R5, L5, R5, R3 leaves you 12 blocks away.\n",
    "\n",
    "How many blocks away is Easter Bunny HQ?"
   ]
  },
  {
   "cell_type": "markdown",
   "metadata": {},
   "source": [
    "## Solution logic\n",
    "\n",
    "This looks to be a simple trace the path sort of problem.\n",
    "Assume we start at origin `(0,0)`,\n",
    "then use counters to keep track of where we are\n",
    "on a virtual grid. Also need to keep track of direction.\n",
    "Read the input, then parse it to read whether to go left or right.\n",
    "Keep a variable direction to indicate where we are currently moving.\n",
    "Direction is a `vector (x,y)`\n",
    "to represent the math to do when calculcating the\n",
    "next point on the grid.\n",
    "`North(0,1); South(0,-1); East(1,0); West(-1,0)`\n",
    "\n",
    "**Tricky:** how to convert north to west by reading in left?\n",
    "_North_ is `(0,1)` and West is `(-1,0)`\n",
    "Similarly, `West --left--> South`,\n",
    "which can be written as `(-1,0)--L-->(0,-1)`\n",
    "\n",
    "Drawing up a table to see if I can find a pattern or a formula\n",
    "<pre>\n",
    "  **Table: Turning LEFT**\n",
    "  Direction   Value       Turned      Value\n",
    "  North       (0,1)       West        (-1,0)\n",
    "  West        (-1,0)      South       (0,-1)\n",
    "  South       (0,-1)      East        (1,0)\n",
    "  East        (1,0)       North       (0,1)\n",
    "\n",
    "  **Table: Turning RIGHT**\n",
    "  Direction   Value       Turned      Value\n",
    "  North       (0,1)       East        (1,0)\n",
    "  West        (-1,0)      North       (0,1)\n",
    "  South       (0,-1)      West        (-1,0)\n",
    "  East        (1,0)       South       (0,-1)\n",
    "</pre>\n",
    "\n",
    "Looking at the table, it is apparent that on every turn, there is a change\n",
    "in the field which contain a non-zero value (x or y)\n",
    "So we always swap the active (that's what I'll call the non-zero field) field\n",
    "The trick here is the sign of the values. It is not true that the sign always\n",
    "changes. For e.g. East--Left-->North\n",
    "\n",
    "<pre>Turn left:\n",
    " - swap (x,y = y,x)\n",
    " - apply mask (-1,1)\n",
    "Turn right:\n",
    " - swap (x,y = y,x)\n",
    " - apply mask (1,-1)</pre>\n",
    "\n",
    "### Algorithm\n",
    "<pre>\n",
    " - Initialise starting direction as North\n",
    " - Read the input\n",
    " - For every input:\n",
    "   - based on turn, get new direction\n",
    "   - multiply the direction vector by distance in input\n",
    "   - add the new vector to point on graph\n",
    "</pre>\n",
    "\n",
    "### Block distance / Taxicab distance\n",
    "That is simply the number of block we need to walk to get there\n",
    "That is the total x distance + total y distance\n",
    "So the formula is to take the absolute values of both co-ordinates,\n",
    "and add them\n",
    "`abs(x) + abs(y)`"
   ]
  },
  {
   "cell_type": "markdown",
   "metadata": {},
   "source": [
    "Get the input data from a file in the inputs folder.\n",
    "The file contains the tokens seperated by comma(,)."
   ]
  },
  {
   "cell_type": "code",
   "execution_count": 1,
   "metadata": {
    "collapsed": false
   },
   "outputs": [],
   "source": [
    "with open('../inputs/day01.txt', 'r') as f:\n",
    "    data = [x.strip() for x in f.read().split(',')]"
   ]
  },
  {
   "cell_type": "markdown",
   "metadata": {},
   "source": [
    "Use namedtuples, because they're so nice ;)\n",
    "Actually, use them because they are still tuples, look like class-objects,\n",
    "and give more semantic context to the code.\n",
    "\n",
    "In this case, the Turn is LEFT and RIGHT."
   ]
  },
  {
   "cell_type": "code",
   "execution_count": 2,
   "metadata": {
    "collapsed": true
   },
   "outputs": [],
   "source": [
    "from collections import namedtuple\n",
    "Turns = namedtuple('Turns', ('left', 'right'))\n",
    "turns = Turns('L', 'R')"
   ]
  },
  {
   "cell_type": "markdown",
   "metadata": {},
   "source": [
    "A VectorPoint is a point with a direction\n",
    "I use them to plot the point on the graph, and also to represent the\n",
    "direction of movement."
   ]
  },
  {
   "cell_type": "code",
   "execution_count": 3,
   "metadata": {
    "collapsed": true
   },
   "outputs": [],
   "source": [
    "VectorPoint = namedtuple('VectorPoint', ('x', 'y'))"
   ]
  },
  {
   "cell_type": "markdown",
   "metadata": {},
   "source": [
    "When turning, we apply this mask (the logic if above)."
   ]
  },
  {
   "cell_type": "code",
   "execution_count": 4,
   "metadata": {
    "collapsed": true
   },
   "outputs": [],
   "source": [
    "mask_left = VectorPoint(-1, 1)\n",
    "mask_right = VectorPoint(1, -1)"
   ]
  },
  {
   "cell_type": "markdown",
   "metadata": {},
   "source": [
    "The direction is the starting face, which the problem describes as being **NORTH**."
   ]
  },
  {
   "cell_type": "code",
   "execution_count": 5,
   "metadata": {
    "collapsed": true
   },
   "outputs": [],
   "source": [
    "direction = VectorPoint(0, 1)"
   ]
  },
  {
   "cell_type": "markdown",
   "metadata": {},
   "source": [
    "The point to be tracked, this is the position on graph."
   ]
  },
  {
   "cell_type": "code",
   "execution_count": 6,
   "metadata": {
    "collapsed": true
   },
   "outputs": [],
   "source": [
    "point = VectorPoint(0, 0)"
   ]
  },
  {
   "cell_type": "markdown",
   "metadata": {},
   "source": [
    " - Tokenize the token into turn and number of blocks\n",
    "     - The first letter represents the direction to turn to, and will only be 'L' for left, and 'R' for right. \n",
    "     - The numbers after that are the number of blocks to walk.\n",
    " - Get mask based on direction to turn\n",
    " - The direction is the swapped direction, with the mask applied. So the previous `(x,y)` becomes `(y,x) * mask(x,y)`.\n",
    " - The point is now the number of blocks added with the direction applied."
   ]
  },
  {
   "cell_type": "code",
   "execution_count": 7,
   "metadata": {
    "collapsed": false
   },
   "outputs": [],
   "source": [
    "for token in data:\n",
    "    turn, blocks = token[:1], int(token[1:])\n",
    "    \n",
    "    if turn == turns.left:\n",
    "        mask = mask_left\n",
    "    if turn == turns.right:\n",
    "        mask = mask_right\n",
    "    # \n",
    "    direction = VectorPoint(direction.y * mask.x, direction.x * mask.y)\n",
    "    point = VectorPoint(\n",
    "        point.x + blocks * direction.x,\n",
    "        point.y + blocks * direction.y)"
   ]
  },
  {
   "cell_type": "markdown",
   "metadata": {},
   "source": [
    "The final distance from origin is the distance of x and y axis."
   ]
  },
  {
   "cell_type": "code",
   "execution_count": 8,
   "metadata": {
    "collapsed": false
   },
   "outputs": [],
   "source": [
    "distance = abs(point.x) + abs(point.y)\n",
    "# print(distance)"
   ]
  },
  {
   "cell_type": "markdown",
   "metadata": {},
   "source": [
    "## Part Two\n",
    "\n",
    "Then, you notice the instructions continue\n",
    "on the back of the Recruiting Document.\n",
    "Easter Bunny HQ is actually at the first location you visit twice.\n",
    "\n",
    "For example, if your instructions are\n",
    "`R8, R4, R4, R8`,\n",
    "the first location you **visit twice** is `4 blocks away, due East`.\n",
    "\n",
    "_How many blocks away is the first location you visit twice?_"
   ]
  },
  {
   "cell_type": "markdown",
   "metadata": {},
   "source": [
    "## Solution logic\n",
    "\n",
    "As per the previous solution, this looks to be a trivial problem.\n",
    "We only have to check when we visit the place twice, so there has to be\n",
    "some way to check whether we have been to the place, which means we need\n",
    "to store the point we have been on the graph.\n",
    "\n",
    "For this, we will use a `set` to store the points, and check at every\n",
    "iteration, whether we have been to that point.\n",
    "The naive solution would be to store every point we visit, so it merely\n",
    "becomes a problem of sifting through searches (binary search would suffice).\n",
    "But to make it more efficient, we only store the **paths**,\n",
    "and check if the current movement cross any of the previous paths.\n",
    "\n",
    "### Basic Geometry\n",
    "\n",
    "Let's use the property of points lying on a line segment. Suppose we have the\n",
    "line segment `AB`, and a point `P` lies on the line, then the sum of the\n",
    "distance of `P` from `A` and `P` to `B`\n",
    "is equal to the distance from `A` to `B`. Or specified as:\n",
    "\n",
    "  `AB` = `AP` + `PB`\n",
    "\n",
    "So we save every point we end up at, as endpoints, and check if the movement\n",
    "is along the path by checking for every point in the saved set.\n",
    "\n",
    "Another interesting observation in terms of optimisation, is that if the\n",
    "point does lie on the line, then one of the axis co-ordinates will be the\n",
    "same in all three points `(A, B, C)`. This is true in this case because all\n",
    "movesments are in the single direction along a grid. So we can eliminate\n",
    "points which do not satisfy this condition."
   ]
  },
  {
   "cell_type": "markdown",
   "metadata": {},
   "source": [
    "A path contains two points, `A` and `B`. Create a path namedtuple to hold them."
   ]
  },
  {
   "cell_type": "code",
   "execution_count": 9,
   "metadata": {
    "collapsed": true
   },
   "outputs": [],
   "source": [
    "Path = namedtuple('Path', ('A', 'B'))"
   ]
  },
  {
   "cell_type": "markdown",
   "metadata": {},
   "source": [
    "Paths will save all visited paths, but we do not need the constraint that they must be unique, since we are checking for intersecting points."
   ]
  },
  {
   "cell_type": "code",
   "execution_count": 10,
   "metadata": {
    "collapsed": true
   },
   "outputs": [],
   "source": [
    "paths = []"
   ]
  },
  {
   "cell_type": "markdown",
   "metadata": {},
   "source": [
    "`last_point` was the last point traversed"
   ]
  },
  {
   "cell_type": "code",
   "execution_count": 11,
   "metadata": {
    "collapsed": true
   },
   "outputs": [],
   "source": [
    "point = VectorPoint(0, 0)\n",
    "last_point = point"
   ]
  },
  {
   "cell_type": "markdown",
   "metadata": {},
   "source": [
    " - Tokenize the token into turn and number of blocks\n",
    "     - The first letter represents the direction to turn to, and will only be 'L' for left, and 'R' for right. \n",
    "     - The numbers after that are the number of blocks to walk.\n",
    " - Get mask based on direction to turn\n",
    " - The direction is the swapped direction, with the mask applied. So the previous `(x,y)` becomes `(y,x) * mask(x,y)`.\n",
    " - The point is now the number of blocks added with the direction applied.\n",
    " - **Part Two** Check if we have visited the path. To do that, we must first identify whether we have moved along the X-axis or the Y-axis.\n",
    "    - The `movement_mask` represents the mask applied to the last point to iterate over to the current point. This gives us every point along the path. The mask takes care of negatives and direction, and helps keep the logic clear.\n",
    "    - If the x co-ordinates do not change, this is along the Y-axis.\n",
    "        - Check whether we are moving towards the top or the bottom.\n",
    "        - If the y attribute is increasing, we are moving towards the top, otherwise towards bottom.\n",
    "    - If the y co-ordinates do not change, this is along the X-axis.\n",
    "        - Check whether we are moving towards the right or the left.\n",
    "        - If the x attribute is increasing, we are moving towards the right, otherwise towards left.\n",
    " - Now iterate through each point along the path\n",
    "     - Check if there are any common co-ordinates on this path.\n",
    "    - If the condition is satisfied, found a point lying in the intersecting path"
   ]
  },
  {
   "cell_type": "code",
   "execution_count": 12,
   "metadata": {
    "collapsed": false
   },
   "outputs": [],
   "source": [
    "for token in data:\n",
    "    turn, blocks = token[:1], int(token[1:])\n",
    "    if turn == turns.left:\n",
    "        mask = mask_left\n",
    "    if turn == turns.right:\n",
    "        mask = mask_right\n",
    "\n",
    "    direction = VectorPoint(direction.y * mask.x, direction.x * mask.y)\n",
    "\n",
    "    point = VectorPoint(\n",
    "        point.x + blocks * direction.x,\n",
    "        point.y + blocks * direction.y)\n",
    "\n",
    "    if point.x == last_point.x:\n",
    "        if point.y > last_point.y:\n",
    "            movement_mask = VectorPoint(0, 1)\n",
    "        else:\n",
    "            movement_mask = VectorPoint(0, -1)\n",
    "    else:\n",
    "        if point.x > last_point.x:\n",
    "            movement_mask = VectorPoint(1, 0)\n",
    "        else:\n",
    "            movement_mask = VectorPoint(-1, 0)\n",
    "\n",
    "    last_point_holder = last_point\n",
    "    \n",
    "    while last_point.x != point.x or last_point.y != point.y:\n",
    "\n",
    "        last_point = VectorPoint(\n",
    "            last_point.x + movement_mask.x,\n",
    "            last_point.y + movement_mask.y)\n",
    "\n",
    "        for path in paths:\n",
    "\n",
    "            if path.A.x == last_point.x and path.B.x == last_point.x:\n",
    "                if abs(path.A.y - last_point.y)\\\n",
    "                        + abs(last_point.y - path.B.y)\\\n",
    "                        == abs(path.A.y - path.B.y):\n",
    "                    break\n",
    "            if path.A.y == last_point.y and path.B.y == last_point.y:\n",
    "                if abs(path.A.x - last_point.x)\\\n",
    "                        + abs(last_point.x - path.B.x)\\\n",
    "                        == abs(path.A.x - path.B.x):\n",
    "                    break\n",
    "        else:\n",
    "            # No paths match, move ahead.\n",
    "            continue\n",
    "        # Some path is found. Stop searching.\n",
    "        break\n",
    "    else:\n",
    "        # Save the path.\n",
    "        # `last_point = point` at this juncture\n",
    "        path = Path(last_point_holder, point)\n",
    "        last_point = point\n",
    "        paths.append(path)\n",
    "        continue\n",
    "    # We found a path that has been visited\n",
    "    distance = abs(last_point.x) + abs(last_point.y)\n",
    "#     print(distance)\n",
    "    break\n",
    "else:\n",
    "    print(0)"
   ]
  },
  {
   "cell_type": "markdown",
   "metadata": {},
   "source": [
    "== END =="
   ]
  }
 ],
 "metadata": {
  "kernelspec": {
   "display_name": "Python 3",
   "language": "python",
   "name": "python3"
  },
  "language_info": {
   "codemirror_mode": {
    "name": "ipython",
    "version": 3
   },
   "file_extension": ".py",
   "mimetype": "text/x-python",
   "name": "python",
   "nbconvert_exporter": "python",
   "pygments_lexer": "ipython3",
   "version": "3.5.2"
  }
 },
 "nbformat": 4,
 "nbformat_minor": 1
}
