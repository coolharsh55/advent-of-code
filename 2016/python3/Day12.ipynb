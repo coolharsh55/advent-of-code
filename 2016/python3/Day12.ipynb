{
 "cells": [
  {
   "cell_type": "markdown",
   "metadata": {},
   "source": [
    "# Day 12: Leonardo's Monorail\n",
    "\n",
    "author: Harshvardhan Pandit\n",
    "\n",
    "license: [MIT](https://opensource.org/licenses/MIT)\n",
    "\n",
    "[link to problem statement](http://adventofcode.com/2016/day/12)"
   ]
  },
  {
   "cell_type": "markdown",
   "metadata": {},
   "source": [
    "You finally reach the top floor of this building: a garden with a slanted glass ceiling. Looks like there are no more stars to be had.\n",
    "\n",
    "While sitting on a nearby bench amidst some [tiger lilies](https://www.google.com/search?q=tiger+lilies&tbm=isch), you manage to decrypt some of the files you extracted from the servers downstairs.\n",
    "\n",
    "According to these documents, Easter Bunny HQ isn't just this building - it's a collection of buildings in the nearby area. They're all connected by a local monorail, and there's another building not far from here! Unfortunately, being night, the monorail is currently not operating.\n",
    "\n",
    "You remotely connect to the monorail control systems and discover that the boot sequence expects a password. The password-checking logic (your puzzle input) is easy to extract, but the code it uses is strange: it's assembunny code designed for the [new computer](http://adventofcode.com/2016/day/11) you just assembled. You'll have to execute the code and get the password.\n",
    "\n",
    "The assembunny code you've extracted operates on four [registers](https://en.wikipedia.org/wiki/Processor_register) `(a, b, c, and d)` that start at `0` and can hold any [integer](https://en.wikipedia.org/wiki/Integer). However, it seems to make use of only a few [instructions](https://en.wikipedia.org/wiki/Instruction_set):\n",
    "\n",
    "    cpy x y copies x (either an integer or the value of a register) into register y.\n",
    "    inc x increases the value of register x by one.\n",
    "    dec x decreases the value of register x by one.\n",
    "    jnz x y jumps to an instruction y away (positive means forward; negative means backward), but only if x is not zero.\n",
    "    \n",
    "The `jnz` instruction moves relative to itself: an _offset_ of `-1` would continue at the previous instruction, while an offset of `2` would skip over the next instruction.\n",
    "\n",
    "For example:\n",
    "\n",
    "    cpy 41 a\n",
    "    inc a\n",
    "    inc a\n",
    "    dec a\n",
    "    jnz a 2\n",
    "    dec a\n",
    "    \n",
    "The above code would set register `a` to `41`, increase its value by `2`, decrease its value by `1`, and then skip the last `dec a` (because `a` is _not zero_, so the `jnz a 2` skips it), leaving register `a` at `42`. When you move past the last instruction, the program halts.\n",
    "\n",
    "After executing the assembunny code in your puzzle input, what value is left in register `a`?"
   ]
  },
  {
   "cell_type": "markdown",
   "metadata": {},
   "source": [
    "### Solution logic\n",
    "\n",
    "> Whoa! We need to build an interpreter! Nice.\n",
    "\n",
    "So we parse the input data into a list so that it will have indexes which we can use when handling the `jnz` instruction. Then simply identify the instruction type and perform the operation. Simple."
   ]
  },
  {
   "cell_type": "code",
   "execution_count": 1,
   "metadata": {
    "collapsed": true
   },
   "outputs": [],
   "source": [
    "with open('../inputs/day12.txt', 'r') as f:\n",
    "    input_data = [line.strip().split() for line in f.readlines()]"
   ]
  },
  {
   "cell_type": "code",
   "execution_count": 2,
   "metadata": {
    "collapsed": false
   },
   "outputs": [],
   "source": [
    "registers = {\n",
    "    'a': 0,\n",
    "    'b': 0,\n",
    "    'c': 0,\n",
    "    'd': 0\n",
    "}"
   ]
  },
  {
   "cell_type": "code",
   "execution_count": 3,
   "metadata": {
    "collapsed": false
   },
   "outputs": [],
   "source": [
    "def run():\n",
    "    program_counter = 0\n",
    "\n",
    "    while program_counter < len(input_data):\n",
    "        line = input_data[program_counter]\n",
    "        \n",
    "        if line[0] == 'inc':\n",
    "            registers[line[1]] += 1\n",
    "        \n",
    "        elif line[0] == 'dec':\n",
    "            registers[line[1]] -= 1\n",
    "        \n",
    "        elif line[0] == 'cpy':\n",
    "            if line[1].isdigit():\n",
    "                registers[line[2]] = int(line[1])\n",
    "            else:\n",
    "                registers[line[2]] = registers[line[1]]\n",
    "        \n",
    "        elif line[0] == 'jnz':\n",
    "            if line[1].isdigit():\n",
    "                if line[1] > '0':\n",
    "                    program_counter += int(line[2])\n",
    "                    continue\n",
    "                else:\n",
    "                    continue\n",
    "            elif registers[line[1]] != 0:\n",
    "                program_counter += int(line[2])\n",
    "                continue\n",
    "        \n",
    "        program_counter += 1"
   ]
  },
  {
   "cell_type": "code",
   "execution_count": 4,
   "metadata": {
    "collapsed": false
   },
   "outputs": [
    {
     "name": "stdout",
     "output_type": "stream",
     "text": [
      "answer 317993\n"
     ]
    }
   ],
   "source": [
    "run()\n",
    "print('answer', registers['a'])"
   ]
  },
  {
   "cell_type": "markdown",
   "metadata": {
    "collapsed": true
   },
   "source": [
    "## Part Two\n",
    "\n",
    "As you head down the fire escape to the monorail, you notice it didn't start; register c needs to be initialized to the position of the ignition key.\n",
    "\n",
    "If you instead initialize register c to be 1, what value is now left in register a?"
   ]
  },
  {
   "cell_type": "code",
   "execution_count": 5,
   "metadata": {
    "collapsed": true
   },
   "outputs": [],
   "source": [
    "registers = {\n",
    "    'a': 0,\n",
    "    'b': 0,\n",
    "    'c': 1,\n",
    "    'd': 0\n",
    "}"
   ]
  },
  {
   "cell_type": "code",
   "execution_count": 6,
   "metadata": {
    "collapsed": false
   },
   "outputs": [
    {
     "name": "stdout",
     "output_type": "stream",
     "text": [
      "answer 9227647\n"
     ]
    }
   ],
   "source": [
    "run()\n",
    "print('answer', registers['a'])"
   ]
  },
  {
   "cell_type": "markdown",
   "metadata": {},
   "source": [
    "== END =="
   ]
  }
 ],
 "metadata": {
  "kernelspec": {
   "display_name": "Python 3",
   "language": "python",
   "name": "python3"
  },
  "language_info": {
   "codemirror_mode": {
    "name": "ipython",
    "version": 3
   },
   "file_extension": ".py",
   "mimetype": "text/x-python",
   "name": "python",
   "nbconvert_exporter": "python",
   "pygments_lexer": "ipython3",
   "version": "3.5.2"
  }
 },
 "nbformat": 4,
 "nbformat_minor": 1
}
