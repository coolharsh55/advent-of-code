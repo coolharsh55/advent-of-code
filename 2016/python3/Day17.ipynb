{
 "cells": [
  {
   "cell_type": "markdown",
   "metadata": {},
   "source": [
    "# Day 17: Two Steps Forward\n",
    "\n",
    "author: Harshvardhan Pandit\n",
    "\n",
    "license: [MIT](https://opensource.org/licenses/MIT)\n",
    "\n",
    "[link to problem statement](http://adventofcode.com/2016/day/17)"
   ]
  },
  {
   "cell_type": "markdown",
   "metadata": {},
   "source": [
    "You're trying to access a secure vault protected by a `4x4` grid of small rooms connected by doors. You start in the top-left room (marked `S`), and you can access the vault (marked `V`) once you reach the bottom-right room:\n",
    "\n",
    "    #########\n",
    "    #S| | | #\n",
    "    #-#-#-#-#\n",
    "    # | | | #\n",
    "    #-#-#-#-#\n",
    "    # | | | #\n",
    "    #-#-#-#-#\n",
    "    # | | |  \n",
    "    ####### V\n",
    "    \n",
    "Fixed walls are marked with `#`, and doors are marked with `-` or `|`.\n",
    "\n",
    "The doors in your current room are either open or closed (and locked) based on the hexadecimal `MD5` hash of a passcode (your puzzle input) followed by a sequence of uppercase characters representing the path you have taken so far (`U for up, D for down, L for left, and R for right`).\n",
    "\n",
    "Only the first four characters of the hash are used; they represent, respectively, the doors up, down, left, and right from your current position. Any `b, c, d, e, or f` means that the corresponding door is open; any other character (`any number or a`) means that the corresponding door is closed and locked.\n",
    "\n",
    "To access the vault, all you need to do is reach the bottom-right room; reaching this room opens the vault and all doors in the maze.\n",
    "\n",
    "For example, suppose the passcode is `hijkl`. Initially, you have taken no steps, and so your path is empty: you simply find the MD5 hash of `hijkl` alone. The first four characters of this hash are `ced9`, which indicate that up is open (c), down is open (e), left is open (d), and right is closed and locked (9). Because you start in the top-left corner, there are no \"up\" or \"left\" doors to be open, so your only choice is down.\n",
    "\n",
    "Next, having gone only one step (down, or D), you find the hash of `hijklD`. This produces `f2bc`, which indicates that you can go back up, left (but that's a wall), or right. Going right means hashing `hijklDR` to get `5745` - all doors closed and locked. However, going up instead is worthwhile: even though it returns you to the room you started in, your path would then be DU, opening a different set of doors.\n",
    "\n",
    "After going `DU` (and then hashing `hijklDU` to get `528e`), only the right door is open; after going `DUR`, all doors lock. (Fortunately, your actual passcode is not hijkl).\n",
    "\n",
    "Passcodes actually used by Easter Bunny Vault Security do allow access to the vault if you know the right path. For example:\n",
    "\n",
    " - If your passcode were `ihgpwlah`, the shortest path would be `DDRRRD`.\n",
    " - With `kglvqrro`, the shortest path would be `DDUDRLRRUDRD`.\n",
    " - With `ulqzkmiv`, the shortest would be `DRURDRUDDLLDLUURRDULRLDUUDDDRR`.\n",
    "\n",
    "Given your vault's passcode, what is the shortest path (the actual path, not just the length) to reach the vault?"
   ]
  },
  {
   "cell_type": "markdown",
   "metadata": {},
   "source": [
    "### Solution logic\n",
    "\n",
    "This is quite similar to Day 13, where we had to find a short path through the maze. This time around, whether the next point is valid or not (its door is open or closed) depends on the path taken to reach there (so like life!).\n",
    "\n",
    "At any point, whether the doors are open or not is dependant on the path taken to reach that room. In specific, the MD5 checksum of the input string suffixed by the path - as directions abbreviated:\n",
    "\n",
    "    U    UP\n",
    "    D    DOWN\n",
    "    L    LEFT\n",
    "    R    RIGHT\n",
    "\n",
    "Therefore, the strategy to solve this must be the same as that used on Day 13, where we use a queue to store the paths we have traversed. There is a case that must be stated before we begin - this time, if we move back to a previous point, the doors that are open might change as the path itself has changed. So instead of a queue, we'll use a priority heap to store that paths and work only on those paths that have not been iterated yet.\n",
    "\n",
    "The priority will be the length of the path - this way, the agorithm will try to iterate over all the shorter paths first - of do a BFS (breadth-first-search). Another option to use instead of a heap is to use a sorted list. Python has the `bisect` module that can maintain a sorted list.\n",
    "    \n",
    "    import bisect\n",
    "    items = []\n",
    "    bisect.insort(items, element)\n",
    "    items.pop(0) <-- smallest element\n",
    "\n",
    "Algorithm:\n",
    "\n",
    " - initialize priority heap with the starting state\n",
    " - while heap has states:\n",
    "     - pop state <-- this will be the one with the most 'priority'\n",
    "     - check if state is end state:\n",
    "         - if yes, print answer and exit \n",
    "     - get all open doors:\n",
    "         - if next point is not valid, discard it\n",
    "         - append the direction to the current path\n",
    "         - push it back on the heap"
   ]
  },
  {
   "cell_type": "markdown",
   "metadata": {},
   "source": [
    "**Input and Test data**"
   ]
  },
  {
   "cell_type": "code",
   "execution_count": 1,
   "metadata": {
    "collapsed": true
   },
   "outputs": [],
   "source": [
    "with open('../inputs/day17.txt', 'r') as f:\n",
    "    path_string = f.readline().strip()\n",
    "\n",
    "TEST_DATA = (\n",
    "    'ihgpwlah',\n",
    "    'kglvqrro',\n",
    "    'ulqzkmiv'\n",
    ")"
   ]
  },
  {
   "cell_type": "markdown",
   "metadata": {},
   "source": [
    "**Point**\n",
    "\n",
    "As with before, having a namedtuple makes the code cleaner and easier to read."
   ]
  },
  {
   "cell_type": "code",
   "execution_count": 2,
   "metadata": {
    "collapsed": true
   },
   "outputs": [],
   "source": [
    "from collections import namedtuple\n",
    "Point = namedtuple('Point', ('x', 'y', 'path'))"
   ]
  },
  {
   "cell_type": "markdown",
   "metadata": {},
   "source": [
    "**Checksum**\n",
    "\n",
    "Calculating the checksum is simply taking the MD5 hash of it."
   ]
  },
  {
   "cell_type": "code",
   "execution_count": 3,
   "metadata": {
    "collapsed": true
   },
   "outputs": [],
   "source": [
    "import hashlib\n",
    "\n",
    "def md5(string):\n",
    "    md5 = hashlib.md5()\n",
    "    md5.update(string.encode('ascii'))\n",
    "    return md5.hexdigest()"
   ]
  },
  {
   "cell_type": "markdown",
   "metadata": {},
   "source": [
    "**Directions**\n",
    "\n",
    "We maintain a tuple of points for directions. This allows the direction to match the specific character in the checksum.\n",
    "\n",
    "    1st character signals open door --> 1st element in tuple gives direction"
   ]
  },
  {
   "cell_type": "code",
   "execution_count": 4,
   "metadata": {
    "collapsed": true
   },
   "outputs": [],
   "source": [
    "directions = (\n",
    "    Point(0, -1, 'U'),\n",
    "    Point(0, 1, 'D'),\n",
    "    Point(-1, 0, 'L'),\n",
    "    Point(1, 0, 'R')\n",
    ")"
   ]
  },
  {
   "cell_type": "markdown",
   "metadata": {},
   "source": [
    "**Start and End states**\n",
    "\n",
    "It is very important to know what _exactly_ is the starting and ending state of the algorithm. In this case, the ending state is the room at the very bottom right, with the co-ordinates `(3, 3)`. Since we do not know its path, and it is not required to declare it, we use `None` instead."
   ]
  },
  {
   "cell_type": "code",
   "execution_count": 5,
   "metadata": {
    "collapsed": true
   },
   "outputs": [],
   "source": [
    "start_point = Point(0, 0, path_string)\n",
    "end_point = Point(3, 3, None)"
   ]
  },
  {
   "cell_type": "markdown",
   "metadata": {},
   "source": [
    "**Validating points / moves**\n",
    "\n",
    "A point is valid if it stays within the boundaries of the `4 x 4` matrix."
   ]
  },
  {
   "cell_type": "code",
   "execution_count": 6,
   "metadata": {
    "collapsed": true
   },
   "outputs": [],
   "source": [
    "def valid_point(point):\n",
    "    if 0 <= point.x < 4 and 0 <= point.y < 4:\n",
    "        return True"
   ]
  },
  {
   "cell_type": "markdown",
   "metadata": {},
   "source": [
    "**Checking for open doors**\n",
    "\n",
    "We take the first four characters of the checksum, compare them against the given condition of being less than `10 or 'a'` which signlas a closed door. Return only directions that are valid - open doors.\n",
    "\n",
    "    'a' or less --> closed\n",
    "    others      --> open"
   ]
  },
  {
   "cell_type": "code",
   "execution_count": 7,
   "metadata": {
    "collapsed": true
   },
   "outputs": [],
   "source": [
    "def open_doors(checksum):\n",
    "    def is_open(character):\n",
    "        if character > 'a':\n",
    "            return True\n",
    "        return False\n",
    "    \n",
    "    return [\n",
    "        directions[index] \n",
    "        for index, character in enumerate(checksum[:4]) \n",
    "        if is_open(character)]"
   ]
  },
  {
   "cell_type": "markdown",
   "metadata": {},
   "source": [
    "**Heap**\n",
    "\n",
    "We declare a `states` list for holding the heap. The heap contains only the starting point at this time. While the length of the path string at this point is the length of the input, it is not a valid answer nor reflects the final path string. I chose to use the length of the entire string so as to avoid calculating the difference between the input string and the direction string everytime. It also makes code easier to read, _IMHO_."
   ]
  },
  {
   "cell_type": "code",
   "execution_count": 8,
   "metadata": {
    "collapsed": true
   },
   "outputs": [],
   "source": [
    "from heapq import heappush, heappop\n",
    "\n",
    "states = []\n",
    "heappush(states, (len(start_point.path), start_point))"
   ]
  },
  {
   "cell_type": "markdown",
   "metadata": {
    "collapsed": false
   },
   "source": [
    "**Run the algorithm**"
   ]
  },
  {
   "cell_type": "code",
   "execution_count": 9,
   "metadata": {
    "collapsed": false
   },
   "outputs": [
    {
     "name": "stdout",
     "output_type": "stream",
     "text": [
      "answer RDRLDRDURD\n"
     ]
    }
   ],
   "source": [
    "while states:\n",
    "    _, current_state = heappop(states)\n",
    "    if current_state.x == end_point.x and current_state.y == end_point.y:\n",
    "        print('answer', current_state.path[len(path_string):])\n",
    "        break\n",
    "    moves = open_doors(md5(current_state.path))\n",
    "    for move in moves:\n",
    "        new_path = Point(\n",
    "            current_state.x + move.x,\n",
    "            current_state.y + move.y,\n",
    "            current_state.path + move.path)\n",
    "        if not valid_point(new_path):\n",
    "            continue\n",
    "        heappush(states, (len(new_path.path), new_path))        "
   ]
  },
  {
   "cell_type": "markdown",
   "metadata": {},
   "source": [
    "## Part Two\n",
    "\n",
    "You're curious how robust this security solution really is, and so you decide to find longer and longer paths which still provide access to the vault. You remember that paths always end the first time they reach the bottom-right room (that is, they can never pass through it, only end in it).\n",
    "\n",
    "For example:\n",
    "\n",
    " - If your passcode were `ihgpwlah`, the longest path would take `370` steps.\n",
    " - With `kglvqrro`, the longest path would be `492` steps long.\n",
    " - With `ulqzkmiv`, the longest path would be `830` steps long.\n",
    " \n",
    "What is the length of the _longest_ path that reaches the vault?"
   ]
  },
  {
   "cell_type": "markdown",
   "metadata": {},
   "source": [
    "### Solution logic\n",
    "\n",
    "Now instead of finding the shortest path, we have to find the longest path. While earlier we used BFS, which was great for iterating over shorter path lengths, this time, we must use [DFS (depth-first-search)](https://en.wikipedia.org/wiki/Depth-first_search) to iterate over the longer branches first. This won't make much of a difference, as we have to iterate all paths anyways.\n",
    "\n",
    "In depth first search, instead of a heap or queue, we use a `stack` where we insert and remove elements from the end. This allows consecutive iteration of the last state - hence giving it depth. \n",
    "\n",
    "We store the lengths of all paths reaching the end point, and later retrieve the largest of them.\n",
    "\n",
    "Note: The paths stored are prefixed with the input, therefore for the final answer, it is necessary to subtract the length of the input string from it."
   ]
  },
  {
   "cell_type": "code",
   "execution_count": 10,
   "metadata": {
    "collapsed": false
   },
   "outputs": [
    {
     "name": "stdout",
     "output_type": "stream",
     "text": [
      "answer 596\n"
     ]
    }
   ],
   "source": [
    "states = [(0, start_point)]\n",
    "paths = []\n",
    "\n",
    "while states:\n",
    "    _, current_state = states.pop()\n",
    "    if current_state.x == end_point.x and current_state.y == end_point.y:\n",
    "        # print(len(current_state.path))\n",
    "        paths.append(len(current_state.path))\n",
    "        continue\n",
    "    moves = open_doors(md5(current_state.path))\n",
    "    for move in moves:\n",
    "        new_path = Point(\n",
    "            current_state.x + move.x,\n",
    "            current_state.y + move.y,\n",
    "            current_state.path + move.path)\n",
    "        if not valid_point(new_path):\n",
    "            continue\n",
    "        states.append((len(new_path.path), new_path))\n",
    "\n",
    "print('answer', max(paths) - len(path_string))"
   ]
  },
  {
   "cell_type": "markdown",
   "metadata": {},
   "source": [
    "== END =="
   ]
  }
 ],
 "metadata": {
  "kernelspec": {
   "display_name": "Python 3",
   "language": "python",
   "name": "python3"
  },
  "language_info": {
   "codemirror_mode": {
    "name": "ipython",
    "version": 3
   },
   "file_extension": ".py",
   "mimetype": "text/x-python",
   "name": "python",
   "nbconvert_exporter": "python",
   "pygments_lexer": "ipython3",
   "version": "3.5.2"
  }
 },
 "nbformat": 4,
 "nbformat_minor": 1
}
