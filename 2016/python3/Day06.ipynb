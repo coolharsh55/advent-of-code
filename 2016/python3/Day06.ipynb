{
 "cells": [
  {
   "cell_type": "markdown",
   "metadata": {},
   "source": [
    "# Day 6: Signals and Noise\n",
    "\n",
    "author: Harshvardhan Pandit\n",
    "\n",
    "license: [MIT](https://opensource.org/licenses/MIT)\n",
    "\n",
    "[link to problem statement](http://adventofcode.com/2016/day/6)"
   ]
  },
  {
   "cell_type": "markdown",
   "metadata": {},
   "source": [
    "Something is jamming your communications with Santa. Fortunately, your signal is only partially jammed, and protocol in situations like this is to switch to a [simple repetition](https://en.wikipedia.org/wiki/Repetition_code) code to get the message through.\n",
    "\n",
    "In this model, the same message is sent repeatedly. You've recorded the repeating message signal (your puzzle input), but the data seems quite corrupted - almost too badly to recover. Almost.\n",
    "\n",
    "All you need to do is figure out which character is most frequent for each position. For example, suppose you had recorded the following messages:\n",
    "\n",
    "    eedadn\n",
    "    drvtee\n",
    "    eandsr\n",
    "    raavrd\n",
    "    atevrs\n",
    "    tsrnev\n",
    "    sdttsa\n",
    "    rasrtv\n",
    "    nssdts\n",
    "    ntnada\n",
    "    svetve\n",
    "    tesnvt\n",
    "    vntsnd\n",
    "    vrdear\n",
    "    dvrsen\n",
    "    enarar\n",
    "    \n",
    "The most common character in the first column is `e`; in the second, `a`; in the third, `s`, and so on. Combining these characters returns the error-corrected message, `easter`.\n",
    "\n",
    "Given the recording in your puzzle input, what is the error-corrected version of the message being sent?"
   ]
  },
  {
   "cell_type": "markdown",
   "metadata": {},
   "source": [
    "### Solution logic\n",
    "So all we need to do here is to keep track of which characters are the most frequent at the given position? Hah! Easy-peasy. We'll simply use the `Counter` from `collections`, which I've described in a previous puzzle. We need counters for each position in the input. We're making a few assumptions here:\n",
    "\n",
    "    - all input lines are of the same length\n",
    "    - what happens in case of ties is not specified, so we will not deal with it\n",
    "\n",
    "To create the appropriate number of counters, we inspect the first line and then create as many counters as its length, and store them in a list. This way, we can match the specific index of the counter with the index in the string. To get the most common element from the counter, we use the `most_common(n)` method, which returns `n` most common elements (we want only 1).\n",
    "\n",
    "#### Algorithm\n",
    "    - Read input\n",
    "    - Create a list of counters of length as the first line of input\n",
    "    - For each line in input:\n",
    "        - For each character in input, add character to counter\n",
    "    - For each counter, get the most common character"
   ]
  },
  {
   "cell_type": "code",
   "execution_count": 1,
   "metadata": {
    "collapsed": false
   },
   "outputs": [],
   "source": [
    "with open('../inputs/day06.txt', 'r') as f:\n",
    "    data = [line.strip() for line in f.readlines()]"
   ]
  },
  {
   "cell_type": "markdown",
   "metadata": {},
   "source": [
    "Creating counters"
   ]
  },
  {
   "cell_type": "code",
   "execution_count": 2,
   "metadata": {
    "collapsed": false
   },
   "outputs": [],
   "source": [
    "from collections import Counter\n",
    "counters = [Counter() for i in range(0, len(data[0]))]"
   ]
  },
  {
   "cell_type": "markdown",
   "metadata": {},
   "source": [
    "Reading characters from input, and counting them. To add an item to the counter, simply increment its value."
   ]
  },
  {
   "cell_type": "code",
   "execution_count": 3,
   "metadata": {
    "collapsed": true
   },
   "outputs": [],
   "source": [
    "for line in data:\n",
    "    for index, char in enumerate(line):\n",
    "        counters[index][char] += 1"
   ]
  },
  {
   "cell_type": "markdown",
   "metadata": {},
   "source": [
    "Get the most common element from each counter. Since the `most_common` method returns a list of tuples (key-value), we need to access the first element from each of them respectively. And finally join them together into a string to get the string."
   ]
  },
  {
   "cell_type": "code",
   "execution_count": 4,
   "metadata": {
    "collapsed": false
   },
   "outputs": [],
   "source": [
    "answer = ''.join([counter.most_common(1)[0][0] for counter in counters])"
   ]
  },
  {
   "cell_type": "markdown",
   "metadata": {},
   "source": [
    "## Part Two\n",
    "Of course, that would be the message - if you hadn't agreed to use a modified repetition code instead.\n",
    "\n",
    "In this modified code, the sender instead transmits what looks like random data, but for each character, the character they actually want to send is slightly less likely than the others. Even after signal-jamming noise, you can look at the letter distributions in each column and choose the least common letter to reconstruct the original message.\n",
    "\n",
    "In the above example, the least common character in the first column is `a`; in the second, `d`, and so on. Repeating this process for the remaining characters produces the original message, `advent`.\n",
    "\n",
    "Given the recording in your puzzle input and this new decoding methodology, what is the original message that Santa is trying to send?"
   ]
  },
  {
   "cell_type": "markdown",
   "metadata": {},
   "source": [
    "### Solution logic\n",
    "Small change - instead of most common, we now need the least common characters from the counters. Thankfully, since the counter returns a nice sorted list in `most_common`, we can use that to get the least common element - it's the one that is last!!!\n",
    "\n",
    "    characters = counter.most_common()[-1]\n",
    "\n",
    "That being done, we combine the characters back into a string to get the answer."
   ]
  },
  {
   "cell_type": "code",
   "execution_count": 5,
   "metadata": {
    "collapsed": false
   },
   "outputs": [],
   "source": [
    "answer = ''.join([counter.most_common()[-1][0] for counter in counters])"
   ]
  },
  {
   "cell_type": "markdown",
   "metadata": {},
   "source": [
    "== END =="
   ]
  }
 ],
 "metadata": {
  "kernelspec": {
   "display_name": "Python 3",
   "language": "python",
   "name": "python3"
  },
  "language_info": {
   "codemirror_mode": {
    "name": "ipython",
    "version": 3
   },
   "file_extension": ".py",
   "mimetype": "text/x-python",
   "name": "python",
   "nbconvert_exporter": "python",
   "pygments_lexer": "ipython3",
   "version": "3.5.2"
  }
 },
 "nbformat": 4,
 "nbformat_minor": 1
}
