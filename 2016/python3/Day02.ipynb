{
 "cells": [
  {
   "cell_type": "markdown",
   "metadata": {},
   "source": [
    "# Day 2: Bathroom Security\n",
    "author: Harshvardhan Pandit\n",
    "\n",
    "license: [MIT](https://opensource.org/licenses/MIT)\n",
    "\n",
    "[link to problem statement](http://adventofcode.com/2016/day/2)"
   ]
  },
  {
   "cell_type": "markdown",
   "metadata": {},
   "source": [
    "You arrive at Easter Bunny Headquarters under cover of darkness. However, you left in such a rush that you forgot to use the bathroom! Fancy office buildings like this one usually have keypad locks on their bathrooms, so you search the front desk for the code.\n",
    "\n",
    "\"In order to improve security,\" the document you find says, \"bathroom codes will no longer be written down. Instead, please memorize and follow the procedure below to access the bathrooms.\"\n",
    "\n",
    "The document goes on to explain that each button to be pressed can be found by starting on the previous button and moving to adjacent buttons on the keypad: U moves up, D moves down, L moves left, and R moves right. Each line of instructions corresponds to one button, starting at the previous button (or, for the first line, the \"5\" button); press whatever button you're on at the end of each line. If a move doesn't lead to a button, ignore it.\n",
    "\n",
    "You can't hold it much longer, so you decide to figure out the code as you walk to the bathroom. You picture a keypad like this:\n",
    "\n",
    "    1 2 3\n",
    "    4 5 6\n",
    "    7 8 9\n",
    "    \n",
    "Suppose your instructions are:\n",
    "\n",
    "    ULL\n",
    "    RRDDD\n",
    "    LURDL\n",
    "    UUUUD\n",
    "\n",
    "You start at `\"5\"` and move up (to `\"2\"`), left (to `\"1\"`), and left (you can't, and stay on `\"1\"`), so the first button is `1`.\n",
    "\n",
    "Starting from the previous button (`\"1\"`), you move right twice (to `\"3\"`) and then down three times (stopping at `\"9\"` after two moves and ignoring the third), ending up with `9`.\n",
    "\n",
    "Continuing from `\"9\"`, you move left, up, right, down, and left, ending with `8`.\n",
    "Finally, you move up four times (stopping at `\"2\"`), then down once, ending with `5`.\n",
    "So, in this example, the bathroom code is `1985`.\n",
    "\n",
    "Your puzzle input is the instructions from the document you found at the front desk. What is the bathroom code?"
   ]
  },
  {
   "cell_type": "markdown",
   "metadata": {},
   "source": [
    "### Solution logic\n",
    "\n",
    "This is quite similar to the previous problem. We have a grid that we traverse. In this case, it is a fixed grid, with only 9 points. For simplicity, we can select 7 as the origin so that all points lie in the first quadrant (all values are positive). Every movement (left, right, up, down) can be mapped into a movement along the axis.\n",
    "\n",
    "Alternatively, we can start at `1 (0,0)` as this allows some simple math to get the position of the number using mod and division. To get the number from the position, we do (`y * 3 + x + 1`).\n",
    "\n",
    "Which gives us:\n",
    "\n",
    "    NUMBER    9-origin    1-origin    (y * 3)  (x + 1)  (y * 3 + x + 1)\n",
    "      1         (0,2)       (0,0)       0        1        1\n",
    "      2         (1,2)       (1,0)       0        2        2\n",
    "      3         (2,2)       (2,0)       0        3        3\n",
    "      4         (0,1)       (0,1)       3        1        4\n",
    "      5         (1,1)       (1,1)       3        2        5\n",
    "      6         (2,1)       (2,1)       3        3        6\n",
    "      7         (0,0)       (0,2)       3        1        7\n",
    "      8         (1,0)       (1,2)       3        2        8\n",
    "      9         (2,0)       (2,2)       3        3        9\n",
    "\n",
    "    SYMBOL    DIRECTION    X-AXIS    Y-AXIS\n",
    "    L         LEFT         -1        0\n",
    "    R         RIGHT        +1        0\n",
    "    U         UP           0         -1\n",
    "    D         DOWN         0         +1\n",
    "\n",
    "To prevent the values from going _out of bounds_, we take the `mod` of each operation with an upper bound for each direction. To put it simply - we _cap_ the values of each direction.\n",
    "\n",
    "    DIRECTION     CAPPED VALUE                   FUNCTION\n",
    "    UP            3 (max value is 2)             x % 3\n",
    "    DOWN          0 (max value is 0, min is 2)   x < 0 ? 0 : x\n",
    "    LEFT          0 (max value is 0, min is 2)   x < 0 ? 0 : x\n",
    "    RIGHT         3 (max value is 2)             x % 3\n",
    "\n",
    "**Algorithm:**\n",
    "    - Set starting position to number 5 (1,1)\n",
    "    - For each line of input, do the following (handle as a different number)\n",
    "    - Tokenise each character, and identify the direction\n",
    "    - Apply the direction mask to the position and apply the capping function\n",
    "    - At the end of input, add the number of code (as a string, just append it)"
   ]
  },
  {
   "cell_type": "markdown",
   "metadata": {},
   "source": [
    "#### Get number from co-ordinate\n",
    "\n",
    "Apply the function to get the number"
   ]
  },
  {
   "cell_type": "code",
   "execution_count": 1,
   "metadata": {
    "collapsed": true
   },
   "outputs": [],
   "source": [
    "def numpad_number_from_point(point):\n",
    "    return str(point.y * 3 + point.x + 1)"
   ]
  },
  {
   "cell_type": "markdown",
   "metadata": {},
   "source": [
    "#### Point\n",
    "Since each movement is along some direction, we go about this in a very pretentious and _academic_ way. By declaring classes and objects and functions for everything. The end logic is a clean layout of the solution.\n",
    "\n",
    "The **Point** class has attributes `x` and `y`. We use setter and getter to set the _caps_ on these values."
   ]
  },
  {
   "cell_type": "code",
   "execution_count": 2,
   "metadata": {
    "collapsed": true
   },
   "outputs": [],
   "source": [
    "class Point:\n",
    "    def __init__(self, x=0, y=0):\n",
    "        self._x, self._y = x, y\n",
    "    \n",
    "    @property\n",
    "    def x(self):\n",
    "        return self._x\n",
    "    \n",
    "    @property\n",
    "    def y(self):\n",
    "        return self._y\n",
    "    \n",
    "    @x.setter\n",
    "    def x(self, value):\n",
    "        if 0 <= value <= 2:\n",
    "            self._x = value\n",
    "    \n",
    "    @y.setter\n",
    "    def y(self, value):\n",
    "        if 0 <= value <= 2:\n",
    "            self._y = value  \n",
    "    \n",
    "    def __str__(self):\n",
    "        return '(%s, %s)' % (self._x, self._y)\n",
    "        "
   ]
  },
  {
   "cell_type": "markdown",
   "metadata": {},
   "source": [
    "#### Directions\n",
    "We use a dictionary to store the directions and the masks they represent. Each mask is a `namedtuple` having attributes `x` and `y`."
   ]
  },
  {
   "cell_type": "code",
   "execution_count": 3,
   "metadata": {
    "collapsed": true
   },
   "outputs": [],
   "source": [
    "from collections import namedtuple\n",
    "Mask = namedtuple('Mask', ('x', 'y'))\n",
    "directions = {\n",
    "    'U': Mask(0, -1),\n",
    "    'D': Mask(0, 1),\n",
    "    'L': Mask(-1, 0),\n",
    "    'R': Mask(1, 0),\n",
    "}"
   ]
  },
  {
   "cell_type": "markdown",
   "metadata": {},
   "source": [
    "### Solve\n",
    "`code` holds the input code, and is a string."
   ]
  },
  {
   "cell_type": "code",
   "execution_count": 4,
   "metadata": {
    "collapsed": true
   },
   "outputs": [],
   "source": [
    "code = ''"
   ]
  },
  {
   "cell_type": "markdown",
   "metadata": {},
   "source": [
    "`point` is the point we are moving on the graph"
   ]
  },
  {
   "cell_type": "code",
   "execution_count": 5,
   "metadata": {
    "collapsed": false
   },
   "outputs": [],
   "source": [
    "point = Point(1, 1)"
   ]
  },
  {
   "cell_type": "markdown",
   "metadata": {},
   "source": [
    "Reading in the input from file"
   ]
  },
  {
   "cell_type": "code",
   "execution_count": 6,
   "metadata": {
    "collapsed": true
   },
   "outputs": [],
   "source": [
    "with open('../inputs/day02.txt', 'r') as f:\n",
    "    data = f.readlines()"
   ]
  },
  {
   "cell_type": "markdown",
   "metadata": {},
   "source": [
    "Define a function that will parse the number from each line of input. We supply it the line."
   ]
  },
  {
   "cell_type": "code",
   "execution_count": 7,
   "metadata": {
    "collapsed": true
   },
   "outputs": [],
   "source": [
    "def calculate_number(line):\n",
    "    for char in line:\n",
    "        mask = directions[char]\n",
    "        point.x += mask.x\n",
    "        point.y += mask.y\n",
    "    return numpad_number_from_point(point)"
   ]
  },
  {
   "cell_type": "code",
   "execution_count": 8,
   "metadata": {
    "collapsed": false
   },
   "outputs": [],
   "source": [
    "for line in data:\n",
    "    code += calculate_number(line.strip())"
   ]
  },
  {
   "cell_type": "markdown",
   "metadata": {},
   "source": [
    "Answer lies in the variable `code`"
   ]
  },
  {
   "cell_type": "markdown",
   "metadata": {},
   "source": [
    "## Part Two\n",
    "You finally arrive at the bathroom (it's a several minute walk from the lobby so visitors can behold the many fancy conference rooms and water coolers on this floor) and go to punch in the code. Much to your bladder's dismay, the keypad is not at all like you imagined it. Instead, you are confronted with the result of hundreds of man-hours of bathroom-keypad-design meetings:\n",
    "\n",
    "        1\n",
    "      2 3 4\n",
    "    5 6 7 8 9\n",
    "      A B C\n",
    "        D\n",
    "\n",
    "You still start at \"5\" and stop when you're at an edge, but given the same instructions as above, the outcome is very different:\n",
    "\n",
    "You start at \"5\" and don't move at all (up and left are both edges), ending at 5.\n",
    "\n",
    "Continuing from \"5\", you move right twice and down three times (through \"6\", \"7\", \"B\", \"D\", \"D\"), ending at D.\n",
    "\n",
    "Then, from \"D\", you move five more times (through \"D\", \"B\", \"C\", \"C\", \"B\"), ending at B.\n",
    "\n",
    "Finally, after five more moves, you end at 3.\n",
    "\n",
    "So, given the actual keypad layout, the code would be `5DB3`.\n",
    "\n",
    "Using the same instructions in your puzzle input, what is the correct bathroom code?"
   ]
  },
  {
   "cell_type": "markdown",
   "metadata": {},
   "source": [
    "### Solution logic\n",
    "Since the keypad design has changed, we need to change our approach as well. In the new keypad, the grid is no longer symmetrical, so we cannot apply the `mod` logic to this keypad. The simplest approach would be to define each point in a dictionary with their co-ordinates, starting with `7` as the origin. This would allow the points to span in all four quadrants. Then we need to change the setters to accomodate the new co-ordinates, and finally, the numpad function to get the correct number using the dictionary.\n",
    "\n",
    "#### Numbers\n",
    "The numbers dictionary holds the co-ordinates for each key on the numpad. At the end, we can simply lookup the co-ordinate points and get the corresponding number. The `number_keys` allows the _easier_ declaration of syntax, which is then inverted using the `numbers_values` dictionary."
   ]
  },
  {
   "cell_type": "code",
   "execution_count": 9,
   "metadata": {
    "collapsed": false
   },
   "outputs": [],
   "source": [
    "numbers_keys = {\n",
    "    '1': Mask(0, 2),\n",
    "    '2': Mask(-1, 1),\n",
    "    '3': Mask(0, 1),\n",
    "    '4': Mask(1, 1),\n",
    "    '5': Mask(-2, 0),\n",
    "    '6': Mask(-1, 0),\n",
    "    '7': Mask(0, 0),\n",
    "    '8': Mask(1, 0),\n",
    "    '9': Mask(2, 0),\n",
    "    'A': Mask(-1, -1),\n",
    "    'B': Mask(0, -1),\n",
    "    'C': Mask(1, -1),\n",
    "    'D': Mask(0, -2)\n",
    "}\n",
    "numbers_values = {v:k for k,v in numbers_keys.items()}"
   ]
  },
  {
   "cell_type": "markdown",
   "metadata": {},
   "source": [
    "#### Point\n",
    "We redefine the point class with updated `setters` for `x` and `y`. The new setters do nothing, and the actual update is done through the `xy` method, which takes in the two values. This checks whether the given values are in the correct range."
   ]
  },
  {
   "cell_type": "code",
   "execution_count": 10,
   "metadata": {
    "collapsed": true
   },
   "outputs": [],
   "source": [
    "class Point:\n",
    "    def __init__(self, x=0, y=0):\n",
    "        self._x, self._y = x, y\n",
    "    \n",
    "    @property\n",
    "    def x(self):\n",
    "        return self._x\n",
    "    \n",
    "    @property\n",
    "    def y(self):\n",
    "        return self._y\n",
    "    \n",
    "    @x.setter\n",
    "    def x(self, value):\n",
    "        pass\n",
    "    \n",
    "    @y.setter\n",
    "    def y(self, value):\n",
    "        pass\n",
    "    \n",
    "    def xy(self, x, y):\n",
    "        if (\n",
    "            (-2 <= x <= 2 and y == 0) or\n",
    "            (-1 <= x <= 1 and -1 <= y <= 1) or\n",
    "            (x == 0 and -2 <= y <= 2)):\n",
    "                \n",
    "            self._x, self._y = x, y            \n",
    "    \n",
    "    def __str__(self):\n",
    "        return '(%s, %s)' % (self._x, self._y)\n",
    "    \n",
    "    def __repr__(self):\n",
    "        return '(%s, %s)' % (self._x, self._y)\n",
    "        "
   ]
  },
  {
   "cell_type": "markdown",
   "metadata": {},
   "source": [
    "#### Calculate Number\n",
    "The updated method uses the new `xy` method to assign the values. Since we assume `point` to be global (in this scope), we directly use it."
   ]
  },
  {
   "cell_type": "code",
   "execution_count": 11,
   "metadata": {
    "collapsed": false
   },
   "outputs": [],
   "source": [
    "def calculate_number(line):\n",
    "    for char in line:\n",
    "        mask = directions[char]\n",
    "        point.xy(point.x + mask.x, point.y + mask.y)"
   ]
  },
  {
   "cell_type": "markdown",
   "metadata": {},
   "source": [
    "`keys` holds the characters of the keypad code"
   ]
  },
  {
   "cell_type": "code",
   "execution_count": 12,
   "metadata": {
    "collapsed": false
   },
   "outputs": [],
   "source": [
    "keys = []"
   ]
  },
  {
   "cell_type": "markdown",
   "metadata": {},
   "source": [
    "#### Directions\n",
    "We must also update the directions, as we have changed the order of the numbers on the keypad. This involves reversing the sign of the `UP` and `DOWN` directions."
   ]
  },
  {
   "cell_type": "code",
   "execution_count": 13,
   "metadata": {
    "collapsed": true
   },
   "outputs": [],
   "source": [
    "directions = {\n",
    "    'U': Mask(0, 1),\n",
    "    'D': Mask(0, -1),\n",
    "    'L': Mask(-1, 0),\n",
    "    'R': Mask(1, 0),\n",
    "}"
   ]
  },
  {
   "cell_type": "markdown",
   "metadata": {},
   "source": [
    "#### Point\n",
    "The starting point for this problem is `5`, which we retrieve using the dictionary."
   ]
  },
  {
   "cell_type": "code",
   "execution_count": 14,
   "metadata": {
    "collapsed": true
   },
   "outputs": [],
   "source": [
    "point = Point(*numbers_keys['5'])"
   ]
  },
  {
   "cell_type": "markdown",
   "metadata": {},
   "source": [
    "#### Keypad code\n",
    "We run the keypad code over each line and store the result in keys."
   ]
  },
  {
   "cell_type": "code",
   "execution_count": 15,
   "metadata": {
    "collapsed": true
   },
   "outputs": [],
   "source": [
    "for line in data:\n",
    "    calculate_number(line.strip())\n",
    "    keys.append(numbers_values[Mask(point.x, point.y)])"
   ]
  },
  {
   "cell_type": "code",
   "execution_count": 16,
   "metadata": {
    "collapsed": false
   },
   "outputs": [],
   "source": [
    "answer = ''.join(keys)"
   ]
  },
  {
   "cell_type": "markdown",
   "metadata": {},
   "source": [
    "== END =="
   ]
  }
 ],
 "metadata": {
  "kernelspec": {
   "display_name": "Python 3",
   "language": "python",
   "name": "python3"
  },
  "language_info": {
   "codemirror_mode": {
    "name": "ipython",
    "version": 3
   },
   "file_extension": ".py",
   "mimetype": "text/x-python",
   "name": "python",
   "nbconvert_exporter": "python",
   "pygments_lexer": "ipython3",
   "version": "3.5.2"
  }
 },
 "nbformat": 4,
 "nbformat_minor": 1
}
