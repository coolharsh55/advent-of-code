{
 "cells": [
  {
   "cell_type": "markdown",
   "metadata": {},
   "source": [
    "# Day 5: How About a Nice Game of Chess?\n",
    "\n",
    "author: Harshvardhan Pandit\n",
    "\n",
    "license: [MIT](https://opensource.org/licenses/MIT)\n",
    "\n",
    "[link to problem statement](http://adventofcode.com/2016/day/5)"
   ]
  },
  {
   "cell_type": "markdown",
   "metadata": {},
   "source": [
    "You are faced with a security door designed by Easter Bunny engineers that seem to have acquired most of their security knowledge by watching [hacking movies](https://en.wikipedia.org/wiki/Hackers_(film)).\n",
    "\n",
    "The eight-character password for the door is generated one character at a time by finding the [MD5](https://en.wikipedia.org/wiki/MD5) hash of some Door ID (your puzzle input) and an increasing integer index (starting with 0).\n",
    "\n",
    "A hash indicates the next character in the password if its [hexadecimal](https://en.wikipedia.org/wiki/Hexadecimal) representation starts with five zeroes. If it does, the sixth character in the hash is the next character of the password.\n",
    "\n",
    "For example, if the Door ID is abc:\n",
    "\n",
    "    - The first index which produces a hash that starts with five zeroes is `3231929`, which we find by hashing `abc3231929`; the sixth character of the hash, and thus the first character of the password, is `1`.\n",
    "    - `5017308` produces the next interesting hash, which starts with `000008f82`..., so the second character of the password is `8`.\n",
    "    - The third time a hash starts with five zeroes is for `abc5278568`, discovering the character f.\n",
    "\n",
    "In this example, after continuing this search a total of eight times, the password is `18f47a30`.\n",
    "\n",
    "Given the actual Door ID, what is the password?"
   ]
  },
  {
   "cell_type": "markdown",
   "metadata": {},
   "source": [
    "### Solution logic\n",
    "The password is _eight_ characters long, so any loop or condition we run needs to have that many iterations. Python has a handy way to calculate the MD5 hash using `hashlib` module.\n",
    "\n",
    "    import hashlib\n",
    "    md5 = hashlib.md5()\n",
    "    md5.update('string-here')\n",
    "    md5.hexdigest()\n",
    "\n",
    "Next, we need to keep track of the integers we are suffixing the door ID with. Starting from 0, without any upper limit. Once the MD5 is calculated, it is of interest only when it starts with 5 zeroes. So we check if the string starts with `'00000'`\n",
    "\n",
    "    md5.startswith('00000')\n",
    "    \n",
    "If it does, we append the sixth character as the password.\n",
    "\n",
    "#### Algorithm\n",
    "    - set password to empty string\n",
    "    - set hash_suffix to 0\n",
    "    - while password length is not 6:\n",
    "        - append hash_suffix to door ID\n",
    "        - take MD5\n",
    "        - check if it starts with '00000'\n",
    "                - if it does, append sixth character to password\n",
    "        - increment hash_suffix by 1\n",
    "\n",
    "#### Input\n",
    "The input for this puzzle is a single line, but I still store it in an input file so as to make it available to any other scritps written in the future."
   ]
  },
  {
   "cell_type": "code",
   "execution_count": 1,
   "metadata": {
    "collapsed": false
   },
   "outputs": [],
   "source": [
    "with open('../inputs/day05.txt', 'r') as f:\n",
    "    door_id = f.readline().strip()"
   ]
  },
  {
   "cell_type": "markdown",
   "metadata": {},
   "source": [
    "Initialising variables, importing libraries"
   ]
  },
  {
   "cell_type": "code",
   "execution_count": 2,
   "metadata": {
    "collapsed": true
   },
   "outputs": [],
   "source": [
    "import hashlib\n",
    "password = ''\n",
    "hash_suffix = 0"
   ]
  },
  {
   "cell_type": "code",
   "execution_count": 3,
   "metadata": {
    "collapsed": false
   },
   "outputs": [],
   "source": [
    "while len(password) != 8:\n",
    "    string = door_id + str(hash_suffix)\n",
    "    md5 = hashlib.md5()\n",
    "    md5.update(string.encode('ascii'))\n",
    "    md5hash = md5.hexdigest()\n",
    "    if md5hash.startswith('00000'):\n",
    "        password += md5hash[5]\n",
    "    hash_suffix += 1"
   ]
  },
  {
   "cell_type": "markdown",
   "metadata": {},
   "source": [
    "## Part Two\n",
    "As the door slides open, you are presented with a second door that uses a slightly more inspired security mechanism. Clearly unimpressed by the last version (in what movie is the password decrypted in order?!), the Easter Bunny engineers have worked out [a better solution](https://www.youtube.com/watch?v=NHWjlCaIrQo&t=25).\n",
    "\n",
    "Instead of simply filling in the password from left to right, the hash now also indicates the position within the password to fill. You still look for hashes that begin with five zeroes; however, now, the sixth character represents the position `(0-7)`, and the seventh character is the character to put in that position.\n",
    "\n",
    "A hash result of `000001f` means that `f` is the second character in the password. Use only the first result for each position, and ignore invalid positions.\n",
    "\n",
    "For example, if the Door ID is `abc`:\n",
    "\n",
    "    - The first interesting hash is from `abc3231929`, which produces `0000015`...; so, `5` goes in position `1`: `_5______`.\n",
    "    - In the previous method, `5017308` produced an interesting hash; however, it is ignored, because it specifies an invalid position `(8)`.\n",
    "    - The second interesting hash is at index `5357525`, which produces `000004e`...; so, e goes in position `4`: `_5__e___`.\n",
    "\n",
    "You almost choke on your popcorn as the final character falls into place, producing the password `05ace8e3`.\n",
    "\n",
    "Given the actual Door ID and this new method, what is the password? Be extra proud of your solution if it uses a cinematic \"decrypting\" animation."
   ]
  },
  {
   "cell_type": "markdown",
   "metadata": {},
   "source": [
    "### Solution logic\n",
    "Not much has changed from the last puzzle. We still calculate the MD5 hash as before. However, we now have an extra condition to check whether the hash is valid. The _sixth_ character now represents the position of the character in the password. The _seventh_ character is the actual password character. So we need some way to store password characters with positions. An easy approach would be a list pre-filled with _eight_ `None` values. This makes it trivial to store the password characters by index.\n",
    "\n",
    "    password = [None for i in range(0, 8)]\n",
    "\n",
    "To check whether the position parameter is valid, we need to ensure that it is in the range `0..7` (8 total). \n",
    "\n",
    "    '0' <= ch <= '7'\n",
    "\n",
    "And also whether the character at that position has already been filled\n",
    "\n",
    "    password[ch -'0'] is not None\n",
    "    \n",
    "The `ch - '0'` converts the ascii digit to its numerical value. Another way to do that is to use `int(ch)`.\n",
    "\n",
    "Instead of using length of the list, we now explicitly keep a track of password character count, since `len(password)` will always be `8`."
   ]
  },
  {
   "cell_type": "code",
   "execution_count": 4,
   "metadata": {
    "collapsed": true
   },
   "outputs": [],
   "source": [
    "password_char_count = 0\n",
    "password = [None for i in range(0, 8)]\n",
    "hash_suffix = 0"
   ]
  },
  {
   "cell_type": "code",
   "execution_count": 5,
   "metadata": {
    "collapsed": false
   },
   "outputs": [
    {
     "data": {
      "text/plain": [
       "'424a0197'"
      ]
     },
     "execution_count": 5,
     "metadata": {},
     "output_type": "execute_result"
    }
   ],
   "source": [
    "while password_char_count != 8:\n",
    "    string = door_id + str(hash_suffix)\n",
    "    hash_suffix += 1\n",
    "    md5 = hashlib.md5()\n",
    "    md5.update(string.encode('ascii'))\n",
    "    md5hash = md5.hexdigest()\n",
    "    if not md5hash.startswith('00000'):\n",
    "        continue\n",
    "    if not md5hash[5].isdigit():\n",
    "        continue\n",
    "    position_char = int(md5hash[5])\n",
    "    if 0 <= position_char <= 7 and password[position_char] is None:\n",
    "        password[position_char] = md5hash[6]\n",
    "        password_char_count += 1\n",
    "''.join(password)"
   ]
  },
  {
   "cell_type": "markdown",
   "metadata": {},
   "source": [
    "== END =="
   ]
  }
 ],
 "metadata": {
  "kernelspec": {
   "display_name": "Python 3",
   "language": "python",
   "name": "python3"
  },
  "language_info": {
   "codemirror_mode": {
    "name": "ipython",
    "version": 3
   },
   "file_extension": ".py",
   "mimetype": "text/x-python",
   "name": "python",
   "nbconvert_exporter": "python",
   "pygments_lexer": "ipython3",
   "version": "3.5.2"
  }
 },
 "nbformat": 4,
 "nbformat_minor": 1
}
